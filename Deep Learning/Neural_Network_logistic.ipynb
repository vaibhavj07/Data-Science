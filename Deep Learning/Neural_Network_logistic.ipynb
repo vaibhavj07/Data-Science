{
 "cells": [
  {
   "cell_type": "code",
   "execution_count": 2,
   "id": "a7b35d36",
   "metadata": {},
   "outputs": [],
   "source": [
    "from sklearn.datasets import make_classification\n",
    "from sklearn.linear_model import SGDClassifier\n",
    "\n",
    "import pandas as pd\n",
    "import numpy as np"
   ]
  },
  {
   "cell_type": "code",
   "execution_count": 7,
   "id": "e634ccec",
   "metadata": {},
   "outputs": [],
   "source": [
    "class_data = make_classification(n_samples=100, n_features=4, random_state=1)"
   ]
  },
  {
   "cell_type": "code",
   "execution_count": 8,
   "id": "669a6afa",
   "metadata": {},
   "outputs": [],
   "source": [
    "def log_train(class_features, class_labels):\n",
    "    sg = SGDClassifier()\n",
    "    sg.fit(class_features, class_labels)\n",
    "    return sg.coef_\n"
   ]
  },
  {
   "cell_type": "code",
   "execution_count": 9,
   "id": "93701028",
   "metadata": {},
   "outputs": [],
   "source": [
    "def sigmoid(linear_combination):\n",
    "    return 1/(1+np.exp(-linear_combination))\n"
   ]
  },
  {
   "cell_type": "code",
   "execution_count": 10,
   "id": "2ec10a4b",
   "metadata": {},
   "outputs": [],
   "source": [
    "def log_feedforward(class_features, log_train_weights):\n",
    "    linear_combination = np.dot(class_features, log_train_weights.T)\n",
    "    log_predictions = sigmoid(linear_combination)\n",
    "    log_predictions[log_predictions >= 0.5] = 1\n",
    "    log_predictions[log_predictions < 0.5] = 0\n",
    "    return log_predictions\n"
   ]
  },
  {
   "cell_type": "code",
   "execution_count": null,
   "id": "218da817",
   "metadata": {},
   "outputs": [],
   "source": []
  }
 ],
 "metadata": {
  "kernelspec": {
   "display_name": "Python 3 (ipykernel)",
   "language": "python",
   "name": "python3"
  },
  "language_info": {
   "codemirror_mode": {
    "name": "ipython",
    "version": 3
   },
   "file_extension": ".py",
   "mimetype": "text/x-python",
   "name": "python",
   "nbconvert_exporter": "python",
   "pygments_lexer": "ipython3",
   "version": "3.7.9"
  }
 },
 "nbformat": 4,
 "nbformat_minor": 5
}
