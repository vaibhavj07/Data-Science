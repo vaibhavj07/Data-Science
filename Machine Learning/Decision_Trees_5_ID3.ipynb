{
 "cells": [
  {
   "cell_type": "code",
   "execution_count": 1,
   "id": "5553baf3",
   "metadata": {},
   "outputs": [],
   "source": [
    "path = \"https://raw.githubusercontent.com/shobhit-nigam/knowledgeclan/main/datasets/income.csv\""
   ]
  },
  {
   "cell_type": "code",
   "execution_count": 2,
   "id": "9413416e",
   "metadata": {},
   "outputs": [],
   "source": [
    "import numpy as np\n",
    "import pandas as pd\n",
    "import matplotlib.pyplot as plt\n",
    "import math"
   ]
  },
  {
   "cell_type": "code",
   "execution_count": 3,
   "id": "2e59859c",
   "metadata": {},
   "outputs": [],
   "source": [
    "dfa = pd.read_csv(path)"
   ]
  },
  {
   "cell_type": "code",
   "execution_count": 4,
   "id": "d22b7d25",
   "metadata": {},
   "outputs": [],
   "source": [
    "col = pd.Categorical(dfa['workclass'])"
   ]
  },
  {
   "cell_type": "code",
   "execution_count": 5,
   "id": "02d417c5",
   "metadata": {},
   "outputs": [
    {
     "data": {
      "text/plain": [
       "array([7, 6, 4, ..., 4, 4, 5], dtype=int8)"
      ]
     },
     "execution_count": 5,
     "metadata": {},
     "output_type": "execute_result"
    }
   ],
   "source": [
    "col.codes"
   ]
  },
  {
   "cell_type": "code",
   "execution_count": 6,
   "id": "a42d5694",
   "metadata": {},
   "outputs": [],
   "source": [
    "dfa['workclass'] = col.codes"
   ]
  },
  {
   "cell_type": "code",
   "execution_count": 7,
   "id": "72f09e50",
   "metadata": {},
   "outputs": [],
   "source": [
    "str_cols = ['education',\n",
    "  'marital_status',\n",
    " 'occupation',\n",
    " 'relationship',\n",
    " 'race',\n",
    " 'sex',\n",
    " 'native_country',\n",
    " 'high_income']"
   ]
  },
  {
   "cell_type": "code",
   "execution_count": 8,
   "id": "21284a1d",
   "metadata": {},
   "outputs": [],
   "source": [
    "for name in str_cols:\n",
    "    col = pd.Categorical(dfa[name])\n",
    "    dfa[name] = col.codes"
   ]
  },
  {
   "cell_type": "code",
   "execution_count": 9,
   "id": "f44beead",
   "metadata": {},
   "outputs": [],
   "source": [
    "def calc_entropy(column):\n",
    "    # counts of each unique value in the column\n",
    "    counts = np.bincount(column)\n",
    "    \n",
    "    # divide by the total column length to get a probability\n",
    "    probabilities = counts/len(column)\n",
    "    \n",
    "    # initialize the entropy. \n",
    "    entropy = 0\n",
    "    \n",
    "    # loop through the probabilities and add each one to the total entropy. \n",
    "    for prob in probabilities:\n",
    "        if prob>0:\n",
    "            entropy+= prob*math.log(prob,2)\n",
    "            \n",
    "    return -entropy"
   ]
  },
  {
   "cell_type": "code",
   "execution_count": 10,
   "id": "9817158d",
   "metadata": {},
   "outputs": [],
   "source": [
    "def calc_information_gain(data, split_name, target_name):\n",
    "    # orginal entropy \n",
    "    original_entropy = calc_entropy(data[target_name])\n",
    "    \n",
    "    # median of column we are splitting\n",
    "    column = data[split_name]\n",
    "    median = column.median()\n",
    "    \n",
    "    # make two subsets of the data \n",
    "    left_split = data[column <= median]\n",
    "    right_split = data[column > median]   \n",
    "    \n",
    "    to_subtract = 0\n",
    "    for subset in [left_split, right_split]:\n",
    "        prob = (subset.shape[0]/data.shape[0])\n",
    "        to_subtract += prob * calc_entropy(subset[target_name])\n",
    "        \n",
    "    # return information gain\n",
    "    return original_entropy - to_subtract\n"
   ]
  },
  {
   "cell_type": "code",
   "execution_count": 11,
   "id": "8e582a8f",
   "metadata": {},
   "outputs": [],
   "source": [
    "columns = ['age',\n",
    " 'workclass',\n",
    " 'education_num',\n",
    " 'marital_status',\n",
    " 'occupation',\n",
    " 'relationship',\n",
    " 'race',\n",
    " 'sex',\n",
    " 'hours_per_week',\n",
    " 'native_country']\n"
   ]
  },
  {
   "cell_type": "code",
   "execution_count": 18,
   "id": "acfa9d9d",
   "metadata": {},
   "outputs": [],
   "source": [
    "def find_best_column(data, target_name, columns):\n",
    "    information_gains = []\n",
    "\n",
    "    for col in columns:\n",
    "        information_gain = calc_information_gain(data, col, \"high_income\")\n",
    "        information_gains.append(information_gain)\n",
    "        \n",
    "    highest_gain_index = information_gains.index(max(information_gains))\n",
    "    highest_gain = columns[highest_gain_index]\n",
    "    return highest_gain"
   ]
  },
  {
   "cell_type": "code",
   "execution_count": 19,
   "id": "c01a9969",
   "metadata": {},
   "outputs": [],
   "source": [
    "income_split = find_best_column(dfa, \"high_income\", columns)"
   ]
  },
  {
   "cell_type": "code",
   "execution_count": 20,
   "id": "b1b25083",
   "metadata": {},
   "outputs": [
    {
     "data": {
      "text/plain": [
       "'marital_status'"
      ]
     },
     "execution_count": 20,
     "metadata": {},
     "output_type": "execute_result"
    }
   ],
   "source": [
    "income_split"
   ]
  },
  {
   "cell_type": "code",
   "execution_count": null,
   "id": "16e4f413",
   "metadata": {},
   "outputs": [],
   "source": []
  }
 ],
 "metadata": {
  "kernelspec": {
   "display_name": "Python 3 (ipykernel)",
   "language": "python",
   "name": "python3"
  },
  "language_info": {
   "codemirror_mode": {
    "name": "ipython",
    "version": 3
   },
   "file_extension": ".py",
   "mimetype": "text/x-python",
   "name": "python",
   "nbconvert_exporter": "python",
   "pygments_lexer": "ipython3",
   "version": "3.7.9"
  }
 },
 "nbformat": 4,
 "nbformat_minor": 5
}
