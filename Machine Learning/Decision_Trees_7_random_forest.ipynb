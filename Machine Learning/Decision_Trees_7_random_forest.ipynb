{
 "cells": [
  {
   "cell_type": "code",
   "execution_count": 1,
   "id": "5553baf3",
   "metadata": {},
   "outputs": [],
   "source": [
    "path = \"https://raw.githubusercontent.com/shobhit-nigam/knowledgeclan/main/datasets/income.csv\""
   ]
  },
  {
   "cell_type": "code",
   "execution_count": 2,
   "id": "9413416e",
   "metadata": {},
   "outputs": [],
   "source": [
    "import numpy as np\n",
    "import pandas as pd\n",
    "import matplotlib.pyplot as plt\n",
    "import math\n",
    "from sklearn.metrics import roc_auc_score\n",
    "from sklearn.tree import DecisionTreeClassifier"
   ]
  },
  {
   "cell_type": "code",
   "execution_count": 3,
   "id": "2e59859c",
   "metadata": {},
   "outputs": [],
   "source": [
    "dfa = pd.read_csv(path)"
   ]
  },
  {
   "cell_type": "code",
   "execution_count": 4,
   "id": "72f09e50",
   "metadata": {},
   "outputs": [],
   "source": [
    "str_cols = ['workclass' , 'education',\n",
    "  'marital_status',\n",
    " 'occupation',\n",
    " 'relationship',\n",
    " 'race',\n",
    " 'sex',\n",
    " 'native_country',\n",
    " 'high_income']"
   ]
  },
  {
   "cell_type": "code",
   "execution_count": 5,
   "id": "21284a1d",
   "metadata": {},
   "outputs": [],
   "source": [
    "for name in str_cols:\n",
    "    col = pd.Categorical(dfa[name])\n",
    "    dfa[name] = col.codes"
   ]
  },
  {
   "cell_type": "code",
   "execution_count": 6,
   "id": "91244f0f",
   "metadata": {},
   "outputs": [
    {
     "name": "stdout",
     "output_type": "stream",
     "text": [
      "['age', 'workclass', 'fnlwgt', 'education', 'education_num', 'marital_status', 'occupation', 'relationship', 'race', 'sex', 'capital_gain', 'capital_loss', 'hours_per_week', 'native_country', 'high_income']\n"
     ]
    }
   ],
   "source": [
    "list_cols = list(dfa.columns)\n",
    "print(list_cols)"
   ]
  },
  {
   "cell_type": "code",
   "execution_count": 7,
   "id": "cb5e03a0",
   "metadata": {},
   "outputs": [],
   "source": [
    "list_cols = ['age', 'workclass', 'education_num', 'marital_status', 'occupation', 'relationship', 'race', 'sex', 'hours_per_week', 'native_country']\n"
   ]
  },
  {
   "cell_type": "code",
   "execution_count": 8,
   "id": "53c5d102",
   "metadata": {},
   "outputs": [
    {
     "data": {
      "text/html": [
       "<div>\n",
       "<style scoped>\n",
       "    .dataframe tbody tr th:only-of-type {\n",
       "        vertical-align: middle;\n",
       "    }\n",
       "\n",
       "    .dataframe tbody tr th {\n",
       "        vertical-align: top;\n",
       "    }\n",
       "\n",
       "    .dataframe thead th {\n",
       "        text-align: right;\n",
       "    }\n",
       "</style>\n",
       "<table border=\"1\" class=\"dataframe\">\n",
       "  <thead>\n",
       "    <tr style=\"text-align: right;\">\n",
       "      <th></th>\n",
       "      <th>age</th>\n",
       "      <th>workclass</th>\n",
       "      <th>fnlwgt</th>\n",
       "      <th>education</th>\n",
       "      <th>education_num</th>\n",
       "      <th>marital_status</th>\n",
       "      <th>occupation</th>\n",
       "      <th>relationship</th>\n",
       "      <th>race</th>\n",
       "      <th>sex</th>\n",
       "      <th>capital_gain</th>\n",
       "      <th>capital_loss</th>\n",
       "      <th>hours_per_week</th>\n",
       "      <th>native_country</th>\n",
       "      <th>high_income</th>\n",
       "    </tr>\n",
       "  </thead>\n",
       "  <tbody>\n",
       "    <tr>\n",
       "      <th>9646</th>\n",
       "      <td>62</td>\n",
       "      <td>6</td>\n",
       "      <td>26911</td>\n",
       "      <td>5</td>\n",
       "      <td>4</td>\n",
       "      <td>6</td>\n",
       "      <td>8</td>\n",
       "      <td>1</td>\n",
       "      <td>4</td>\n",
       "      <td>0</td>\n",
       "      <td>0</td>\n",
       "      <td>0</td>\n",
       "      <td>66</td>\n",
       "      <td>39</td>\n",
       "      <td>0</td>\n",
       "    </tr>\n",
       "    <tr>\n",
       "      <th>709</th>\n",
       "      <td>18</td>\n",
       "      <td>4</td>\n",
       "      <td>208103</td>\n",
       "      <td>1</td>\n",
       "      <td>7</td>\n",
       "      <td>4</td>\n",
       "      <td>8</td>\n",
       "      <td>2</td>\n",
       "      <td>4</td>\n",
       "      <td>1</td>\n",
       "      <td>0</td>\n",
       "      <td>0</td>\n",
       "      <td>25</td>\n",
       "      <td>39</td>\n",
       "      <td>0</td>\n",
       "    </tr>\n",
       "    <tr>\n",
       "      <th>7385</th>\n",
       "      <td>25</td>\n",
       "      <td>4</td>\n",
       "      <td>102476</td>\n",
       "      <td>9</td>\n",
       "      <td>13</td>\n",
       "      <td>4</td>\n",
       "      <td>5</td>\n",
       "      <td>3</td>\n",
       "      <td>4</td>\n",
       "      <td>1</td>\n",
       "      <td>27828</td>\n",
       "      <td>0</td>\n",
       "      <td>50</td>\n",
       "      <td>39</td>\n",
       "      <td>1</td>\n",
       "    </tr>\n",
       "    <tr>\n",
       "      <th>16671</th>\n",
       "      <td>33</td>\n",
       "      <td>4</td>\n",
       "      <td>511517</td>\n",
       "      <td>11</td>\n",
       "      <td>9</td>\n",
       "      <td>2</td>\n",
       "      <td>10</td>\n",
       "      <td>0</td>\n",
       "      <td>4</td>\n",
       "      <td>1</td>\n",
       "      <td>0</td>\n",
       "      <td>0</td>\n",
       "      <td>40</td>\n",
       "      <td>39</td>\n",
       "      <td>0</td>\n",
       "    </tr>\n",
       "    <tr>\n",
       "      <th>21932</th>\n",
       "      <td>36</td>\n",
       "      <td>4</td>\n",
       "      <td>292570</td>\n",
       "      <td>1</td>\n",
       "      <td>7</td>\n",
       "      <td>4</td>\n",
       "      <td>7</td>\n",
       "      <td>4</td>\n",
       "      <td>4</td>\n",
       "      <td>0</td>\n",
       "      <td>0</td>\n",
       "      <td>0</td>\n",
       "      <td>40</td>\n",
       "      <td>39</td>\n",
       "      <td>0</td>\n",
       "    </tr>\n",
       "    <tr>\n",
       "      <th>...</th>\n",
       "      <td>...</td>\n",
       "      <td>...</td>\n",
       "      <td>...</td>\n",
       "      <td>...</td>\n",
       "      <td>...</td>\n",
       "      <td>...</td>\n",
       "      <td>...</td>\n",
       "      <td>...</td>\n",
       "      <td>...</td>\n",
       "      <td>...</td>\n",
       "      <td>...</td>\n",
       "      <td>...</td>\n",
       "      <td>...</td>\n",
       "      <td>...</td>\n",
       "      <td>...</td>\n",
       "    </tr>\n",
       "    <tr>\n",
       "      <th>32511</th>\n",
       "      <td>25</td>\n",
       "      <td>2</td>\n",
       "      <td>514716</td>\n",
       "      <td>9</td>\n",
       "      <td>13</td>\n",
       "      <td>4</td>\n",
       "      <td>1</td>\n",
       "      <td>3</td>\n",
       "      <td>2</td>\n",
       "      <td>0</td>\n",
       "      <td>0</td>\n",
       "      <td>0</td>\n",
       "      <td>40</td>\n",
       "      <td>39</td>\n",
       "      <td>0</td>\n",
       "    </tr>\n",
       "    <tr>\n",
       "      <th>5192</th>\n",
       "      <td>32</td>\n",
       "      <td>4</td>\n",
       "      <td>207668</td>\n",
       "      <td>9</td>\n",
       "      <td>13</td>\n",
       "      <td>2</td>\n",
       "      <td>4</td>\n",
       "      <td>0</td>\n",
       "      <td>4</td>\n",
       "      <td>1</td>\n",
       "      <td>15024</td>\n",
       "      <td>0</td>\n",
       "      <td>45</td>\n",
       "      <td>39</td>\n",
       "      <td>1</td>\n",
       "    </tr>\n",
       "    <tr>\n",
       "      <th>12172</th>\n",
       "      <td>27</td>\n",
       "      <td>4</td>\n",
       "      <td>104457</td>\n",
       "      <td>9</td>\n",
       "      <td>13</td>\n",
       "      <td>4</td>\n",
       "      <td>7</td>\n",
       "      <td>1</td>\n",
       "      <td>1</td>\n",
       "      <td>1</td>\n",
       "      <td>0</td>\n",
       "      <td>0</td>\n",
       "      <td>40</td>\n",
       "      <td>0</td>\n",
       "      <td>0</td>\n",
       "    </tr>\n",
       "    <tr>\n",
       "      <th>235</th>\n",
       "      <td>59</td>\n",
       "      <td>7</td>\n",
       "      <td>268700</td>\n",
       "      <td>11</td>\n",
       "      <td>9</td>\n",
       "      <td>2</td>\n",
       "      <td>8</td>\n",
       "      <td>0</td>\n",
       "      <td>4</td>\n",
       "      <td>1</td>\n",
       "      <td>0</td>\n",
       "      <td>0</td>\n",
       "      <td>40</td>\n",
       "      <td>39</td>\n",
       "      <td>0</td>\n",
       "    </tr>\n",
       "    <tr>\n",
       "      <th>29733</th>\n",
       "      <td>33</td>\n",
       "      <td>4</td>\n",
       "      <td>59083</td>\n",
       "      <td>9</td>\n",
       "      <td>13</td>\n",
       "      <td>2</td>\n",
       "      <td>1</td>\n",
       "      <td>0</td>\n",
       "      <td>4</td>\n",
       "      <td>1</td>\n",
       "      <td>0</td>\n",
       "      <td>1902</td>\n",
       "      <td>45</td>\n",
       "      <td>39</td>\n",
       "      <td>1</td>\n",
       "    </tr>\n",
       "  </tbody>\n",
       "</table>\n",
       "<p>32561 rows × 15 columns</p>\n",
       "</div>"
      ],
      "text/plain": [
       "       age  workclass  fnlwgt  education  education_num  marital_status  \\\n",
       "9646    62          6   26911          5              4               6   \n",
       "709     18          4  208103          1              7               4   \n",
       "7385    25          4  102476          9             13               4   \n",
       "16671   33          4  511517         11              9               2   \n",
       "21932   36          4  292570          1              7               4   \n",
       "...    ...        ...     ...        ...            ...             ...   \n",
       "32511   25          2  514716          9             13               4   \n",
       "5192    32          4  207668          9             13               2   \n",
       "12172   27          4  104457          9             13               4   \n",
       "235     59          7  268700         11              9               2   \n",
       "29733   33          4   59083          9             13               2   \n",
       "\n",
       "       occupation  relationship  race  sex  capital_gain  capital_loss  \\\n",
       "9646            8             1     4    0             0             0   \n",
       "709             8             2     4    1             0             0   \n",
       "7385            5             3     4    1         27828             0   \n",
       "16671          10             0     4    1             0             0   \n",
       "21932           7             4     4    0             0             0   \n",
       "...           ...           ...   ...  ...           ...           ...   \n",
       "32511           1             3     2    0             0             0   \n",
       "5192            4             0     4    1         15024             0   \n",
       "12172           7             1     1    1             0             0   \n",
       "235             8             0     4    1             0             0   \n",
       "29733           1             0     4    1             0          1902   \n",
       "\n",
       "       hours_per_week  native_country  high_income  \n",
       "9646               66              39            0  \n",
       "709                25              39            0  \n",
       "7385               50              39            1  \n",
       "16671              40              39            0  \n",
       "21932              40              39            0  \n",
       "...               ...             ...          ...  \n",
       "32511              40              39            0  \n",
       "5192               45              39            1  \n",
       "12172              40               0            0  \n",
       "235                40              39            0  \n",
       "29733              45              39            1  \n",
       "\n",
       "[32561 rows x 15 columns]"
      ]
     },
     "execution_count": 8,
     "metadata": {},
     "output_type": "execute_result"
    }
   ],
   "source": [
    "dfa.sample(frac=1, random_state =1)"
   ]
  },
  {
   "cell_type": "code",
   "execution_count": 9,
   "id": "fb62990a",
   "metadata": {},
   "outputs": [],
   "source": [
    "train_max_row = math.floor(dfa.shape[0] *0.8)\n",
    "train = dfa.iloc[:train_max_row]\n",
    "test = dfa.iloc[train_max_row:]"
   ]
  },
  {
   "cell_type": "code",
   "execution_count": 11,
   "id": "9fa2d23e",
   "metadata": {},
   "outputs": [
    {
     "name": "stdout",
     "output_type": "stream",
     "text": [
      "0.6948258446977408\n"
     ]
    }
   ],
   "source": [
    "model_a = DecisionTreeClassifier(random_state = 1, min_samples_leaf = 2)\n",
    "model_a.fit(train[list_cols], train['high_income'])\n",
    "\n",
    "test_predictions_a = model_a.predict(test[list_cols])\n",
    "test_auc_a = roc_auc_score(test[\"high_income\"], test_predictions_a)\n",
    "\n",
    "print(test_auc_a)"
   ]
  },
  {
   "cell_type": "code",
   "execution_count": 12,
   "id": "e0092158",
   "metadata": {},
   "outputs": [
    {
     "name": "stdout",
     "output_type": "stream",
     "text": [
      "0.6837000050885407\n"
     ]
    }
   ],
   "source": [
    "model_b = DecisionTreeClassifier(random_state = 1, max_depth = 5)\n",
    "model_b.fit(train[list_cols], train['high_income'])\n",
    "\n",
    "test_predictions_b = model_b.predict(test[list_cols])\n",
    "test_auc_b = roc_auc_score(test[\"high_income\"], test_predictions_b)\n",
    "\n",
    "print(test_auc_b)\n"
   ]
  },
  {
   "cell_type": "code",
   "execution_count": 13,
   "id": "dbb34442",
   "metadata": {},
   "outputs": [],
   "source": [
    "# Ensembling"
   ]
  },
  {
   "cell_type": "code",
   "execution_count": 14,
   "id": "80882f42",
   "metadata": {},
   "outputs": [],
   "source": [
    "model_a = DecisionTreeClassifier(random_state = 1, min_samples_leaf = 2)\n",
    "model_a.fit(train[list_cols], train['high_income'])\n",
    "\n",
    "test_predictions_a = model_a.predict_proba(test[list_cols])\n"
   ]
  },
  {
   "cell_type": "code",
   "execution_count": 15,
   "id": "d13aa78f",
   "metadata": {},
   "outputs": [],
   "source": [
    "model_b = DecisionTreeClassifier(random_state = 1, max_depth = 5)\n",
    "model_b.fit(train[list_cols], train['high_income'])\n",
    "\n",
    "test_predictions_b = model_b.predict_proba(test[list_cols])\n",
    "\n"
   ]
  },
  {
   "cell_type": "code",
   "execution_count": 16,
   "id": "5ca9753c",
   "metadata": {},
   "outputs": [
    {
     "data": {
      "text/plain": [
       "array([[1.        , 0.        ],\n",
       "       [1.        , 0.        ],\n",
       "       [1.        , 0.        ],\n",
       "       ...,\n",
       "       [1.        , 0.        ],\n",
       "       [1.        , 0.        ],\n",
       "       [0.33333333, 0.66666667]])"
      ]
     },
     "execution_count": 16,
     "metadata": {},
     "output_type": "execute_result"
    }
   ],
   "source": [
    "test_predictions_a"
   ]
  },
  {
   "cell_type": "code",
   "execution_count": 17,
   "id": "7eaf7f9e",
   "metadata": {},
   "outputs": [
    {
     "data": {
      "text/plain": [
       "array([[0.98861566, 0.01138434],\n",
       "       [0.98861566, 0.01138434],\n",
       "       [0.71210762, 0.28789238],\n",
       "       ...,\n",
       "       [0.94363891, 0.05636109],\n",
       "       [0.98861566, 0.01138434],\n",
       "       [0.58131488, 0.41868512]])"
      ]
     },
     "execution_count": 17,
     "metadata": {},
     "output_type": "execute_result"
    }
   ],
   "source": [
    "test_predictions_b"
   ]
  },
  {
   "cell_type": "code",
   "execution_count": 18,
   "id": "6cdf633f",
   "metadata": {},
   "outputs": [],
   "source": [
    "combination = np.round((test_predictions_a[:, 1] + test_predictions_b[:, 1])/2)"
   ]
  },
  {
   "cell_type": "code",
   "execution_count": 19,
   "id": "84bb864a",
   "metadata": {},
   "outputs": [
    {
     "data": {
      "text/plain": [
       "array([0., 0., 0., ..., 0., 0., 1.])"
      ]
     },
     "execution_count": 19,
     "metadata": {},
     "output_type": "execute_result"
    }
   ],
   "source": [
    "combination"
   ]
  },
  {
   "cell_type": "code",
   "execution_count": 20,
   "id": "c0a816fc",
   "metadata": {},
   "outputs": [],
   "source": [
    "combination_auc = roc_auc_score(test[\"high_income\"], combination)"
   ]
  },
  {
   "cell_type": "code",
   "execution_count": 21,
   "id": "e11feea6",
   "metadata": {},
   "outputs": [
    {
     "data": {
      "text/plain": [
       "0.7232501144921636"
      ]
     },
     "execution_count": 21,
     "metadata": {},
     "output_type": "execute_result"
    }
   ],
   "source": [
    "combination_auc"
   ]
  },
  {
   "cell_type": "code",
   "execution_count": 22,
   "id": "2b216a58",
   "metadata": {},
   "outputs": [],
   "source": [
    "# randomness in random forest:\n",
    "# Bagging\n",
    "# Random feature subset. "
   ]
  },
  {
   "cell_type": "code",
   "execution_count": 23,
   "id": "18c9af74",
   "metadata": {},
   "outputs": [],
   "source": [
    "# Bagging\n",
    "# put random samlpe of data in a bag"
   ]
  },
  {
   "cell_type": "code",
   "execution_count": 24,
   "id": "5b30d560",
   "metadata": {},
   "outputs": [
    {
     "name": "stdout",
     "output_type": "stream",
     "text": [
      "0.7391948020557705\n"
     ]
    }
   ],
   "source": [
    "tree_count = 10\n",
    "bag_ratio = 6/10   #(60 % of the original rows)\n",
    "predicitons = []\n",
    "\n",
    "for i in range(tree_count):\n",
    "    bag = train.sample(frac=bag_ratio, replace = True, random_state = i)\n",
    "    \n",
    "    model = DecisionTreeClassifier(min_samples_leaf = 2, random_state = 1)\n",
    "    model.fit(bag[list_cols], bag[\"high_income\"])\n",
    "    \n",
    "    predicitons.append(model.predict_proba(test[list_cols])[:, 1])\n",
    "    combination = np.round((np.sum(predicitons, axis = 0))/(len(predicitons)))\n",
    "\n",
    "print(roc_auc_score(test[\"high_income\"], combination))"
   ]
  },
  {
   "cell_type": "code",
   "execution_count": 25,
   "id": "4ee40bab",
   "metadata": {},
   "outputs": [
    {
     "data": {
      "text/plain": [
       "array([0., 0., 0., ..., 0., 0., 0.])"
      ]
     },
     "execution_count": 25,
     "metadata": {},
     "output_type": "execute_result"
    }
   ],
   "source": [
    "predicitons[0]"
   ]
  },
  {
   "cell_type": "code",
   "execution_count": null,
   "id": "a99b4dd3",
   "metadata": {},
   "outputs": [],
   "source": []
  },
  {
   "cell_type": "code",
   "execution_count": null,
   "id": "64d54aec",
   "metadata": {},
   "outputs": [],
   "source": []
  },
  {
   "cell_type": "code",
   "execution_count": null,
   "id": "84b4d7d0",
   "metadata": {},
   "outputs": [],
   "source": []
  },
  {
   "cell_type": "code",
   "execution_count": null,
   "id": "a36fe62c",
   "metadata": {},
   "outputs": [],
   "source": []
  }
 ],
 "metadata": {
  "kernelspec": {
   "display_name": "Python 3 (ipykernel)",
   "language": "python",
   "name": "python3"
  },
  "language_info": {
   "codemirror_mode": {
    "name": "ipython",
    "version": 3
   },
   "file_extension": ".py",
   "mimetype": "text/x-python",
   "name": "python",
   "nbconvert_exporter": "python",
   "pygments_lexer": "ipython3",
   "version": "3.7.9"
  }
 },
 "nbformat": 4,
 "nbformat_minor": 5
}
