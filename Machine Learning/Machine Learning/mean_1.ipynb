{
 "cells": [
  {
   "cell_type": "code",
   "execution_count": 1,
   "id": "8715b3a2",
   "metadata": {},
   "outputs": [],
   "source": [
    "distributions = [0, 4, 6, 6, 6, 8, 26]\n",
    "\n",
    "mean = sum(distributions)/len(distributions)"
   ]
  },
  {
   "cell_type": "code",
   "execution_count": 2,
   "id": "26824d77",
   "metadata": {},
   "outputs": [
    {
     "data": {
      "text/plain": [
       "8.0"
      ]
     },
     "execution_count": 2,
     "metadata": {},
     "output_type": "execute_result"
    }
   ],
   "source": [
    "mean"
   ]
  },
  {
   "cell_type": "code",
   "execution_count": 3,
   "id": "d187b4b5",
   "metadata": {},
   "outputs": [],
   "source": [
    "above = []\n",
    "below = []\n",
    "\n",
    "for val in distributions:\n",
    "    if val > mean:\n",
    "        above.append(val-mean)\n",
    "    elif val < mean:\n",
    "        below.append(mean-val)"
   ]
  },
  {
   "cell_type": "code",
   "execution_count": 4,
   "id": "dcd51e1f",
   "metadata": {},
   "outputs": [
    {
     "data": {
      "text/plain": [
       "[18.0]"
      ]
     },
     "execution_count": 4,
     "metadata": {},
     "output_type": "execute_result"
    }
   ],
   "source": [
    "above"
   ]
  },
  {
   "cell_type": "code",
   "execution_count": 5,
   "id": "9d5ba5ee",
   "metadata": {},
   "outputs": [
    {
     "data": {
      "text/plain": [
       "[8.0, 4.0, 2.0, 2.0, 2.0]"
      ]
     },
     "execution_count": 5,
     "metadata": {},
     "output_type": "execute_result"
    }
   ],
   "source": [
    "below"
   ]
  },
  {
   "cell_type": "code",
   "execution_count": 6,
   "id": "4b897dce",
   "metadata": {},
   "outputs": [
    {
     "data": {
      "text/plain": [
       "18.0"
      ]
     },
     "execution_count": 6,
     "metadata": {},
     "output_type": "execute_result"
    }
   ],
   "source": [
    "sum(above)"
   ]
  },
  {
   "cell_type": "code",
   "execution_count": 7,
   "id": "70b98a39",
   "metadata": {},
   "outputs": [
    {
     "data": {
      "text/plain": [
       "18.0"
      ]
     },
     "execution_count": 7,
     "metadata": {},
     "output_type": "execute_result"
    }
   ],
   "source": [
    "sum(below)"
   ]
  },
  {
   "cell_type": "code",
   "execution_count": 8,
   "id": "8db5e116",
   "metadata": {},
   "outputs": [],
   "source": [
    "# the mean is equidistance from values above and below"
   ]
  },
  {
   "cell_type": "code",
   "execution_count": 9,
   "id": "a36be310",
   "metadata": {},
   "outputs": [],
   "source": [
    "distribution = [0, 2, 3, 3, 3, 4, 13]\n",
    "\n",
    "\n",
    "mean = sum(distribution)/len(distribution)\n",
    "\n",
    "above = []\n",
    "below = []\n",
    "\n",
    "for val in distribution:\n",
    "    if val > mean:\n",
    "        above.append(val-mean)\n",
    "    elif val < mean:\n",
    "        below.append(mean-val)"
   ]
  },
  {
   "cell_type": "code",
   "execution_count": 10,
   "id": "9aa3fd39",
   "metadata": {},
   "outputs": [
    {
     "data": {
      "text/plain": [
       "[9.0]"
      ]
     },
     "execution_count": 10,
     "metadata": {},
     "output_type": "execute_result"
    }
   ],
   "source": [
    "above"
   ]
  },
  {
   "cell_type": "code",
   "execution_count": 11,
   "id": "3708b207",
   "metadata": {},
   "outputs": [
    {
     "data": {
      "text/plain": [
       "[4.0, 2.0, 1.0, 1.0, 1.0]"
      ]
     },
     "execution_count": 11,
     "metadata": {},
     "output_type": "execute_result"
    }
   ],
   "source": [
    "below"
   ]
  },
  {
   "cell_type": "code",
   "execution_count": 12,
   "id": "4e162168",
   "metadata": {},
   "outputs": [
    {
     "data": {
      "text/plain": [
       "[0, 2, 3, 3, 3, 4, 13]"
      ]
     },
     "execution_count": 12,
     "metadata": {},
     "output_type": "execute_result"
    }
   ],
   "source": [
    "distribution\n"
   ]
  },
  {
   "cell_type": "code",
   "execution_count": 13,
   "id": "82e19b2c",
   "metadata": {},
   "outputs": [],
   "source": [
    "# The mean isnt at the center of the distribution. In most of the cases, the mean will not be at the center of the distribution"
   ]
  },
  {
   "cell_type": "code",
   "execution_count": 14,
   "id": "a514ed6e",
   "metadata": {},
   "outputs": [],
   "source": [
    "import pandas as pd\n",
    "import matplotlib.pyplot as plt\n",
    "import numpy as np"
   ]
  },
  {
   "cell_type": "code",
   "execution_count": 15,
   "id": "ffa5e9e3",
   "metadata": {},
   "outputs": [],
   "source": [
    "path = 'https://raw.githubusercontent.com/shobhit-nigam/knowledgeclan/main/datasets/Housing.txt'\n"
   ]
  },
  {
   "cell_type": "code",
   "execution_count": 16,
   "id": "efb0d60d",
   "metadata": {},
   "outputs": [],
   "source": [
    "dfa = pd.read_csv(path, sep='\\t')"
   ]
  },
  {
   "cell_type": "code",
   "execution_count": 17,
   "id": "7d4eb7d3",
   "metadata": {},
   "outputs": [],
   "source": [
    "dfb = pd.read_table(path)"
   ]
  },
  {
   "cell_type": "code",
   "execution_count": 18,
   "id": "7382974d",
   "metadata": {},
   "outputs": [
    {
     "data": {
      "text/plain": [
       "['Order',\n",
       " 'PID',\n",
       " 'MS SubClass',\n",
       " 'MS Zoning',\n",
       " 'Lot Frontage',\n",
       " 'Lot Area',\n",
       " 'Street',\n",
       " 'Alley',\n",
       " 'Lot Shape',\n",
       " 'Land Contour',\n",
       " 'Utilities',\n",
       " 'Lot Config',\n",
       " 'Land Slope',\n",
       " 'Neighborhood',\n",
       " 'Condition 1',\n",
       " 'Condition 2',\n",
       " 'Bldg Type',\n",
       " 'House Style',\n",
       " 'Overall Qual',\n",
       " 'Overall Cond',\n",
       " 'Year Built',\n",
       " 'Year Remod/Add',\n",
       " 'Roof Style',\n",
       " 'Roof Matl',\n",
       " 'Exterior 1st',\n",
       " 'Exterior 2nd',\n",
       " 'Mas Vnr Type',\n",
       " 'Mas Vnr Area',\n",
       " 'Exter Qual',\n",
       " 'Exter Cond',\n",
       " 'Foundation',\n",
       " 'Bsmt Qual',\n",
       " 'Bsmt Cond',\n",
       " 'Bsmt Exposure',\n",
       " 'BsmtFin Type 1',\n",
       " 'BsmtFin SF 1',\n",
       " 'BsmtFin Type 2',\n",
       " 'BsmtFin SF 2',\n",
       " 'Bsmt Unf SF',\n",
       " 'Total Bsmt SF',\n",
       " 'Heating',\n",
       " 'Heating QC',\n",
       " 'Central Air',\n",
       " 'Electrical',\n",
       " '1st Flr SF',\n",
       " '2nd Flr SF',\n",
       " 'Low Qual Fin SF',\n",
       " 'Gr Liv Area',\n",
       " 'Bsmt Full Bath',\n",
       " 'Bsmt Half Bath',\n",
       " 'Full Bath',\n",
       " 'Half Bath',\n",
       " 'Bedroom AbvGr',\n",
       " 'Kitchen AbvGr',\n",
       " 'Kitchen Qual',\n",
       " 'TotRms AbvGrd',\n",
       " 'Functional',\n",
       " 'Fireplaces',\n",
       " 'Fireplace Qu',\n",
       " 'Garage Type',\n",
       " 'Garage Yr Blt',\n",
       " 'Garage Finish',\n",
       " 'Garage Cars',\n",
       " 'Garage Area',\n",
       " 'Garage Qual',\n",
       " 'Garage Cond',\n",
       " 'Paved Drive',\n",
       " 'Wood Deck SF',\n",
       " 'Open Porch SF',\n",
       " 'Enclosed Porch',\n",
       " '3Ssn Porch',\n",
       " 'Screen Porch',\n",
       " 'Pool Area',\n",
       " 'Pool QC',\n",
       " 'Fence',\n",
       " 'Misc Feature',\n",
       " 'Misc Val',\n",
       " 'Mo Sold',\n",
       " 'Yr Sold',\n",
       " 'Sale Type',\n",
       " 'Sale Condition',\n",
       " 'SalePrice']"
      ]
     },
     "execution_count": 18,
     "metadata": {},
     "output_type": "execute_result"
    }
   ],
   "source": [
    "list(dfa.columns)"
   ]
  },
  {
   "cell_type": "code",
   "execution_count": 19,
   "id": "6f015232",
   "metadata": {},
   "outputs": [
    {
     "data": {
      "text/plain": [
       "180796.0600682594"
      ]
     },
     "execution_count": 19,
     "metadata": {},
     "output_type": "execute_result"
    }
   ],
   "source": [
    "dfa['SalePrice'].mean()"
   ]
  },
  {
   "cell_type": "code",
   "execution_count": 20,
   "id": "262d7e13",
   "metadata": {},
   "outputs": [],
   "source": [
    "parameter = dfa['SalePrice'].mean()\n",
    "sample_size = 5\n",
    "\n",
    "sample_sizes = []\n",
    "sampling_errors = []\n"
   ]
  },
  {
   "cell_type": "code",
   "execution_count": 21,
   "id": "2a63eb31",
   "metadata": {},
   "outputs": [
    {
     "data": {
      "image/png": "[encoded data removed]",
      "text/plain": [
       "<Figure size 720x576 with 1 Axes>"
      ]
     },
     "metadata": {
      "needs_background": "light"
     },
     "output_type": "display_data"
    }
   ],
   "source": [
    "plt.figure(figsize=(10,8))\n",
    "\n",
    "for i in range(101):\n",
    "    sample = dfa['SalePrice'].sample(sample_size, random_state = i)\n",
    "    statistic = sample.mean()\n",
    "    sampling_error = parameter - statistic\n",
    "    sampling_errors.append(sampling_error)\n",
    "    sample_sizes.append(sample_size)\n",
    "    sample_size = sample_size + 29\n",
    "    \n",
    "plt.scatter(sample_sizes, sampling_errors)\n",
    "plt.axhline(0)\n",
    "plt.axvline(2930)\n",
    "\n",
    "plt.xlabel('sample_size')\n",
    "plt.ylabel('sample_error')\n",
    "plt.show()"
   ]
  },
  {
   "cell_type": "code",
   "execution_count": 22,
   "id": "e8e16af0",
   "metadata": {},
   "outputs": [
    {
     "data": {
      "text/plain": [
       "<function matplotlib.pyplot.show(close=None, block=None)>"
      ]
     },
     "execution_count": 22,
     "metadata": {},
     "output_type": "execute_result"
    },
    {
     "data": {
      "image/png": "[encoded data removed]",
      "text/plain": [
       "<Figure size 720x576 with 1 Axes>"
      ]
     },
     "metadata": {
      "needs_background": "light"
     },
     "output_type": "display_data"
    }
   ],
   "source": [
    "plt.figure(figsize=(10,8))\n",
    "means = []\n",
    "\n",
    "for i in range(10000):\n",
    "    sample = dfa['SalePrice'].sample(3, random_state = i)\n",
    "    means.append(sample.mean())\n",
    "    \n",
    "plt.hist(means)\n",
    "plt.axvline(dfa['SalePrice'].mean())\n",
    "plt.show"
   ]
  },
  {
   "cell_type": "code",
   "execution_count": 23,
   "id": "7a348da5",
   "metadata": {},
   "outputs": [
    {
     "data": {
      "image/png": "[encoded data removed]",
      "text/plain": [
       "<Figure size 864x648 with 1 Axes>"
      ]
     },
     "metadata": {
      "needs_background": "light"
     },
     "output_type": "display_data"
    }
   ],
   "source": [
    "plt.figure(figsize=(12,9))\n",
    "plt.scatter(np.linspace(12789, 755000, 10000), means)\n",
    "plt.axhline(dfa['SalePrice'].mean())\n",
    "\n",
    "plt.ylabel('means')\n",
    "plt.show()"
   ]
  },
  {
   "cell_type": "code",
   "execution_count": 24,
   "id": "3bc8a457",
   "metadata": {},
   "outputs": [
    {
     "data": {
      "image/png": "[encoded data removed]",
      "text/plain": [
       "<Figure size 720x576 with 1 Axes>"
      ]
     },
     "metadata": {
      "needs_background": "light"
     },
     "output_type": "display_data"
    }
   ],
   "source": [
    "plt.figure(figsize=(10,8))\n",
    "means = []\n",
    "\n",
    "for i in range(10000):\n",
    "    sample = dfa['SalePrice'].sample(100, random_state = i)\n",
    "    means.append(sample.mean())\n",
    "    \n",
    "plt.hist(means)\n",
    "plt.axvline(dfa['SalePrice'].mean())\n",
    "plt.show()"
   ]
  },
  {
   "cell_type": "code",
   "execution_count": 25,
   "id": "3ea3179b",
   "metadata": {},
   "outputs": [],
   "source": [
    "# sample mean is an unbiased estimater"
   ]
  },
  {
   "cell_type": "code",
   "execution_count": 26,
   "id": "6bae152a",
   "metadata": {},
   "outputs": [],
   "source": [
    "from itertools import combinations, permutations"
   ]
  },
  {
   "cell_type": "code",
   "execution_count": 27,
   "id": "fd211a7c",
   "metadata": {},
   "outputs": [
    {
     "name": "stdout",
     "output_type": "stream",
     "text": [
      "[()]\n",
      "[('a',), ('b',), ('c',)]\n",
      "[('a', 'b'), ('a', 'c'), ('b', 'c')]\n",
      "[('a', 'b', 'c')]\n"
     ]
    }
   ],
   "source": [
    "listx = ['a' , 'b', 'c']\n",
    "list_combinations = []\n",
    "\n",
    "for i in range(len(listx) + 1):\n",
    "    print(list(combinations(listx, i)))"
   ]
  },
  {
   "cell_type": "code",
   "execution_count": 28,
   "id": "e698a425",
   "metadata": {},
   "outputs": [
    {
     "name": "stdout",
     "output_type": "stream",
     "text": [
      "('a', 'b')\n",
      "('a', 'c')\n",
      "('b', 'c')\n"
     ]
    }
   ],
   "source": [
    "listx = ['a', 'b', 'c']\n",
    "\n",
    "for comb in combinations(listx, 2):\n",
    "    print(comb)"
   ]
  },
  {
   "cell_type": "code",
   "execution_count": 29,
   "id": "b9a74279",
   "metadata": {},
   "outputs": [
    {
     "name": "stdout",
     "output_type": "stream",
     "text": [
      "('a', 'b')\n",
      "('a', 'c')\n",
      "('b', 'a')\n",
      "('b', 'c')\n",
      "('c', 'a')\n",
      "('c', 'b')\n"
     ]
    }
   ],
   "source": [
    "listx = ['a', 'b', 'c']\n",
    "\n",
    "for comb in permutations(listx, 2):\n",
    "    print(comb)"
   ]
  },
  {
   "cell_type": "code",
   "execution_count": 30,
   "id": "bab8927f",
   "metadata": {},
   "outputs": [
    {
     "name": "stdout",
     "output_type": "stream",
     "text": [
      "('chicago bulls', 'hawks')\n",
      "('chicago bulls', 'knicks')\n",
      "('chicago bulls', 'raptors')\n",
      "('hawks', 'knicks')\n",
      "('hawks', 'raptors')\n",
      "('knicks', 'raptors')\n"
     ]
    }
   ],
   "source": [
    "listx = ['chicago bulls', 'hawks', 'knicks', 'raptors']\n",
    "\n",
    "for comb in combinations(listx,2):\n",
    "    print(comb)"
   ]
  },
  {
   "cell_type": "code",
   "execution_count": 31,
   "id": "31deea76",
   "metadata": {},
   "outputs": [],
   "source": [
    "distribution = [0, 2, 3, 3, 3, 4, 13]\n",
    "\n",
    "dist = [4, 8, 3]\n",
    "\n",
    "samples = []\n",
    "for comb in permutations(dist,2):\n",
    "    samples.append(comb)"
   ]
  },
  {
   "cell_type": "code",
   "execution_count": 32,
   "id": "9ef42642",
   "metadata": {},
   "outputs": [
    {
     "data": {
      "text/plain": [
       "[(4, 8), (4, 3), (8, 4), (8, 3), (3, 4), (3, 8)]"
      ]
     },
     "execution_count": 32,
     "metadata": {},
     "output_type": "execute_result"
    }
   ],
   "source": [
    "samples"
   ]
  },
  {
   "cell_type": "code",
   "execution_count": 33,
   "id": "376f4e76",
   "metadata": {},
   "outputs": [],
   "source": [
    "samples_means = []\n",
    "\n",
    "for sample in samples:\n",
    "    samples_means.append(sum(sample)/len(sample))"
   ]
  },
  {
   "cell_type": "code",
   "execution_count": 34,
   "id": "bf17c984",
   "metadata": {},
   "outputs": [
    {
     "data": {
      "text/plain": [
       "[6.0, 3.5, 6.0, 5.5, 3.5, 5.5]"
      ]
     },
     "execution_count": 34,
     "metadata": {},
     "output_type": "execute_result"
    }
   ],
   "source": [
    "samples_means"
   ]
  },
  {
   "cell_type": "code",
   "execution_count": 37,
   "id": "1dc7c335",
   "metadata": {},
   "outputs": [],
   "source": [
    "distribution = [0, 2, 3, 3, 3, 4, 13]\n",
    "\n",
    "samples = []\n",
    "\n",
    "for comb in permutations(distribution,2):\n",
    "    samples.append(comb)\n",
    "    \n",
    "samples_means = []\n",
    "\n",
    "for sample in samples:\n",
    "    samples_means.append(sum(sample)/len(sample))   "
   ]
  },
  {
   "cell_type": "code",
   "execution_count": 38,
   "id": "99fa10fe",
   "metadata": {},
   "outputs": [
    {
     "data": {
      "text/plain": [
       "4.0"
      ]
     },
     "execution_count": 38,
     "metadata": {},
     "output_type": "execute_result"
    }
   ],
   "source": [
    "sum(samples_means)/len(samples_means)"
   ]
  },
  {
   "cell_type": "code",
   "execution_count": null,
   "id": "c2626926",
   "metadata": {},
   "outputs": [],
   "source": []
  }
 ],
 "metadata": {
  "kernelspec": {
   "display_name": "Python 3 (ipykernel)",
   "language": "python",
   "name": "python3"
  },
  "language_info": {
   "codemirror_mode": {
    "name": "ipython",
    "version": 3
   },
   "file_extension": ".py",
   "mimetype": "text/x-python",
   "name": "python",
   "nbconvert_exporter": "python",
   "pygments_lexer": "ipython3",
   "version": "3.7.9"
  }
 },
 "nbformat": 4,
 "nbformat_minor": 5
}
