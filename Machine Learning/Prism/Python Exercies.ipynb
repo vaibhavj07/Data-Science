{
 "cells": [
  {
   "cell_type": "markdown",
   "id": "25260084",
   "metadata": {},
   "source": [
    "# Level 0"
   ]
  },
  {
   "cell_type": "code",
   "execution_count": 1,
   "id": "75dc94b6",
   "metadata": {},
   "outputs": [],
   "source": [
    "# 1"
   ]
  },
  {
   "cell_type": "code",
   "execution_count": 2,
   "id": "fb1b56d9",
   "metadata": {},
   "outputs": [],
   "source": [
    "def sum_avg(a,b):\n",
    "    sum_a_b = a+b\n",
    "    avg_a_b = int(sum_a_b/2)\n",
    "    return sum_a_b, avg_a_b"
   ]
  },
  {
   "cell_type": "code",
   "execution_count": 3,
   "id": "2c413d2f",
   "metadata": {},
   "outputs": [
    {
     "data": {
      "text/plain": [
       "(26.0, 13)"
      ]
     },
     "execution_count": 3,
     "metadata": {},
     "output_type": "execute_result"
    }
   ],
   "source": [
    "sum_avg(10.5, 15.5)"
   ]
  },
  {
   "cell_type": "code",
   "execution_count": 4,
   "id": "f7a32f37",
   "metadata": {},
   "outputs": [],
   "source": [
    "# 2"
   ]
  },
  {
   "cell_type": "code",
   "execution_count": 5,
   "id": "a8a59663",
   "metadata": {},
   "outputs": [
    {
     "name": "stdout",
     "output_type": "stream",
     "text": [
      "(50, 40, 30, 20, 10)\n"
     ]
    }
   ],
   "source": [
    "tuple_x = (10, 20, 30, 40, 50) \n",
    "print(tuple_x[::-1])"
   ]
  },
  {
   "cell_type": "code",
   "execution_count": 6,
   "id": "17c661c2",
   "metadata": {},
   "outputs": [],
   "source": [
    "# 3"
   ]
  },
  {
   "cell_type": "code",
   "execution_count": 7,
   "id": "0a477b4b",
   "metadata": {},
   "outputs": [],
   "source": [
    "vowels = ['A', 'E', 'I', 'O', 'U',]\n",
    "def check_vowel(letter):\n",
    "    if letter.upper() in vowels:\n",
    "        print('its a vowel')\n",
    "    else:\n",
    "        print(\"not a vowel\")\n",
    "    "
   ]
  },
  {
   "cell_type": "code",
   "execution_count": 8,
   "id": "dd740171",
   "metadata": {},
   "outputs": [
    {
     "name": "stdout",
     "output_type": "stream",
     "text": [
      "not a vowel\n"
     ]
    }
   ],
   "source": [
    "check_vowel('s')"
   ]
  },
  {
   "cell_type": "code",
   "execution_count": 9,
   "id": "7096a252",
   "metadata": {},
   "outputs": [
    {
     "name": "stdout",
     "output_type": "stream",
     "text": [
      "its a vowel\n"
     ]
    }
   ],
   "source": [
    "check_vowel('a')"
   ]
  },
  {
   "cell_type": "code",
   "execution_count": 10,
   "id": "b6f9bba6",
   "metadata": {},
   "outputs": [],
   "source": [
    "# 4"
   ]
  },
  {
   "cell_type": "code",
   "execution_count": 11,
   "id": "88eb4517",
   "metadata": {},
   "outputs": [],
   "source": [
    "sample_string = 'asipudhas kjdbaiydssdhunasd'\n",
    "def only_even_indexes(string):\n",
    "    even_indexes = []\n",
    "    even_indexes.append(string[::2])\n",
    "    return even_indexes"
   ]
  },
  {
   "cell_type": "code",
   "execution_count": 12,
   "id": "d2b1005a",
   "metadata": {},
   "outputs": [
    {
     "data": {
      "text/plain": [
       "['aiuhskdaysduad']"
      ]
     },
     "execution_count": 12,
     "metadata": {},
     "output_type": "execute_result"
    }
   ],
   "source": [
    "only_even_indexes(sample_string)"
   ]
  },
  {
   "cell_type": "code",
   "execution_count": 13,
   "id": "1469fedb",
   "metadata": {},
   "outputs": [],
   "source": [
    "# 5"
   ]
  },
  {
   "cell_type": "code",
   "execution_count": 14,
   "id": "1c133598",
   "metadata": {},
   "outputs": [],
   "source": [
    "\n",
    "sample_string_2 = 'asip ud has kjd b ai y d ssdhunasd'\n",
    "def replace_space(string):\n",
    "    return string.replace(' ', '_')"
   ]
  },
  {
   "cell_type": "code",
   "execution_count": 15,
   "id": "07273779",
   "metadata": {},
   "outputs": [
    {
     "data": {
      "text/plain": [
       "'asip_ud_has_kjd_b_ai_y_d_ssdhunasd'"
      ]
     },
     "execution_count": 15,
     "metadata": {},
     "output_type": "execute_result"
    }
   ],
   "source": [
    "replace_space(sample_string_2)"
   ]
  },
  {
   "cell_type": "code",
   "execution_count": 27,
   "id": "a44bbd21",
   "metadata": {},
   "outputs": [
    {
     "data": {
      "text/plain": [
       "9.0"
      ]
     },
     "execution_count": 27,
     "metadata": {},
     "output_type": "execute_result"
    }
   ],
   "source": [
    "# 6 \n",
    "stra = 'ksjadhbakjsdbaskdjh'\n",
    "strb = '1sadkjlhasdkljashdaskljd0'"
   ]
  },
  {
   "cell_type": "code",
   "execution_count": 39,
   "id": "f560db47",
   "metadata": {},
   "outputs": [],
   "source": [
    "def string_append(string1, string2): \n",
    "    new_str = string1[:(len(string1)-1)//2] + string2 + string1[(len(string1)-1)//2:]\n",
    "    return new_str"
   ]
  },
  {
   "cell_type": "code",
   "execution_count": 40,
   "id": "a7652e07",
   "metadata": {},
   "outputs": [
    {
     "data": {
      "text/plain": [
       "'ksjadhbak1sadkjlhasdkljashdaskljd0jsdbaskdjh'"
      ]
     },
     "execution_count": 40,
     "metadata": {},
     "output_type": "execute_result"
    }
   ],
   "source": [
    "string_append(stra,strb)"
   ]
  },
  {
   "cell_type": "code",
   "execution_count": 52,
   "id": "f692ac5f",
   "metadata": {},
   "outputs": [],
   "source": [
    "# 7 \n",
    "new_string = 'asidhgbas oiudygasoidygasoid uaoidug aosidugadsfs dfs fs fsdf '\n",
    "def twenty_five(string):\n",
    "    twenty_five_perc = (len(string)*25)/100\n",
    "    return string[:int(twenty_five_perc)-1]"
   ]
  },
  {
   "cell_type": "code",
   "execution_count": 55,
   "id": "31999da9",
   "metadata": {},
   "outputs": [
    {
     "data": {
      "text/plain": [
       "'asidhgbas oiud'"
      ]
     },
     "execution_count": 55,
     "metadata": {},
     "output_type": "execute_result"
    }
   ],
   "source": [
    "twenty_five(new_string)"
   ]
  },
  {
   "cell_type": "code",
   "execution_count": 58,
   "id": "12ae871a",
   "metadata": {},
   "outputs": [],
   "source": [
    "# 8 \n",
    "list_1 = [45,56,345,234,56,78,789,989]\n",
    "list_3 = [5,56,345,24,56,7,789,9]\n",
    "\n",
    "def intersection_lists(list1, list2):\n",
    "    return list(set(list1).intersection(list2))"
   ]
  },
  {
   "cell_type": "code",
   "execution_count": 59,
   "id": "4d0d2658",
   "metadata": {},
   "outputs": [
    {
     "data": {
      "text/plain": [
       "[56, 345, 789]"
      ]
     },
     "execution_count": 59,
     "metadata": {},
     "output_type": "execute_result"
    }
   ],
   "source": [
    "intersection_lists(list_1, list_3)"
   ]
  },
  {
   "cell_type": "code",
   "execution_count": 77,
   "id": "e38978a2",
   "metadata": {},
   "outputs": [],
   "source": [
    "# 9 \n",
    "list_1 = [45,56,345,234,56,78,789,989,4389]\n",
    "list_3 = [5,56,345,24,56,7,789,9,9870,74045,4545]\n",
    "\n",
    "\n",
    "\n",
    "def odd_even_list(list1, list2):\n",
    "    odd = []\n",
    "    even = []\n",
    "    new_list = []\n",
    "    for i in range(0, len(list_1)-1):\n",
    "        if i%2 != 0:\n",
    "            odd.append(list_1[i])\n",
    "    for j in range(0, len(list_3)-1):\n",
    "        if j%2 == 0:\n",
    "            even.append(list_3[j])\n",
    "    new_list = odd + even\n",
    "    return new_list"
   ]
  },
  {
   "cell_type": "code",
   "execution_count": 81,
   "id": "3b3e04a4",
   "metadata": {},
   "outputs": [
    {
     "data": {
      "text/plain": [
       "[56, 234, 78, 989, 5, 345, 56, 789, 9870]"
      ]
     },
     "execution_count": 81,
     "metadata": {},
     "output_type": "execute_result"
    }
   ],
   "source": [
    "odd_even_list(list_1, list_3)"
   ]
  },
  {
   "cell_type": "code",
   "execution_count": 88,
   "id": "3bc64140",
   "metadata": {},
   "outputs": [],
   "source": [
    "# 10 \n",
    "a = [10, 20, 30, [10, 20, 30, [100, 200, 400], 40, 50], 40, 50] \n",
    "\n",
    "b = [55, 65, 75] \n",
    "# [10, 20, 30, [10, 20, 30, [100, 200, 400, 55, 65, 75], 40, 50], 40, 50] "
   ]
  },
  {
   "cell_type": "code",
   "execution_count": 89,
   "id": "a0730f64",
   "metadata": {},
   "outputs": [],
   "source": [
    "a[3][3].extend(b)"
   ]
  },
  {
   "cell_type": "code",
   "execution_count": 90,
   "id": "c76928a1",
   "metadata": {},
   "outputs": [
    {
     "data": {
      "text/plain": [
       "[10, 20, 30, [10, 20, 30, [100, 200, 400, 55, 65, 75], 40, 50], 40, 50]"
      ]
     },
     "execution_count": 90,
     "metadata": {},
     "output_type": "execute_result"
    }
   ],
   "source": [
    "a"
   ]
  },
  {
   "cell_type": "markdown",
   "id": "9f79f750",
   "metadata": {},
   "source": [
    "# level 1"
   ]
  },
  {
   "cell_type": "code",
   "execution_count": null,
   "id": "60645628",
   "metadata": {},
   "outputs": [],
   "source": []
  }
 ],
 "metadata": {
  "kernelspec": {
   "display_name": "Python 3 (ipykernel)",
   "language": "python",
   "name": "python3"
  },
  "language_info": {
   "codemirror_mode": {
    "name": "ipython",
    "version": 3
   },
   "file_extension": ".py",
   "mimetype": "text/x-python",
   "name": "python",
   "nbconvert_exporter": "python",
   "pygments_lexer": "ipython3",
   "version": "3.7.9"
  }
 },
 "nbformat": 4,
 "nbformat_minor": 5
}
