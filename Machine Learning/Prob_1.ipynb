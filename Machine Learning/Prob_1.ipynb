{
 "cells": [
  {
   "cell_type": "code",
   "execution_count": 1,
   "id": "526ae97a",
   "metadata": {},
   "outputs": [],
   "source": [
    "def factorial(n):\n",
    "    res = 1\n",
    "    for i in range(n, 0, -1):\n",
    "        res = res * i\n",
    "    return res\n"
   ]
  },
  {
   "cell_type": "code",
   "execution_count": 2,
   "id": "df33c1a0",
   "metadata": {},
   "outputs": [],
   "source": [
    "def permutation(n, k):\n",
    "    numerator = factorial(n)\n",
    "    denominator = factorial(n-k)\n",
    "    return numerator/denominator\n"
   ]
  },
  {
   "cell_type": "code",
   "execution_count": 3,
   "id": "2ce56b10",
   "metadata": {},
   "outputs": [],
   "source": [
    "def combination(n, k):\n",
    "    c = permutation(n, k)/factorial(k)\n",
    "    return c\n"
   ]
  },
  {
   "cell_type": "code",
   "execution_count": 7,
   "id": "e6bc5b97",
   "metadata": {},
   "outputs": [],
   "source": [
    "# 4 kings and ace (diamonds)\n",
    "p_king_ace = 1/combination(52, 5)"
   ]
  },
  {
   "cell_type": "code",
   "execution_count": 8,
   "id": "6c2fca22",
   "metadata": {},
   "outputs": [
    {
     "data": {
      "text/plain": [
       "3.8476929233231754e-07"
      ]
     },
     "execution_count": 8,
     "metadata": {},
     "output_type": "execute_result"
    }
   ],
   "source": [
    "p_king_ace"
   ]
  },
  {
   "cell_type": "code",
   "execution_count": 9,
   "id": "eeed30f1",
   "metadata": {},
   "outputs": [],
   "source": [
    "# 1 to 49 \n",
    "c_raffle = combination(49 , 6)"
   ]
  },
  {
   "cell_type": "code",
   "execution_count": 10,
   "id": "47ad0658",
   "metadata": {},
   "outputs": [
    {
     "data": {
      "text/plain": [
       "13983816.0"
      ]
     },
     "execution_count": 10,
     "metadata": {},
     "output_type": "execute_result"
    }
   ],
   "source": [
    "c_raffle"
   ]
  },
  {
   "cell_type": "code",
   "execution_count": 11,
   "id": "2eacc0a9",
   "metadata": {},
   "outputs": [],
   "source": [
    "win_raffle = 1/c_raffle\n"
   ]
  },
  {
   "cell_type": "code",
   "execution_count": 12,
   "id": "caff926e",
   "metadata": {},
   "outputs": [
    {
     "data": {
      "text/plain": [
       "7.151123842018516e-08"
      ]
     },
     "execution_count": 12,
     "metadata": {},
     "output_type": "execute_result"
    }
   ],
   "source": [
    "win_raffle"
   ]
  },
  {
   "cell_type": "code",
   "execution_count": null,
   "id": "fa3e44c1",
   "metadata": {},
   "outputs": [],
   "source": []
  }
 ],
 "metadata": {
  "kernelspec": {
   "display_name": "Python 3 (ipykernel)",
   "language": "python",
   "name": "python3"
  },
  "language_info": {
   "codemirror_mode": {
    "name": "ipython",
    "version": 3
   },
   "file_extension": ".py",
   "mimetype": "text/x-python",
   "name": "python",
   "nbconvert_exporter": "python",
   "pygments_lexer": "ipython3",
   "version": "3.7.9"
  }
 },
 "nbformat": 4,
 "nbformat_minor": 5
}
