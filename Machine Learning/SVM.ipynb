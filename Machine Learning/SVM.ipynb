{
 "cells": [
  {
   "cell_type": "code",
   "execution_count": 1,
   "id": "1e441335",
   "metadata": {},
   "outputs": [
    {
     "name": "stderr",
     "output_type": "stream",
     "text": [
      "[nltk_data] Downloading package names to\n",
      "[nltk_data]     C:\\Users\\vaibh\\AppData\\Roaming\\nltk_data...\n",
      "[nltk_data]   Package names is already up-to-date!\n"
     ]
    },
    {
     "data": {
      "text/plain": [
       "True"
      ]
     },
     "execution_count": 1,
     "metadata": {},
     "output_type": "execute_result"
    }
   ],
   "source": [
    "from sklearn.feature_extraction.text import TfidfVectorizer \n",
    "from sklearn.datasets import fetch_20newsgroups\n",
    "from nltk.corpus import names \n",
    "from nltk.corpus import stopwords\n",
    "import nltk\n",
    "nltk.download('names')"
   ]
  },
  {
   "cell_type": "code",
   "execution_count": 2,
   "id": "1e4b0dce",
   "metadata": {},
   "outputs": [],
   "source": [
    "all_names = set(names.words())\n"
   ]
  },
  {
   "cell_type": "code",
   "execution_count": 3,
   "id": "ce87e254",
   "metadata": {},
   "outputs": [],
   "source": [
    "def is_letter_only (word):\n",
    "    return word.isalpha()\n",
    "\n",
    "stop_words = stopwords.words('english')\n"
   ]
  },
  {
   "cell_type": "code",
   "execution_count": 4,
   "id": "d06e4596",
   "metadata": {},
   "outputs": [],
   "source": [
    "def clean_text(docs):\n",
    "    docs_cleaned = []\n",
    "    for doc in docs:\n",
    "        doc = doc.lower()\n",
    "        doc_cleaned = ' '.join(word for word in doc.split()\n",
    "                              if is_letter_only(word) and word not in all_names and word not in stop_words)\n",
    "        docs_cleaned.append(doc_cleaned)\n",
    "    return docs_cleaned\n"
   ]
  },
  {
   "cell_type": "code",
   "execution_count": 5,
   "id": "dd3aea0d",
   "metadata": {},
   "outputs": [],
   "source": [
    "categories = ['comp.graphics','sci.space']\n"
   ]
  },
  {
   "cell_type": "code",
   "execution_count": 6,
   "id": "ecd9dfa6",
   "metadata": {},
   "outputs": [],
   "source": [
    "data_train = fetch_20newsgroups(subset='train', categories=categories, random_state=42)\n",
    "data_test = fetch_20newsgroups(subset='test', categories=categories, random_state=42)\n"
   ]
  },
  {
   "cell_type": "code",
   "execution_count": 8,
   "id": "e24deb2e",
   "metadata": {},
   "outputs": [
    {
     "data": {
      "text/plain": [
       "(1177, 783)"
      ]
     },
     "execution_count": 8,
     "metadata": {},
     "output_type": "execute_result"
    }
   ],
   "source": [
    "cleaned_train = clean_text(data_train.data)\n",
    "cleaned_test = clean_text(data_test.data)\n",
    "\n",
    "label_train = data_train.target\n",
    "label_test = data_test.target\n",
    "\n",
    "len(label_train), len(label_test)\n"
   ]
  },
  {
   "cell_type": "code",
   "execution_count": 9,
   "id": "57f0eba5",
   "metadata": {},
   "outputs": [],
   "source": [
    "tfidf_vectorizer = TfidfVectorizer(stop_words='english', max_features=None)\n",
    "\n",
    "term_docs_train = tfidf_vectorizer.fit_transform(cleaned_train)\n",
    "term_docs_test = tfidf_vectorizer.transform(cleaned_test)\n"
   ]
  },
  {
   "cell_type": "code",
   "execution_count": 10,
   "id": "c7626987",
   "metadata": {},
   "outputs": [],
   "source": [
    "from sklearn.svm import SVC"
   ]
  },
  {
   "cell_type": "code",
   "execution_count": 11,
   "id": "87652e18",
   "metadata": {},
   "outputs": [],
   "source": [
    "svm = SVC(kernel = 'linear', C=1.0, random_state=42)"
   ]
  },
  {
   "cell_type": "code",
   "execution_count": 12,
   "id": "1288db58",
   "metadata": {},
   "outputs": [
    {
     "data": {
      "text/plain": [
       "SVC(kernel='linear', random_state=42)"
      ]
     },
     "execution_count": 12,
     "metadata": {},
     "output_type": "execute_result"
    }
   ],
   "source": [
    "svm.fit(term_docs_train, label_train)"
   ]
  },
  {
   "cell_type": "code",
   "execution_count": 13,
   "id": "a38c9391",
   "metadata": {},
   "outputs": [],
   "source": [
    "accuracy = svm.score(term_docs_test, label_test)"
   ]
  },
  {
   "cell_type": "code",
   "execution_count": 14,
   "id": "3570cda4",
   "metadata": {},
   "outputs": [
    {
     "data": {
      "text/plain": [
       "0.9655172413793104"
      ]
     },
     "execution_count": 14,
     "metadata": {},
     "output_type": "execute_result"
    }
   ],
   "source": [
    "accuracy"
   ]
  },
  {
   "cell_type": "code",
   "execution_count": 15,
   "id": "bdb0f087",
   "metadata": {},
   "outputs": [],
   "source": [
    "categories = ['alt.atheism','comp.graphics','sci.space','talk.religion.misc', 'rec.sport.hockey']\n",
    "data_train = fetch_20newsgroups(subset='train', categories=categories, random_state=42)\n",
    "data_test = fetch_20newsgroups(subset='test', categories=categories, random_state=42)"
   ]
  },
  {
   "cell_type": "code",
   "execution_count": 16,
   "id": "c67c4270",
   "metadata": {},
   "outputs": [
    {
     "data": {
      "text/plain": [
       "(2634, 1752)"
      ]
     },
     "execution_count": 16,
     "metadata": {},
     "output_type": "execute_result"
    }
   ],
   "source": [
    "cleaned_train = clean_text(data_train.data)\n",
    "cleaned_test = clean_text(data_test.data)\n",
    "\n",
    "label_train = data_train.target\n",
    "label_test = data_test.target\n",
    "\n",
    "len(label_train), len(label_test)"
   ]
  },
  {
   "cell_type": "code",
   "execution_count": 18,
   "id": "41d0ab17",
   "metadata": {},
   "outputs": [],
   "source": [
    "term_docs_train = tfidf_vectorizer.fit_transform(cleaned_train)\n",
    "term_docs_test = tfidf_vectorizer.transform(cleaned_test)"
   ]
  },
  {
   "cell_type": "code",
   "execution_count": 19,
   "id": "19129842",
   "metadata": {},
   "outputs": [
    {
     "data": {
      "text/plain": [
       "SVC(kernel='linear', random_state=42)"
      ]
     },
     "execution_count": 19,
     "metadata": {},
     "output_type": "execute_result"
    }
   ],
   "source": [
    "svm = SVC(kernel = 'linear', C=1.0, random_state=42)\n",
    "svm.fit(term_docs_train, label_train)"
   ]
  },
  {
   "cell_type": "code",
   "execution_count": 20,
   "id": "76874c16",
   "metadata": {},
   "outputs": [],
   "source": [
    "accuracy = svm.score(term_docs_test, label_test)"
   ]
  },
  {
   "cell_type": "code",
   "execution_count": 21,
   "id": "28772b38",
   "metadata": {},
   "outputs": [
    {
     "data": {
      "text/plain": [
       "0.8818493150684932"
      ]
     },
     "execution_count": 21,
     "metadata": {},
     "output_type": "execute_result"
    }
   ],
   "source": [
    "accuracy"
   ]
  },
  {
   "cell_type": "markdown",
   "id": "85b3e648",
   "metadata": {},
   "source": [
    "# GridSearch CV\n"
   ]
  },
  {
   "cell_type": "code",
   "execution_count": null,
   "id": "03063de2",
   "metadata": {},
   "outputs": [],
   "source": []
  }
 ],
 "metadata": {
  "kernelspec": {
   "display_name": "Python 3 (ipykernel)",
   "language": "python",
   "name": "python3"
  },
  "language_info": {
   "codemirror_mode": {
    "name": "ipython",
    "version": 3
   },
   "file_extension": ".py",
   "mimetype": "text/x-python",
   "name": "python",
   "nbconvert_exporter": "python",
   "pygments_lexer": "ipython3",
   "version": "3.7.9"
  }
 },
 "nbformat": 4,
 "nbformat_minor": 5
}
