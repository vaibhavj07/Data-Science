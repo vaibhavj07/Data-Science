{
 "cells": [
  {
   "cell_type": "code",
   "execution_count": 5,
   "id": "1dd81b26",
   "metadata": {},
   "outputs": [],
   "source": [
    "import tensorflow as tf\n",
    "from sklearn import datasets"
   ]
  },
  {
   "cell_type": "code",
   "execution_count": 6,
   "id": "d74a514f",
   "metadata": {},
   "outputs": [],
   "source": [
    "cancer_data = datasets.load_breast_cancer()"
   ]
  },
  {
   "cell_type": "code",
   "execution_count": 7,
   "id": "162e3fa9",
   "metadata": {},
   "outputs": [],
   "source": [
    "X = cancer_data.data"
   ]
  },
  {
   "cell_type": "code",
   "execution_count": 8,
   "id": "87586638",
   "metadata": {},
   "outputs": [],
   "source": [
    "y= cancer_data.target"
   ]
  },
  {
   "cell_type": "code",
   "execution_count": 9,
   "id": "577dccf4",
   "metadata": {},
   "outputs": [
    {
     "data": {
      "text/plain": [
       "Counter({0: 212, 1: 357})"
      ]
     },
     "execution_count": 9,
     "metadata": {},
     "output_type": "execute_result"
    }
   ],
   "source": [
    "from collections import Counter\n",
    "\n",
    "Counter(y)"
   ]
  },
  {
   "cell_type": "code",
   "execution_count": 10,
   "id": "2c3b3a3b",
   "metadata": {},
   "outputs": [],
   "source": [
    "import numpy as np"
   ]
  },
  {
   "cell_type": "code",
   "execution_count": 14,
   "id": "ad4acee8",
   "metadata": {},
   "outputs": [],
   "source": [
    "np.random.seed(42)\n",
    "train_indices = np.random.choice(len(y), round(len(y)*0.8), replace = False)"
   ]
  },
  {
   "cell_type": "code",
   "execution_count": null,
   "id": "1720b57b",
   "metadata": {},
   "outputs": [],
   "source": []
  }
 ],
 "metadata": {
  "kernelspec": {
   "display_name": "Python 3 (ipykernel)",
   "language": "python",
   "name": "python3"
  },
  "language_info": {
   "codemirror_mode": {
    "name": "ipython",
    "version": 3
   },
   "file_extension": ".py",
   "mimetype": "text/x-python",
   "name": "python",
   "nbconvert_exporter": "python",
   "pygments_lexer": "ipython3",
   "version": "3.7.9"
  }
 },
 "nbformat": 4,
 "nbformat_minor": 5
}
