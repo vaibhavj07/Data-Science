{
 "cells": [
  {
   "cell_type": "code",
   "execution_count": 1,
   "id": "5553baf3",
   "metadata": {},
   "outputs": [],
   "source": [
    "path = \"https://raw.githubusercontent.com/shobhit-nigam/knowledgeclan/main/datasets/income.csv\""
   ]
  },
  {
   "cell_type": "code",
   "execution_count": 2,
   "id": "9413416e",
   "metadata": {},
   "outputs": [],
   "source": [
    "import numpy as np\n",
    "import pandas as pd\n",
    "import matplotlib.pyplot as plt\n",
    "import math\n",
    "from sklearn.metrics import roc_auc_score\n",
    "from sklearn.tree import DecisionTreeClassifier"
   ]
  },
  {
   "cell_type": "code",
   "execution_count": 3,
   "id": "2e59859c",
   "metadata": {},
   "outputs": [],
   "source": [
    "dfa = pd.read_csv(path)"
   ]
  },
  {
   "cell_type": "code",
   "execution_count": 4,
   "id": "72f09e50",
   "metadata": {},
   "outputs": [],
   "source": [
    "str_cols = ['workclass' , 'education',\n",
    "  'marital_status',\n",
    " 'occupation',\n",
    " 'relationship',\n",
    " 'race',\n",
    " 'sex',\n",
    " 'native_country',\n",
    " 'high_income']"
   ]
  },
  {
   "cell_type": "code",
   "execution_count": 5,
   "id": "21284a1d",
   "metadata": {},
   "outputs": [],
   "source": [
    "for name in str_cols:\n",
    "    col = pd.Categorical(dfa[name])\n",
    "    dfa[name] = col.codes"
   ]
  },
  {
   "cell_type": "code",
   "execution_count": 6,
   "id": "91244f0f",
   "metadata": {},
   "outputs": [
    {
     "name": "stdout",
     "output_type": "stream",
     "text": [
      "['age', 'workclass', 'fnlwgt', 'education', 'education_num', 'marital_status', 'occupation', 'relationship', 'race', 'sex', 'capital_gain', 'capital_loss', 'hours_per_week', 'native_country', 'high_income']\n"
     ]
    }
   ],
   "source": [
    "list_cols = list(dfa.columns)\n",
    "print(list_cols)"
   ]
  },
  {
   "cell_type": "code",
   "execution_count": 7,
   "id": "cb5e03a0",
   "metadata": {},
   "outputs": [],
   "source": [
    "list_cols = ['age', 'workclass', 'education_num', 'marital_status', 'occupation', 'relationship', 'race', 'sex', 'hours_per_week', 'native_country']\n"
   ]
  },
  {
   "cell_type": "code",
   "execution_count": 8,
   "id": "fb62990a",
   "metadata": {},
   "outputs": [],
   "source": [
    "train_max_row = math.floor(dfa.shape[0] *0.8)\n",
    "train = dfa.iloc[:train_max_row]\n",
    "test = dfa.iloc[train_max_row:]"
   ]
  },
  {
   "cell_type": "code",
   "execution_count": 9,
   "id": "5b30d560",
   "metadata": {},
   "outputs": [
    {
     "name": "stdout",
     "output_type": "stream",
     "text": [
      "0.7391948020557705\n"
     ]
    }
   ],
   "source": [
    "tree_count = 10\n",
    "bag_ratio = 6/10   #(60 % of the original rows)\n",
    "predictions = []\n",
    "\n",
    "for i in range(tree_count):\n",
    "    bag = train.sample(frac=bag_ratio, replace = True, random_state = i)\n",
    "    \n",
    "    model = DecisionTreeClassifier(min_samples_leaf = 2, random_state = 1)\n",
    "    model.fit(bag[list_cols], bag[\"high_income\"])\n",
    "    \n",
    "    predictions.append(model.predict_proba(test[list_cols])[:, 1])\n",
    "    combination = np.round((np.sum(predictions, axis = 0))/(len(predictions)))\n",
    "\n",
    "print(roc_auc_score(test[\"high_income\"], combination))"
   ]
  },
  {
   "cell_type": "code",
   "execution_count": 10,
   "id": "a99b4dd3",
   "metadata": {},
   "outputs": [
    {
     "name": "stdout",
     "output_type": "stream",
     "text": [
      "0.7382020913901893\n"
     ]
    }
   ],
   "source": [
    "# GINI coefficient\n",
    "\n",
    "predictions = []\n",
    "\n",
    "for i in range(tree_count):\n",
    "    bag = train.sample(frac=bag_ratio, replace = True, random_state = i)\n",
    "    \n",
    "    model = DecisionTreeClassifier(min_samples_leaf = 2, random_state = 1, splitter='random', max_features='auto')\n",
    "    model.fit(bag[list_cols], bag[\"high_income\"])\n",
    "    \n",
    "    predictions.append(model.predict_proba(test[list_cols])[:, 1])\n",
    "    combination = np.round((np.sum(predictions, axis = 0))/(len(predictions)))\n",
    "\n",
    "print(roc_auc_score(test[\"high_income\"], combination))"
   ]
  },
  {
   "cell_type": "code",
   "execution_count": null,
   "id": "a36fe62c",
   "metadata": {},
   "outputs": [],
   "source": []
  }
 ],
 "metadata": {
  "kernelspec": {
   "display_name": "Python 3 (ipykernel)",
   "language": "python",
   "name": "python3"
  },
  "language_info": {
   "codemirror_mode": {
    "name": "ipython",
    "version": 3
   },
   "file_extension": ".py",
   "mimetype": "text/x-python",
   "name": "python",
   "nbconvert_exporter": "python",
   "pygments_lexer": "ipython3",
   "version": "3.7.9"
  }
 },
 "nbformat": 4,
 "nbformat_minor": 5
}
