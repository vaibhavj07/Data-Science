{
 "cells": [
  {
   "cell_type": "code",
   "execution_count": 1,
   "id": "a0e94b7d",
   "metadata": {},
   "outputs": [],
   "source": [
    "import pandas as pd\n",
    "import numpy as np\n",
    "import matplotlib.pyplot as plt"
   ]
  },
  {
   "cell_type": "code",
   "execution_count": 2,
   "id": "4ca15a73",
   "metadata": {},
   "outputs": [],
   "source": [
    "path = \"https://raw.githubusercontent.com/shobhit-nigam/knowledgeclan/main/datasets/wnba.csv\""
   ]
  },
  {
   "cell_type": "code",
   "execution_count": 3,
   "id": "dd59bf58",
   "metadata": {},
   "outputs": [],
   "source": [
    "wnba = pd.read_csv(path)"
   ]
  },
  {
   "cell_type": "code",
   "execution_count": 4,
   "id": "6c04a0a3",
   "metadata": {},
   "outputs": [
    {
     "data": {
      "text/html": [
       "<div>\n",
       "<style scoped>\n",
       "    .dataframe tbody tr th:only-of-type {\n",
       "        vertical-align: middle;\n",
       "    }\n",
       "\n",
       "    .dataframe tbody tr th {\n",
       "        vertical-align: top;\n",
       "    }\n",
       "\n",
       "    .dataframe thead th {\n",
       "        text-align: right;\n",
       "    }\n",
       "</style>\n",
       "<table border=\"1\" class=\"dataframe\">\n",
       "  <thead>\n",
       "    <tr style=\"text-align: right;\">\n",
       "      <th></th>\n",
       "      <th>Name</th>\n",
       "      <th>Team</th>\n",
       "      <th>Pos</th>\n",
       "      <th>Height</th>\n",
       "      <th>Weight</th>\n",
       "      <th>BMI</th>\n",
       "      <th>Birth_Place</th>\n",
       "      <th>Birthdate</th>\n",
       "      <th>Age</th>\n",
       "      <th>College</th>\n",
       "      <th>...</th>\n",
       "      <th>OREB</th>\n",
       "      <th>DREB</th>\n",
       "      <th>REB</th>\n",
       "      <th>AST</th>\n",
       "      <th>STL</th>\n",
       "      <th>BLK</th>\n",
       "      <th>TO</th>\n",
       "      <th>PTS</th>\n",
       "      <th>DD2</th>\n",
       "      <th>TD3</th>\n",
       "    </tr>\n",
       "  </thead>\n",
       "  <tbody>\n",
       "    <tr>\n",
       "      <th>0</th>\n",
       "      <td>Aerial Powers</td>\n",
       "      <td>DAL</td>\n",
       "      <td>F</td>\n",
       "      <td>183</td>\n",
       "      <td>71.0</td>\n",
       "      <td>21.200991</td>\n",
       "      <td>US</td>\n",
       "      <td>January 17, 1994</td>\n",
       "      <td>23</td>\n",
       "      <td>Michigan State</td>\n",
       "      <td>...</td>\n",
       "      <td>6</td>\n",
       "      <td>22</td>\n",
       "      <td>28</td>\n",
       "      <td>12</td>\n",
       "      <td>3</td>\n",
       "      <td>6</td>\n",
       "      <td>12</td>\n",
       "      <td>93</td>\n",
       "      <td>0</td>\n",
       "      <td>0</td>\n",
       "    </tr>\n",
       "    <tr>\n",
       "      <th>1</th>\n",
       "      <td>Alana Beard</td>\n",
       "      <td>LA</td>\n",
       "      <td>G/F</td>\n",
       "      <td>185</td>\n",
       "      <td>73.0</td>\n",
       "      <td>21.329438</td>\n",
       "      <td>US</td>\n",
       "      <td>May 14, 1982</td>\n",
       "      <td>35</td>\n",
       "      <td>Duke</td>\n",
       "      <td>...</td>\n",
       "      <td>19</td>\n",
       "      <td>82</td>\n",
       "      <td>101</td>\n",
       "      <td>72</td>\n",
       "      <td>63</td>\n",
       "      <td>13</td>\n",
       "      <td>40</td>\n",
       "      <td>217</td>\n",
       "      <td>0</td>\n",
       "      <td>0</td>\n",
       "    </tr>\n",
       "    <tr>\n",
       "      <th>2</th>\n",
       "      <td>Alex Bentley</td>\n",
       "      <td>CON</td>\n",
       "      <td>G</td>\n",
       "      <td>170</td>\n",
       "      <td>69.0</td>\n",
       "      <td>23.875433</td>\n",
       "      <td>US</td>\n",
       "      <td>October 27, 1990</td>\n",
       "      <td>26</td>\n",
       "      <td>Penn State</td>\n",
       "      <td>...</td>\n",
       "      <td>4</td>\n",
       "      <td>36</td>\n",
       "      <td>40</td>\n",
       "      <td>78</td>\n",
       "      <td>22</td>\n",
       "      <td>3</td>\n",
       "      <td>24</td>\n",
       "      <td>218</td>\n",
       "      <td>0</td>\n",
       "      <td>0</td>\n",
       "    </tr>\n",
       "    <tr>\n",
       "      <th>3</th>\n",
       "      <td>Alex Montgomery</td>\n",
       "      <td>SAN</td>\n",
       "      <td>G/F</td>\n",
       "      <td>185</td>\n",
       "      <td>84.0</td>\n",
       "      <td>24.543462</td>\n",
       "      <td>US</td>\n",
       "      <td>December 11, 1988</td>\n",
       "      <td>28</td>\n",
       "      <td>Georgia Tech</td>\n",
       "      <td>...</td>\n",
       "      <td>35</td>\n",
       "      <td>134</td>\n",
       "      <td>169</td>\n",
       "      <td>65</td>\n",
       "      <td>20</td>\n",
       "      <td>10</td>\n",
       "      <td>38</td>\n",
       "      <td>188</td>\n",
       "      <td>2</td>\n",
       "      <td>0</td>\n",
       "    </tr>\n",
       "    <tr>\n",
       "      <th>4</th>\n",
       "      <td>Alexis Jones</td>\n",
       "      <td>MIN</td>\n",
       "      <td>G</td>\n",
       "      <td>175</td>\n",
       "      <td>78.0</td>\n",
       "      <td>25.469388</td>\n",
       "      <td>US</td>\n",
       "      <td>August 5, 1994</td>\n",
       "      <td>23</td>\n",
       "      <td>Baylor</td>\n",
       "      <td>...</td>\n",
       "      <td>3</td>\n",
       "      <td>9</td>\n",
       "      <td>12</td>\n",
       "      <td>12</td>\n",
       "      <td>7</td>\n",
       "      <td>0</td>\n",
       "      <td>14</td>\n",
       "      <td>50</td>\n",
       "      <td>0</td>\n",
       "      <td>0</td>\n",
       "    </tr>\n",
       "    <tr>\n",
       "      <th>...</th>\n",
       "      <td>...</td>\n",
       "      <td>...</td>\n",
       "      <td>...</td>\n",
       "      <td>...</td>\n",
       "      <td>...</td>\n",
       "      <td>...</td>\n",
       "      <td>...</td>\n",
       "      <td>...</td>\n",
       "      <td>...</td>\n",
       "      <td>...</td>\n",
       "      <td>...</td>\n",
       "      <td>...</td>\n",
       "      <td>...</td>\n",
       "      <td>...</td>\n",
       "      <td>...</td>\n",
       "      <td>...</td>\n",
       "      <td>...</td>\n",
       "      <td>...</td>\n",
       "      <td>...</td>\n",
       "      <td>...</td>\n",
       "      <td>...</td>\n",
       "    </tr>\n",
       "    <tr>\n",
       "      <th>138</th>\n",
       "      <td>Tiffany Hayes</td>\n",
       "      <td>ATL</td>\n",
       "      <td>G</td>\n",
       "      <td>178</td>\n",
       "      <td>70.0</td>\n",
       "      <td>22.093170</td>\n",
       "      <td>US</td>\n",
       "      <td>September 20, 1989</td>\n",
       "      <td>27</td>\n",
       "      <td>Connecticut</td>\n",
       "      <td>...</td>\n",
       "      <td>28</td>\n",
       "      <td>89</td>\n",
       "      <td>117</td>\n",
       "      <td>69</td>\n",
       "      <td>37</td>\n",
       "      <td>8</td>\n",
       "      <td>50</td>\n",
       "      <td>467</td>\n",
       "      <td>0</td>\n",
       "      <td>0</td>\n",
       "    </tr>\n",
       "    <tr>\n",
       "      <th>139</th>\n",
       "      <td>Tiffany Jackson</td>\n",
       "      <td>LA</td>\n",
       "      <td>F</td>\n",
       "      <td>191</td>\n",
       "      <td>84.0</td>\n",
       "      <td>23.025685</td>\n",
       "      <td>US</td>\n",
       "      <td>April 26, 1985</td>\n",
       "      <td>32</td>\n",
       "      <td>Texas</td>\n",
       "      <td>...</td>\n",
       "      <td>5</td>\n",
       "      <td>18</td>\n",
       "      <td>23</td>\n",
       "      <td>3</td>\n",
       "      <td>1</td>\n",
       "      <td>3</td>\n",
       "      <td>8</td>\n",
       "      <td>28</td>\n",
       "      <td>0</td>\n",
       "      <td>0</td>\n",
       "    </tr>\n",
       "    <tr>\n",
       "      <th>140</th>\n",
       "      <td>Tiffany Mitchell</td>\n",
       "      <td>IND</td>\n",
       "      <td>G</td>\n",
       "      <td>175</td>\n",
       "      <td>69.0</td>\n",
       "      <td>22.530612</td>\n",
       "      <td>US</td>\n",
       "      <td>September 23, 1984</td>\n",
       "      <td>32</td>\n",
       "      <td>South Carolina</td>\n",
       "      <td>...</td>\n",
       "      <td>16</td>\n",
       "      <td>70</td>\n",
       "      <td>86</td>\n",
       "      <td>39</td>\n",
       "      <td>31</td>\n",
       "      <td>5</td>\n",
       "      <td>40</td>\n",
       "      <td>277</td>\n",
       "      <td>0</td>\n",
       "      <td>0</td>\n",
       "    </tr>\n",
       "    <tr>\n",
       "      <th>141</th>\n",
       "      <td>Tina Charles</td>\n",
       "      <td>NY</td>\n",
       "      <td>F/C</td>\n",
       "      <td>193</td>\n",
       "      <td>84.0</td>\n",
       "      <td>22.550941</td>\n",
       "      <td>US</td>\n",
       "      <td>May 12, 1988</td>\n",
       "      <td>29</td>\n",
       "      <td>Connecticut</td>\n",
       "      <td>...</td>\n",
       "      <td>56</td>\n",
       "      <td>212</td>\n",
       "      <td>268</td>\n",
       "      <td>75</td>\n",
       "      <td>21</td>\n",
       "      <td>22</td>\n",
       "      <td>71</td>\n",
       "      <td>582</td>\n",
       "      <td>11</td>\n",
       "      <td>0</td>\n",
       "    </tr>\n",
       "    <tr>\n",
       "      <th>142</th>\n",
       "      <td>Yvonne Turner</td>\n",
       "      <td>PHO</td>\n",
       "      <td>G</td>\n",
       "      <td>175</td>\n",
       "      <td>59.0</td>\n",
       "      <td>19.265306</td>\n",
       "      <td>US</td>\n",
       "      <td>October 13, 1987</td>\n",
       "      <td>29</td>\n",
       "      <td>Nebraska</td>\n",
       "      <td>...</td>\n",
       "      <td>11</td>\n",
       "      <td>13</td>\n",
       "      <td>24</td>\n",
       "      <td>30</td>\n",
       "      <td>18</td>\n",
       "      <td>1</td>\n",
       "      <td>32</td>\n",
       "      <td>151</td>\n",
       "      <td>0</td>\n",
       "      <td>0</td>\n",
       "    </tr>\n",
       "  </tbody>\n",
       "</table>\n",
       "<p>143 rows × 32 columns</p>\n",
       "</div>"
      ],
      "text/plain": [
       "                 Name Team  Pos  Height  Weight        BMI Birth_Place  \\\n",
       "0       Aerial Powers  DAL    F     183    71.0  21.200991          US   \n",
       "1         Alana Beard   LA  G/F     185    73.0  21.329438          US   \n",
       "2        Alex Bentley  CON    G     170    69.0  23.875433          US   \n",
       "3     Alex Montgomery  SAN  G/F     185    84.0  24.543462          US   \n",
       "4        Alexis Jones  MIN    G     175    78.0  25.469388          US   \n",
       "..                ...  ...  ...     ...     ...        ...         ...   \n",
       "138     Tiffany Hayes  ATL    G     178    70.0  22.093170          US   \n",
       "139   Tiffany Jackson   LA    F     191    84.0  23.025685          US   \n",
       "140  Tiffany Mitchell  IND    G     175    69.0  22.530612          US   \n",
       "141      Tina Charles   NY  F/C     193    84.0  22.550941          US   \n",
       "142     Yvonne Turner  PHO    G     175    59.0  19.265306          US   \n",
       "\n",
       "              Birthdate  Age         College  ... OREB  DREB  REB  AST  STL  \\\n",
       "0      January 17, 1994   23  Michigan State  ...    6    22   28   12    3   \n",
       "1          May 14, 1982   35            Duke  ...   19    82  101   72   63   \n",
       "2      October 27, 1990   26      Penn State  ...    4    36   40   78   22   \n",
       "3     December 11, 1988   28    Georgia Tech  ...   35   134  169   65   20   \n",
       "4        August 5, 1994   23          Baylor  ...    3     9   12   12    7   \n",
       "..                  ...  ...             ...  ...  ...   ...  ...  ...  ...   \n",
       "138  September 20, 1989   27     Connecticut  ...   28    89  117   69   37   \n",
       "139      April 26, 1985   32           Texas  ...    5    18   23    3    1   \n",
       "140  September 23, 1984   32  South Carolina  ...   16    70   86   39   31   \n",
       "141        May 12, 1988   29     Connecticut  ...   56   212  268   75   21   \n",
       "142    October 13, 1987   29        Nebraska  ...   11    13   24   30   18   \n",
       "\n",
       "     BLK  TO  PTS  DD2  TD3  \n",
       "0      6  12   93    0    0  \n",
       "1     13  40  217    0    0  \n",
       "2      3  24  218    0    0  \n",
       "3     10  38  188    2    0  \n",
       "4      0  14   50    0    0  \n",
       "..   ...  ..  ...  ...  ...  \n",
       "138    8  50  467    0    0  \n",
       "139    3   8   28    0    0  \n",
       "140    5  40  277    0    0  \n",
       "141   22  71  582   11    0  \n",
       "142    1  32  151    0    0  \n",
       "\n",
       "[143 rows x 32 columns]"
      ]
     },
     "execution_count": 4,
     "metadata": {},
     "output_type": "execute_result"
    }
   ],
   "source": [
    "wnba\n"
   ]
  },
  {
   "cell_type": "code",
   "execution_count": 5,
   "id": "2e7448d3",
   "metadata": {},
   "outputs": [
    {
     "name": "stdout",
     "output_type": "stream",
     "text": [
      "['Name', 'Team', 'Pos', 'Height', 'Weight', 'BMI', 'Birth_Place', 'Birthdate', 'Age', 'College', 'Experience', 'Games Played', 'MIN', 'FGM', 'FGA', 'FG%', '15:00', '3PA', '3P%', 'FTM', 'FTA', 'FT%', 'OREB', 'DREB', 'REB', 'AST', 'STL', 'BLK', 'TO', 'PTS', 'DD2', 'TD3']\n"
     ]
    }
   ],
   "source": [
    "print(list(wnba.columns))"
   ]
  },
  {
   "cell_type": "code",
   "execution_count": 6,
   "id": "39589341",
   "metadata": {},
   "outputs": [],
   "source": [
    "variables = {\"Name\", 'Team', 'Pos'}"
   ]
  },
  {
   "cell_type": "code",
   "execution_count": 7,
   "id": "0c949f0b",
   "metadata": {},
   "outputs": [
    {
     "data": {
      "text/html": [
       "<div>\n",
       "<style scoped>\n",
       "    .dataframe tbody tr th:only-of-type {\n",
       "        vertical-align: middle;\n",
       "    }\n",
       "\n",
       "    .dataframe tbody tr th {\n",
       "        vertical-align: top;\n",
       "    }\n",
       "\n",
       "    .dataframe thead th {\n",
       "        text-align: right;\n",
       "    }\n",
       "</style>\n",
       "<table border=\"1\" class=\"dataframe\">\n",
       "  <thead>\n",
       "    <tr style=\"text-align: right;\">\n",
       "      <th></th>\n",
       "      <th>Name</th>\n",
       "      <th>Team</th>\n",
       "      <th>Pos</th>\n",
       "      <th>Height</th>\n",
       "      <th>Weight</th>\n",
       "      <th>BMI</th>\n",
       "      <th>Birth_Place</th>\n",
       "      <th>Birthdate</th>\n",
       "      <th>Age</th>\n",
       "      <th>College</th>\n",
       "      <th>...</th>\n",
       "      <th>OREB</th>\n",
       "      <th>DREB</th>\n",
       "      <th>REB</th>\n",
       "      <th>AST</th>\n",
       "      <th>STL</th>\n",
       "      <th>BLK</th>\n",
       "      <th>TO</th>\n",
       "      <th>PTS</th>\n",
       "      <th>DD2</th>\n",
       "      <th>TD3</th>\n",
       "    </tr>\n",
       "  </thead>\n",
       "  <tbody>\n",
       "    <tr>\n",
       "      <th>31</th>\n",
       "      <td>Carolyn Swords</td>\n",
       "      <td>SEA</td>\n",
       "      <td>C</td>\n",
       "      <td>198</td>\n",
       "      <td>95.0</td>\n",
       "      <td>24.232221</td>\n",
       "      <td>US</td>\n",
       "      <td>July 19, 1989</td>\n",
       "      <td>28</td>\n",
       "      <td>Boston College</td>\n",
       "      <td>...</td>\n",
       "      <td>10</td>\n",
       "      <td>29</td>\n",
       "      <td>39</td>\n",
       "      <td>9</td>\n",
       "      <td>5</td>\n",
       "      <td>4</td>\n",
       "      <td>22</td>\n",
       "      <td>54</td>\n",
       "      <td>0</td>\n",
       "      <td>0</td>\n",
       "    </tr>\n",
       "    <tr>\n",
       "      <th>8</th>\n",
       "      <td>Allisha Gray</td>\n",
       "      <td>DAL</td>\n",
       "      <td>G</td>\n",
       "      <td>185</td>\n",
       "      <td>76.0</td>\n",
       "      <td>22.205990</td>\n",
       "      <td>US</td>\n",
       "      <td>October 20, 1992</td>\n",
       "      <td>24</td>\n",
       "      <td>South Carolina</td>\n",
       "      <td>...</td>\n",
       "      <td>52</td>\n",
       "      <td>75</td>\n",
       "      <td>127</td>\n",
       "      <td>40</td>\n",
       "      <td>47</td>\n",
       "      <td>19</td>\n",
       "      <td>37</td>\n",
       "      <td>395</td>\n",
       "      <td>0</td>\n",
       "      <td>0</td>\n",
       "    </tr>\n",
       "    <tr>\n",
       "      <th>123</th>\n",
       "      <td>Shenise Johnson</td>\n",
       "      <td>IND</td>\n",
       "      <td>G</td>\n",
       "      <td>180</td>\n",
       "      <td>78.0</td>\n",
       "      <td>24.074074</td>\n",
       "      <td>US</td>\n",
       "      <td>September 12, 1990</td>\n",
       "      <td>26</td>\n",
       "      <td>Miami (FL)</td>\n",
       "      <td>...</td>\n",
       "      <td>13</td>\n",
       "      <td>35</td>\n",
       "      <td>48</td>\n",
       "      <td>35</td>\n",
       "      <td>21</td>\n",
       "      <td>4</td>\n",
       "      <td>18</td>\n",
       "      <td>158</td>\n",
       "      <td>0</td>\n",
       "      <td>0</td>\n",
       "    </tr>\n",
       "    <tr>\n",
       "      <th>79</th>\n",
       "      <td>Kelsey Plum</td>\n",
       "      <td>SAN</td>\n",
       "      <td>G</td>\n",
       "      <td>173</td>\n",
       "      <td>66.0</td>\n",
       "      <td>22.052190</td>\n",
       "      <td>US</td>\n",
       "      <td>August 24, 1994</td>\n",
       "      <td>23</td>\n",
       "      <td>Washington</td>\n",
       "      <td>...</td>\n",
       "      <td>11</td>\n",
       "      <td>42</td>\n",
       "      <td>53</td>\n",
       "      <td>91</td>\n",
       "      <td>13</td>\n",
       "      <td>4</td>\n",
       "      <td>72</td>\n",
       "      <td>225</td>\n",
       "      <td>0</td>\n",
       "      <td>0</td>\n",
       "    </tr>\n",
       "    <tr>\n",
       "      <th>14</th>\n",
       "      <td>Aneika Henry</td>\n",
       "      <td>ATL</td>\n",
       "      <td>F/C</td>\n",
       "      <td>193</td>\n",
       "      <td>87.0</td>\n",
       "      <td>23.356332</td>\n",
       "      <td>JM</td>\n",
       "      <td>February 13, 1986</td>\n",
       "      <td>31</td>\n",
       "      <td>Florida</td>\n",
       "      <td>...</td>\n",
       "      <td>0</td>\n",
       "      <td>4</td>\n",
       "      <td>4</td>\n",
       "      <td>1</td>\n",
       "      <td>2</td>\n",
       "      <td>0</td>\n",
       "      <td>3</td>\n",
       "      <td>8</td>\n",
       "      <td>0</td>\n",
       "      <td>0</td>\n",
       "    </tr>\n",
       "    <tr>\n",
       "      <th>141</th>\n",
       "      <td>Tina Charles</td>\n",
       "      <td>NY</td>\n",
       "      <td>F/C</td>\n",
       "      <td>193</td>\n",
       "      <td>84.0</td>\n",
       "      <td>22.550941</td>\n",
       "      <td>US</td>\n",
       "      <td>May 12, 1988</td>\n",
       "      <td>29</td>\n",
       "      <td>Connecticut</td>\n",
       "      <td>...</td>\n",
       "      <td>56</td>\n",
       "      <td>212</td>\n",
       "      <td>268</td>\n",
       "      <td>75</td>\n",
       "      <td>21</td>\n",
       "      <td>22</td>\n",
       "      <td>71</td>\n",
       "      <td>582</td>\n",
       "      <td>11</td>\n",
       "      <td>0</td>\n",
       "    </tr>\n",
       "    <tr>\n",
       "      <th>112</th>\n",
       "      <td>Riquna Williams</td>\n",
       "      <td>LA</td>\n",
       "      <td>G</td>\n",
       "      <td>170</td>\n",
       "      <td>75.0</td>\n",
       "      <td>25.951557</td>\n",
       "      <td>US</td>\n",
       "      <td>May 28, 1990</td>\n",
       "      <td>27</td>\n",
       "      <td>Miami (FL)</td>\n",
       "      <td>...</td>\n",
       "      <td>6</td>\n",
       "      <td>26</td>\n",
       "      <td>32</td>\n",
       "      <td>16</td>\n",
       "      <td>19</td>\n",
       "      <td>3</td>\n",
       "      <td>26</td>\n",
       "      <td>148</td>\n",
       "      <td>0</td>\n",
       "      <td>0</td>\n",
       "    </tr>\n",
       "    <tr>\n",
       "      <th>9</th>\n",
       "      <td>Allison Hightower</td>\n",
       "      <td>WAS</td>\n",
       "      <td>G</td>\n",
       "      <td>178</td>\n",
       "      <td>77.0</td>\n",
       "      <td>24.302487</td>\n",
       "      <td>US</td>\n",
       "      <td>June 4, 1988</td>\n",
       "      <td>29</td>\n",
       "      <td>LSU</td>\n",
       "      <td>...</td>\n",
       "      <td>3</td>\n",
       "      <td>7</td>\n",
       "      <td>10</td>\n",
       "      <td>10</td>\n",
       "      <td>5</td>\n",
       "      <td>0</td>\n",
       "      <td>2</td>\n",
       "      <td>36</td>\n",
       "      <td>0</td>\n",
       "      <td>0</td>\n",
       "    </tr>\n",
       "    <tr>\n",
       "      <th>33</th>\n",
       "      <td>Chelsea Gray</td>\n",
       "      <td>LA</td>\n",
       "      <td>G</td>\n",
       "      <td>180</td>\n",
       "      <td>77.0</td>\n",
       "      <td>23.765432</td>\n",
       "      <td>US</td>\n",
       "      <td>August 10, 1992</td>\n",
       "      <td>25</td>\n",
       "      <td>Duke</td>\n",
       "      <td>...</td>\n",
       "      <td>19</td>\n",
       "      <td>80</td>\n",
       "      <td>99</td>\n",
       "      <td>132</td>\n",
       "      <td>29</td>\n",
       "      <td>7</td>\n",
       "      <td>61</td>\n",
       "      <td>456</td>\n",
       "      <td>1</td>\n",
       "      <td>0</td>\n",
       "    </tr>\n",
       "    <tr>\n",
       "      <th>53</th>\n",
       "      <td>Erlana Larkins</td>\n",
       "      <td>IND</td>\n",
       "      <td>F</td>\n",
       "      <td>185</td>\n",
       "      <td>93.0</td>\n",
       "      <td>27.173119</td>\n",
       "      <td>US</td>\n",
       "      <td>February 4, 1986</td>\n",
       "      <td>31</td>\n",
       "      <td>North Carolina</td>\n",
       "      <td>...</td>\n",
       "      <td>9</td>\n",
       "      <td>26</td>\n",
       "      <td>35</td>\n",
       "      <td>24</td>\n",
       "      <td>11</td>\n",
       "      <td>8</td>\n",
       "      <td>13</td>\n",
       "      <td>102</td>\n",
       "      <td>0</td>\n",
       "      <td>0</td>\n",
       "    </tr>\n",
       "  </tbody>\n",
       "</table>\n",
       "<p>10 rows × 32 columns</p>\n",
       "</div>"
      ],
      "text/plain": [
       "                  Name Team  Pos  Height  Weight        BMI Birth_Place  \\\n",
       "31      Carolyn Swords  SEA    C     198    95.0  24.232221          US   \n",
       "8         Allisha Gray  DAL    G     185    76.0  22.205990          US   \n",
       "123    Shenise Johnson  IND    G     180    78.0  24.074074          US   \n",
       "79         Kelsey Plum  SAN    G     173    66.0  22.052190          US   \n",
       "14        Aneika Henry  ATL  F/C     193    87.0  23.356332          JM   \n",
       "141       Tina Charles   NY  F/C     193    84.0  22.550941          US   \n",
       "112    Riquna Williams   LA    G     170    75.0  25.951557          US   \n",
       "9    Allison Hightower  WAS    G     178    77.0  24.302487          US   \n",
       "33        Chelsea Gray   LA    G     180    77.0  23.765432          US   \n",
       "53      Erlana Larkins  IND    F     185    93.0  27.173119          US   \n",
       "\n",
       "              Birthdate  Age         College  ... OREB  DREB  REB  AST  STL  \\\n",
       "31        July 19, 1989   28  Boston College  ...   10    29   39    9    5   \n",
       "8      October 20, 1992   24  South Carolina  ...   52    75  127   40   47   \n",
       "123  September 12, 1990   26      Miami (FL)  ...   13    35   48   35   21   \n",
       "79      August 24, 1994   23      Washington  ...   11    42   53   91   13   \n",
       "14    February 13, 1986   31         Florida  ...    0     4    4    1    2   \n",
       "141        May 12, 1988   29     Connecticut  ...   56   212  268   75   21   \n",
       "112        May 28, 1990   27      Miami (FL)  ...    6    26   32   16   19   \n",
       "9          June 4, 1988   29             LSU  ...    3     7   10   10    5   \n",
       "33      August 10, 1992   25            Duke  ...   19    80   99  132   29   \n",
       "53     February 4, 1986   31  North Carolina  ...    9    26   35   24   11   \n",
       "\n",
       "     BLK  TO  PTS  DD2  TD3  \n",
       "31     4  22   54    0    0  \n",
       "8     19  37  395    0    0  \n",
       "123    4  18  158    0    0  \n",
       "79     4  72  225    0    0  \n",
       "14     0   3    8    0    0  \n",
       "141   22  71  582   11    0  \n",
       "112    3  26  148    0    0  \n",
       "9      0   2   36    0    0  \n",
       "33     7  61  456    1    0  \n",
       "53     8  13  102    0    0  \n",
       "\n",
       "[10 rows x 32 columns]"
      ]
     },
     "execution_count": 7,
     "metadata": {},
     "output_type": "execute_result"
    }
   ],
   "source": [
    "wnba.sample(10)"
   ]
  },
  {
   "cell_type": "code",
   "execution_count": 8,
   "id": "632c81a1",
   "metadata": {},
   "outputs": [],
   "source": [
    "nominal_scale = ['Name', 'Team', 'Pos', 'Birth_Place', 'College']\n"
   ]
  },
  {
   "cell_type": "code",
   "execution_count": 9,
   "id": "80f01d83",
   "metadata": {},
   "outputs": [
    {
     "data": {
      "text/plain": [
       "10.996110408297898"
      ]
     },
     "execution_count": 9,
     "metadata": {},
     "output_type": "execute_result"
    }
   ],
   "source": [
    "wnba['Weight'].std()"
   ]
  },
  {
   "cell_type": "code",
   "execution_count": 10,
   "id": "6e613058",
   "metadata": {},
   "outputs": [],
   "source": [
    "temp = wnba.sample(10)"
   ]
  },
  {
   "cell_type": "code",
   "execution_count": 11,
   "id": "f16c343d",
   "metadata": {},
   "outputs": [],
   "source": [
    "temp['Weight_deviation'] = temp['Weight'].mean() - temp['Weight']"
   ]
  },
  {
   "cell_type": "code",
   "execution_count": 12,
   "id": "fa63c14d",
   "metadata": {},
   "outputs": [
    {
     "data": {
      "text/html": [
       "<div>\n",
       "<style scoped>\n",
       "    .dataframe tbody tr th:only-of-type {\n",
       "        vertical-align: middle;\n",
       "    }\n",
       "\n",
       "    .dataframe tbody tr th {\n",
       "        vertical-align: top;\n",
       "    }\n",
       "\n",
       "    .dataframe thead th {\n",
       "        text-align: right;\n",
       "    }\n",
       "</style>\n",
       "<table border=\"1\" class=\"dataframe\">\n",
       "  <thead>\n",
       "    <tr style=\"text-align: right;\">\n",
       "      <th></th>\n",
       "      <th>Name</th>\n",
       "      <th>Weight</th>\n",
       "      <th>Weight_deviation</th>\n",
       "    </tr>\n",
       "  </thead>\n",
       "  <tbody>\n",
       "    <tr>\n",
       "      <th>137</th>\n",
       "      <td>Tierra Ruffin-Pratt</td>\n",
       "      <td>83.0</td>\n",
       "      <td>-5.8</td>\n",
       "    </tr>\n",
       "    <tr>\n",
       "      <th>94</th>\n",
       "      <td>Maya Moore</td>\n",
       "      <td>80.0</td>\n",
       "      <td>-2.8</td>\n",
       "    </tr>\n",
       "    <tr>\n",
       "      <th>104</th>\n",
       "      <td>Noelle Quinn</td>\n",
       "      <td>81.0</td>\n",
       "      <td>-3.8</td>\n",
       "    </tr>\n",
       "    <tr>\n",
       "      <th>47</th>\n",
       "      <td>Elizabeth Williams</td>\n",
       "      <td>87.0</td>\n",
       "      <td>-9.8</td>\n",
       "    </tr>\n",
       "    <tr>\n",
       "      <th>79</th>\n",
       "      <td>Kelsey Plum</td>\n",
       "      <td>66.0</td>\n",
       "      <td>11.2</td>\n",
       "    </tr>\n",
       "    <tr>\n",
       "      <th>87</th>\n",
       "      <td>Lindsay Allen</td>\n",
       "      <td>65.0</td>\n",
       "      <td>12.2</td>\n",
       "    </tr>\n",
       "    <tr>\n",
       "      <th>130</th>\n",
       "      <td>Sydney Wiese</td>\n",
       "      <td>68.0</td>\n",
       "      <td>9.2</td>\n",
       "    </tr>\n",
       "    <tr>\n",
       "      <th>116</th>\n",
       "      <td>Saniya Chong</td>\n",
       "      <td>64.0</td>\n",
       "      <td>13.2</td>\n",
       "    </tr>\n",
       "    <tr>\n",
       "      <th>62</th>\n",
       "      <td>Jazmon Gwathmey</td>\n",
       "      <td>65.0</td>\n",
       "      <td>12.2</td>\n",
       "    </tr>\n",
       "    <tr>\n",
       "      <th>12</th>\n",
       "      <td>Amanda Zahui B.</td>\n",
       "      <td>113.0</td>\n",
       "      <td>-35.8</td>\n",
       "    </tr>\n",
       "  </tbody>\n",
       "</table>\n",
       "</div>"
      ],
      "text/plain": [
       "                    Name  Weight  Weight_deviation\n",
       "137  Tierra Ruffin-Pratt    83.0              -5.8\n",
       "94            Maya Moore    80.0              -2.8\n",
       "104         Noelle Quinn    81.0              -3.8\n",
       "47    Elizabeth Williams    87.0              -9.8\n",
       "79           Kelsey Plum    66.0              11.2\n",
       "87         Lindsay Allen    65.0              12.2\n",
       "130         Sydney Wiese    68.0               9.2\n",
       "116         Saniya Chong    64.0              13.2\n",
       "62       Jazmon Gwathmey    65.0              12.2\n",
       "12       Amanda Zahui B.   113.0             -35.8"
      ]
     },
     "execution_count": 12,
     "metadata": {},
     "output_type": "execute_result"
    }
   ],
   "source": [
    "temp[['Name', 'Weight', 'Weight_deviation']]"
   ]
  },
  {
   "cell_type": "code",
   "execution_count": 13,
   "id": "22dd9cd2",
   "metadata": {},
   "outputs": [],
   "source": [
    "# FOR NOMINAL VARIABLES"
   ]
  },
  {
   "cell_type": "code",
   "execution_count": 14,
   "id": "22357f45",
   "metadata": {},
   "outputs": [
    {
     "data": {
      "text/plain": [
       "188    20\n",
       "193    18\n",
       "175    16\n",
       "185    15\n",
       "183    11\n",
       "173    11\n",
       "191    11\n",
       "196     9\n",
       "178     8\n",
       "180     7\n",
       "170     6\n",
       "198     5\n",
       "201     2\n",
       "168     2\n",
       "206     1\n",
       "165     1\n",
       "Name: Height, dtype: int64"
      ]
     },
     "execution_count": 14,
     "metadata": {},
     "output_type": "execute_result"
    }
   ],
   "source": [
    "wnba['Height'].value_counts()"
   ]
  },
  {
   "cell_type": "code",
   "execution_count": 15,
   "id": "a1d7dde5",
   "metadata": {},
   "outputs": [
    {
     "data": {
      "text/plain": [
       "165     1\n",
       "168     2\n",
       "170     6\n",
       "173    11\n",
       "175    16\n",
       "178     8\n",
       "180     7\n",
       "183    11\n",
       "185    15\n",
       "188    20\n",
       "191    11\n",
       "193    18\n",
       "196     9\n",
       "198     5\n",
       "201     2\n",
       "206     1\n",
       "Name: Height, dtype: int64"
      ]
     },
     "execution_count": 15,
     "metadata": {},
     "output_type": "execute_result"
    }
   ],
   "source": [
    "wnba['Height'].value_counts().sort_index()"
   ]
  },
  {
   "cell_type": "code",
   "execution_count": 16,
   "id": "fc2b7377",
   "metadata": {},
   "outputs": [],
   "source": [
    "## For ordinal values"
   ]
  },
  {
   "cell_type": "code",
   "execution_count": 17,
   "id": "b18c13e1",
   "metadata": {},
   "outputs": [],
   "source": [
    "def pts_ordinal(row):\n",
    "    if row['PTS'] <= 20:\n",
    "        return 'grade F'\n",
    "    elif row['PTS'] <= 80:\n",
    "        return 'grade E'\n",
    "    elif row['PTS'] <= 150:\n",
    "        return 'grade D'\n",
    "    elif row['PTS'] <= 300:\n",
    "        return 'grade C'\n",
    "    elif row['PTS'] <= 400:\n",
    "        return 'grade B'\n",
    "    else:\n",
    "        return 'grade A'\n",
    "    "
   ]
  },
  {
   "cell_type": "code",
   "execution_count": 18,
   "id": "801b9cd0",
   "metadata": {},
   "outputs": [],
   "source": [
    "wnba['PTS_ordinal_scale'] = wnba.apply(pts_ordinal, axis =1)\n"
   ]
  },
  {
   "cell_type": "code",
   "execution_count": 19,
   "id": "7a97444d",
   "metadata": {},
   "outputs": [
    {
     "data": {
      "text/html": [
       "<div>\n",
       "<style scoped>\n",
       "    .dataframe tbody tr th:only-of-type {\n",
       "        vertical-align: middle;\n",
       "    }\n",
       "\n",
       "    .dataframe tbody tr th {\n",
       "        vertical-align: top;\n",
       "    }\n",
       "\n",
       "    .dataframe thead th {\n",
       "        text-align: right;\n",
       "    }\n",
       "</style>\n",
       "<table border=\"1\" class=\"dataframe\">\n",
       "  <thead>\n",
       "    <tr style=\"text-align: right;\">\n",
       "      <th></th>\n",
       "      <th>Name</th>\n",
       "      <th>PTS</th>\n",
       "      <th>PTS_ordinal_scale</th>\n",
       "    </tr>\n",
       "  </thead>\n",
       "  <tbody>\n",
       "    <tr>\n",
       "      <th>0</th>\n",
       "      <td>Aerial Powers</td>\n",
       "      <td>93</td>\n",
       "      <td>grade D</td>\n",
       "    </tr>\n",
       "    <tr>\n",
       "      <th>1</th>\n",
       "      <td>Alana Beard</td>\n",
       "      <td>217</td>\n",
       "      <td>grade C</td>\n",
       "    </tr>\n",
       "    <tr>\n",
       "      <th>2</th>\n",
       "      <td>Alex Bentley</td>\n",
       "      <td>218</td>\n",
       "      <td>grade C</td>\n",
       "    </tr>\n",
       "    <tr>\n",
       "      <th>3</th>\n",
       "      <td>Alex Montgomery</td>\n",
       "      <td>188</td>\n",
       "      <td>grade C</td>\n",
       "    </tr>\n",
       "    <tr>\n",
       "      <th>4</th>\n",
       "      <td>Alexis Jones</td>\n",
       "      <td>50</td>\n",
       "      <td>grade E</td>\n",
       "    </tr>\n",
       "  </tbody>\n",
       "</table>\n",
       "</div>"
      ],
      "text/plain": [
       "              Name  PTS PTS_ordinal_scale\n",
       "0    Aerial Powers   93           grade D\n",
       "1      Alana Beard  217           grade C\n",
       "2     Alex Bentley  218           grade C\n",
       "3  Alex Montgomery  188           grade C\n",
       "4     Alexis Jones   50           grade E"
      ]
     },
     "execution_count": 19,
     "metadata": {},
     "output_type": "execute_result"
    }
   ],
   "source": [
    "wnba[['Name', 'PTS', 'PTS_ordinal_scale']].head()"
   ]
  },
  {
   "cell_type": "code",
   "execution_count": 20,
   "id": "a3c34a17",
   "metadata": {},
   "outputs": [
    {
     "data": {
      "text/plain": [
       "grade C    45\n",
       "grade E    27\n",
       "grade D    25\n",
       "grade A    17\n",
       "grade B    17\n",
       "grade F    12\n",
       "Name: PTS_ordinal_scale, dtype: int64"
      ]
     },
     "execution_count": 20,
     "metadata": {},
     "output_type": "execute_result"
    }
   ],
   "source": [
    "wnba['PTS_ordinal_scale'].value_counts()"
   ]
  },
  {
   "cell_type": "code",
   "execution_count": 21,
   "id": "f15fb46b",
   "metadata": {},
   "outputs": [
    {
     "data": {
      "text/plain": [
       "grade A    17\n",
       "grade B    17\n",
       "grade C    45\n",
       "grade D    25\n",
       "grade E    27\n",
       "grade F    12\n",
       "Name: PTS_ordinal_scale, dtype: int64"
      ]
     },
     "execution_count": 21,
     "metadata": {},
     "output_type": "execute_result"
    }
   ],
   "source": [
    "wnba['PTS_ordinal_scale'].value_counts().sort_index()"
   ]
  },
  {
   "cell_type": "code",
   "execution_count": 22,
   "id": "f743278f",
   "metadata": {},
   "outputs": [],
   "source": [
    "## Percentage"
   ]
  },
  {
   "cell_type": "code",
   "execution_count": 23,
   "id": "f2eaa766",
   "metadata": {},
   "outputs": [
    {
     "data": {
      "text/plain": [
       "G      60\n",
       "F      33\n",
       "C      25\n",
       "G/F    13\n",
       "F/C    12\n",
       "Name: Pos, dtype: int64"
      ]
     },
     "execution_count": 23,
     "metadata": {},
     "output_type": "execute_result"
    }
   ],
   "source": [
    "wnba['Pos'].value_counts()"
   ]
  },
  {
   "cell_type": "code",
   "execution_count": 24,
   "id": "ec30b445",
   "metadata": {},
   "outputs": [
    {
     "data": {
      "text/plain": [
       "G      0.419580\n",
       "F      0.230769\n",
       "C      0.174825\n",
       "G/F    0.090909\n",
       "F/C    0.083916\n",
       "Name: Pos, dtype: float64"
      ]
     },
     "execution_count": 24,
     "metadata": {},
     "output_type": "execute_result"
    }
   ],
   "source": [
    "wnba['Pos'].value_counts()/len(wnba)"
   ]
  },
  {
   "cell_type": "code",
   "execution_count": 25,
   "id": "aaf35d65",
   "metadata": {},
   "outputs": [
    {
     "data": {
      "text/plain": [
       "G      41.958042\n",
       "F      23.076923\n",
       "C      17.482517\n",
       "G/F     9.090909\n",
       "F/C     8.391608\n",
       "Name: Pos, dtype: float64"
      ]
     },
     "execution_count": 25,
     "metadata": {},
     "output_type": "execute_result"
    }
   ],
   "source": [
    "wnba['Pos'].value_counts(normalize = True)*100"
   ]
  },
  {
   "cell_type": "code",
   "execution_count": 26,
   "id": "0d05e1c4",
   "metadata": {},
   "outputs": [
    {
     "data": {
      "text/plain": [
       "21     1.398601\n",
       "22     6.993007\n",
       "23    10.489510\n",
       "24    11.188811\n",
       "25    10.489510\n",
       "26     8.391608\n",
       "27     9.090909\n",
       "28     9.790210\n",
       "29     5.594406\n",
       "30     6.293706\n",
       "31     5.594406\n",
       "32     5.594406\n",
       "33     2.097902\n",
       "34     3.496503\n",
       "35     2.797203\n",
       "36     0.699301\n",
       "Name: Age, dtype: float64"
      ]
     },
     "execution_count": 26,
     "metadata": {},
     "output_type": "execute_result"
    }
   ],
   "source": [
    "wnba['Age'].value_counts(normalize = True).sort_index()*100"
   ]
  },
  {
   "cell_type": "code",
   "execution_count": 27,
   "id": "6251657a",
   "metadata": {},
   "outputs": [],
   "source": [
    "percentages = wnba['Age'].value_counts(normalize=True).sort_index()*100"
   ]
  },
  {
   "cell_type": "code",
   "execution_count": 28,
   "id": "650dc092",
   "metadata": {},
   "outputs": [
    {
     "data": {
      "text/plain": [
       "0.1048951048951049"
      ]
     },
     "execution_count": 28,
     "metadata": {},
     "output_type": "execute_result"
    }
   ],
   "source": [
    "percentages[25]/100"
   ]
  },
  {
   "cell_type": "code",
   "execution_count": 29,
   "id": "69560bc0",
   "metadata": {},
   "outputs": [
    {
     "data": {
      "text/plain": [
       "26.573426573426573"
      ]
     },
     "execution_count": 29,
     "metadata": {},
     "output_type": "execute_result"
    }
   ],
   "source": [
    "percentages.loc[30:].sum()"
   ]
  },
  {
   "cell_type": "code",
   "execution_count": 30,
   "id": "9cc98a68",
   "metadata": {},
   "outputs": [
    {
     "data": {
      "text/plain": [
       "18.88111888111888"
      ]
     },
     "execution_count": 30,
     "metadata": {},
     "output_type": "execute_result"
    }
   ],
   "source": [
    "percentages.loc[:23].sum()"
   ]
  },
  {
   "cell_type": "code",
   "execution_count": 31,
   "id": "32a8d9a0",
   "metadata": {},
   "outputs": [],
   "source": [
    "from scipy.stats import percentileofscore"
   ]
  },
  {
   "cell_type": "code",
   "execution_count": 32,
   "id": "29397203",
   "metadata": {},
   "outputs": [
    {
     "data": {
      "text/plain": [
       "18.88111888111888"
      ]
     },
     "execution_count": 32,
     "metadata": {},
     "output_type": "execute_result"
    }
   ],
   "source": [
    "percentileofscore(a=wnba['Age'],score = 23,  kind = 'weak')"
   ]
  },
  {
   "cell_type": "code",
   "execution_count": 33,
   "id": "0dad97ca",
   "metadata": {},
   "outputs": [
    {
     "data": {
      "text/plain": [
       "26.573426573426573"
      ]
     },
     "execution_count": 33,
     "metadata": {},
     "output_type": "execute_result"
    }
   ],
   "source": [
    "# 30 and older\n",
    "\n",
    "100 - percentileofscore(a=wnba['Age'], score = 29, kind='weak')"
   ]
  },
  {
   "cell_type": "code",
   "execution_count": 34,
   "id": "c51585ed",
   "metadata": {},
   "outputs": [
    {
     "data": {
      "text/plain": [
       "77.0     10\n",
       "84.0      9\n",
       "66.0      8\n",
       "86.0      7\n",
       "73.0      6\n",
       "79.0      6\n",
       "88.0      6\n",
       "87.0      6\n",
       "78.0      5\n",
       "81.0      5\n",
       "64.0      5\n",
       "83.0      4\n",
       "65.0      4\n",
       "74.0      4\n",
       "76.0      4\n",
       "75.0      4\n",
       "82.0      4\n",
       "89.0      3\n",
       "70.0      3\n",
       "91.0      3\n",
       "93.0      3\n",
       "63.0      3\n",
       "80.0      3\n",
       "59.0      2\n",
       "96.0      2\n",
       "90.0      2\n",
       "71.0      2\n",
       "95.0      2\n",
       "85.0      2\n",
       "104.0     2\n",
       "113.0     2\n",
       "69.0      2\n",
       "68.0      2\n",
       "67.0      1\n",
       "57.0      1\n",
       "108.0     1\n",
       "62.0      1\n",
       "58.0      1\n",
       "55.0      1\n",
       "97.0      1\n",
       "Name: Weight, dtype: int64"
      ]
     },
     "execution_count": 34,
     "metadata": {},
     "output_type": "execute_result"
    }
   ],
   "source": [
    "# Intervals\n",
    "wnba['Weight'].value_counts()"
   ]
  },
  {
   "cell_type": "code",
   "execution_count": 35,
   "id": "379221e0",
   "metadata": {},
   "outputs": [
    {
     "data": {
      "text/plain": [
       "(54.941, 60.8]     5\n",
       "(60.8, 66.6]      21\n",
       "(66.6, 72.4]      10\n",
       "(72.4, 78.2]      33\n",
       "(78.2, 84.0]      31\n",
       "(84.0, 89.8]      24\n",
       "(89.8, 95.6]      10\n",
       "(95.6, 101.4]      3\n",
       "(101.4, 107.2]     2\n",
       "(107.2, 113.0]     3\n",
       "Name: Weight, dtype: int64"
      ]
     },
     "execution_count": 35,
     "metadata": {},
     "output_type": "execute_result"
    }
   ],
   "source": [
    "# Also known as grouped frequency distribution table\n",
    "wnba['Weight'].value_counts(bins=10).sort_index()"
   ]
  },
  {
   "cell_type": "code",
   "execution_count": 36,
   "id": "e2481656",
   "metadata": {},
   "outputs": [
    {
     "data": {
      "text/plain": [
       "(1.417, 60.2]     30\n",
       "(60.2, 118.4]     24\n",
       "(118.4, 176.6]    17\n",
       "(176.6, 234.8]    20\n",
       "(234.8, 293.0]    17\n",
       "(293.0, 351.2]     8\n",
       "(351.2, 409.4]    10\n",
       "(409.4, 467.6]     8\n",
       "(467.6, 525.8]     4\n",
       "(525.8, 584.0]     5\n",
       "Name: PTS, dtype: int64"
      ]
     },
     "execution_count": 36,
     "metadata": {},
     "output_type": "execute_result"
    }
   ],
   "source": [
    "wnba['PTS'].value_counts(bins=10).sort_index()"
   ]
  },
  {
   "cell_type": "code",
   "execution_count": 37,
   "id": "a69c7bd3",
   "metadata": {},
   "outputs": [],
   "source": [
    "intervals = pd.interval_range(start = 0, end = 600, freq = 100)"
   ]
  },
  {
   "cell_type": "code",
   "execution_count": 38,
   "id": "ca59f90e",
   "metadata": {},
   "outputs": [
    {
     "data": {
      "text/plain": [
       "IntervalIndex([(0, 100], (100, 200], (200, 300], (300, 400], (400, 500], (500, 600]], dtype='interval[int64, right]')"
      ]
     },
     "execution_count": 38,
     "metadata": {},
     "output_type": "execute_result"
    }
   ],
   "source": [
    "intervals"
   ]
  },
  {
   "cell_type": "code",
   "execution_count": 39,
   "id": "7cf626c1",
   "metadata": {},
   "outputs": [
    {
     "data": {
      "text/plain": [
       "(0, 100]      49\n",
       "(100, 200]    28\n",
       "(200, 300]    32\n",
       "(300, 400]    17\n",
       "(400, 500]    10\n",
       "(500, 600]     7\n",
       "Name: PTS, dtype: int64"
      ]
     },
     "execution_count": 39,
     "metadata": {},
     "output_type": "execute_result"
    }
   ],
   "source": [
    "wnba['PTS'].value_counts(bins=intervals).sort_index()"
   ]
  },
  {
   "cell_type": "code",
   "execution_count": 40,
   "id": "d49ca62f",
   "metadata": {},
   "outputs": [
    {
     "data": {
      "text/plain": [
       "188    20\n",
       "193    18\n",
       "175    16\n",
       "185    15\n",
       "183    11\n",
       "173    11\n",
       "191    11\n",
       "196     9\n",
       "178     8\n",
       "180     7\n",
       "170     6\n",
       "198     5\n",
       "201     2\n",
       "168     2\n",
       "206     1\n",
       "165     1\n",
       "Name: Height, dtype: int64"
      ]
     },
     "execution_count": 40,
     "metadata": {},
     "output_type": "execute_result"
    }
   ],
   "source": [
    "# Frequency table and continous variables\n",
    "wnba['Height'].value_counts()"
   ]
  },
  {
   "cell_type": "code",
   "execution_count": 41,
   "id": "14485639",
   "metadata": {},
   "outputs": [
    {
     "data": {
      "text/plain": [
       "16"
      ]
     },
     "execution_count": 41,
     "metadata": {},
     "output_type": "execute_result"
    }
   ],
   "source": [
    "wnba['Height'].value_counts()[175]"
   ]
  },
  {
   "cell_type": "code",
   "execution_count": 42,
   "id": "c4372a26",
   "metadata": {},
   "outputs": [
    {
     "data": {
      "text/plain": [
       "min    165.0\n",
       "25%    176.5\n",
       "50%    185.0\n",
       "75%    191.0\n",
       "max    206.0\n",
       "Name: Height, dtype: float64"
      ]
     },
     "execution_count": 42,
     "metadata": {},
     "output_type": "execute_result"
    }
   ],
   "source": [
    "wnba['Height'].describe().iloc[3:]"
   ]
  },
  {
   "cell_type": "code",
   "execution_count": 43,
   "id": "346ba997",
   "metadata": {},
   "outputs": [
    {
     "data": {
      "image/png": "[encoded data removed]",
      "text/plain": [
       "<Figure size 432x288 with 1 Axes>"
      ]
     },
     "metadata": {
      "needs_background": "light"
     },
     "output_type": "display_data"
    }
   ],
   "source": [
    "wnba['Pos'].value_counts().plot.bar()\n",
    "plt.show()"
   ]
  },
  {
   "cell_type": "code",
   "execution_count": 44,
   "id": "08327d30",
   "metadata": {},
   "outputs": [
    {
     "data": {
      "image/png": "[encoded data removed]",
      "text/plain": [
       "<Figure size 432x288 with 1 Axes>"
      ]
     },
     "metadata": {
      "needs_background": "light"
     },
     "output_type": "display_data"
    }
   ],
   "source": [
    "wnba['Pos'].value_counts().plot.barh()\n",
    "plt.show()"
   ]
  },
  {
   "cell_type": "code",
   "execution_count": 45,
   "id": "c1d1593a",
   "metadata": {},
   "outputs": [
    {
     "data": {
      "image/png": "[encoded data removed]",
      "text/plain": [
       "<Figure size 432x288 with 1 Axes>"
      ]
     },
     "metadata": {
      "needs_background": "light"
     },
     "output_type": "display_data"
    }
   ],
   "source": [
    "wnba['PTS_ordinal_scale'].value_counts().plot.bar()\n",
    "plt.show()"
   ]
  },
  {
   "cell_type": "code",
   "execution_count": 46,
   "id": "6f9f92dc",
   "metadata": {},
   "outputs": [
    {
     "data": {
      "image/png": "[encoded data removed]",
      "text/plain": [
       "<Figure size 576x576 with 1 Axes>"
      ]
     },
     "metadata": {},
     "output_type": "display_data"
    }
   ],
   "source": [
    "wnba['PTS_ordinal_scale'].value_counts().plot.pie(title='players by position', figsize=(8,8), autopct='%.2f%%')\n",
    "plt.ylabel('')\n",
    "plt.show()"
   ]
  },
  {
   "cell_type": "code",
   "execution_count": 47,
   "id": "a1968a41",
   "metadata": {},
   "outputs": [
    {
     "data": {
      "image/png": "[encoded data removed]",
      "text/plain": [
       "<Figure size 576x576 with 1 Axes>"
      ]
     },
     "metadata": {},
     "output_type": "display_data"
    }
   ],
   "source": [
    "wnba['PTS_ordinal_scale'].value_counts().plot.pie(title='players by position', figsize=(8,8), )\n",
    "plt.ylabel('')\n",
    "plt.show()"
   ]
  },
  {
   "cell_type": "code",
   "execution_count": 48,
   "id": "48027e88",
   "metadata": {},
   "outputs": [
    {
     "data": {
      "text/plain": [
       "count    143.000000\n",
       "mean     201.790210\n",
       "std      153.381548\n",
       "min        2.000000\n",
       "25%       75.000000\n",
       "50%      177.000000\n",
       "75%      277.500000\n",
       "max      584.000000\n",
       "Name: PTS, dtype: float64"
      ]
     },
     "execution_count": 48,
     "metadata": {},
     "output_type": "execute_result"
    }
   ],
   "source": [
    "wnba['PTS'].describe()"
   ]
  },
  {
   "cell_type": "code",
   "execution_count": 49,
   "id": "999a6014",
   "metadata": {},
   "outputs": [
    {
     "data": {
      "image/png": "[encoded data removed]",
      "text/plain": [
       "<Figure size 432x288 with 1 Axes>"
      ]
     },
     "metadata": {
      "needs_background": "light"
     },
     "output_type": "display_data"
    }
   ],
   "source": [
    "wnba['PTS'].plot.hist()\n",
    "plt.show()"
   ]
  },
  {
   "cell_type": "code",
   "execution_count": 50,
   "id": "4ad9b8d7",
   "metadata": {},
   "outputs": [
    {
     "data": {
      "image/png": "[encoded data removed]",
      "text/plain": [
       "<Figure size 720x576 with 1 Axes>"
      ]
     },
     "metadata": {
      "needs_background": "light"
     },
     "output_type": "display_data"
    }
   ],
   "source": [
    "wnba['PTS'].plot.hist(xticks=np.arange(0,601, 100), figsize=(10,8))\n",
    "plt.show()"
   ]
  },
  {
   "cell_type": "code",
   "execution_count": 51,
   "id": "065706fb",
   "metadata": {},
   "outputs": [
    {
     "data": {
      "image/png": "[encoded data removed]",
      "text/plain": [
       "<Figure size 720x576 with 1 Axes>"
      ]
     },
     "metadata": {
      "needs_background": "light"
     },
     "output_type": "display_data"
    }
   ],
   "source": [
    "wnba['PTS'].plot.hist(xticks=np.arange(0,601, 50), figsize=(10,8), grid=True)\n",
    "plt.show()"
   ]
  },
  {
   "cell_type": "code",
   "execution_count": 52,
   "id": "105e468f",
   "metadata": {},
   "outputs": [
    {
     "data": {
      "image/png": "[encoded data removed]",
      "text/plain": [
       "<Figure size 720x576 with 1 Axes>"
      ]
     },
     "metadata": {
      "needs_background": "light"
     },
     "output_type": "display_data"
    }
   ],
   "source": [
    "wnba['PTS'].plot.hist(xticks=np.arange(2,585, 58.2), figsize=(10,8), grid=True)\n",
    "plt.show()"
   ]
  },
  {
   "cell_type": "code",
   "execution_count": null,
   "id": "cf295e77",
   "metadata": {},
   "outputs": [],
   "source": []
  }
 ],
 "metadata": {
  "kernelspec": {
   "display_name": "Python 3 (ipykernel)",
   "language": "python",
   "name": "python3"
  },
  "language_info": {
   "codemirror_mode": {
    "name": "ipython",
    "version": 3
   },
   "file_extension": ".py",
   "mimetype": "text/x-python",
   "name": "python",
   "nbconvert_exporter": "python",
   "pygments_lexer": "ipython3",
   "version": "3.7.9"
  }
 },
 "nbformat": 4,
 "nbformat_minor": 5
}
