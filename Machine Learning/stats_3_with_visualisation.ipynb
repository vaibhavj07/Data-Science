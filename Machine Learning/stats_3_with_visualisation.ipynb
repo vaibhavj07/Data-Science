{
 "cells": [
  {
   "cell_type": "code",
   "execution_count": 1,
   "id": "a0e94b7d",
   "metadata": {},
   "outputs": [],
   "source": [
    "import pandas as pd\n",
    "import numpy as np\n",
    "import matplotlib.pyplot as plt\n",
    "import seaborn as sns"
   ]
  },
  {
   "cell_type": "code",
   "execution_count": 2,
   "id": "4ca15a73",
   "metadata": {},
   "outputs": [],
   "source": [
    "path = \"https://raw.githubusercontent.com/shobhit-nigam/knowledgeclan/main/datasets/wnba.csv\""
   ]
  },
  {
   "cell_type": "code",
   "execution_count": 3,
   "id": "dd59bf58",
   "metadata": {},
   "outputs": [],
   "source": [
    "wnba = pd.read_csv(path)"
   ]
  },
  {
   "cell_type": "code",
   "execution_count": 4,
   "id": "6c04a0a3",
   "metadata": {},
   "outputs": [
    {
     "data": {
      "text/html": [
       "<div>\n",
       "<style scoped>\n",
       "    .dataframe tbody tr th:only-of-type {\n",
       "        vertical-align: middle;\n",
       "    }\n",
       "\n",
       "    .dataframe tbody tr th {\n",
       "        vertical-align: top;\n",
       "    }\n",
       "\n",
       "    .dataframe thead th {\n",
       "        text-align: right;\n",
       "    }\n",
       "</style>\n",
       "<table border=\"1\" class=\"dataframe\">\n",
       "  <thead>\n",
       "    <tr style=\"text-align: right;\">\n",
       "      <th></th>\n",
       "      <th>Name</th>\n",
       "      <th>Team</th>\n",
       "      <th>Pos</th>\n",
       "      <th>Height</th>\n",
       "      <th>Weight</th>\n",
       "      <th>BMI</th>\n",
       "      <th>Birth_Place</th>\n",
       "      <th>Birthdate</th>\n",
       "      <th>Age</th>\n",
       "      <th>College</th>\n",
       "      <th>...</th>\n",
       "      <th>OREB</th>\n",
       "      <th>DREB</th>\n",
       "      <th>REB</th>\n",
       "      <th>AST</th>\n",
       "      <th>STL</th>\n",
       "      <th>BLK</th>\n",
       "      <th>TO</th>\n",
       "      <th>PTS</th>\n",
       "      <th>DD2</th>\n",
       "      <th>TD3</th>\n",
       "    </tr>\n",
       "  </thead>\n",
       "  <tbody>\n",
       "    <tr>\n",
       "      <th>0</th>\n",
       "      <td>Aerial Powers</td>\n",
       "      <td>DAL</td>\n",
       "      <td>F</td>\n",
       "      <td>183</td>\n",
       "      <td>71.0</td>\n",
       "      <td>21.200991</td>\n",
       "      <td>US</td>\n",
       "      <td>January 17, 1994</td>\n",
       "      <td>23</td>\n",
       "      <td>Michigan State</td>\n",
       "      <td>...</td>\n",
       "      <td>6</td>\n",
       "      <td>22</td>\n",
       "      <td>28</td>\n",
       "      <td>12</td>\n",
       "      <td>3</td>\n",
       "      <td>6</td>\n",
       "      <td>12</td>\n",
       "      <td>93</td>\n",
       "      <td>0</td>\n",
       "      <td>0</td>\n",
       "    </tr>\n",
       "    <tr>\n",
       "      <th>1</th>\n",
       "      <td>Alana Beard</td>\n",
       "      <td>LA</td>\n",
       "      <td>G/F</td>\n",
       "      <td>185</td>\n",
       "      <td>73.0</td>\n",
       "      <td>21.329438</td>\n",
       "      <td>US</td>\n",
       "      <td>May 14, 1982</td>\n",
       "      <td>35</td>\n",
       "      <td>Duke</td>\n",
       "      <td>...</td>\n",
       "      <td>19</td>\n",
       "      <td>82</td>\n",
       "      <td>101</td>\n",
       "      <td>72</td>\n",
       "      <td>63</td>\n",
       "      <td>13</td>\n",
       "      <td>40</td>\n",
       "      <td>217</td>\n",
       "      <td>0</td>\n",
       "      <td>0</td>\n",
       "    </tr>\n",
       "    <tr>\n",
       "      <th>2</th>\n",
       "      <td>Alex Bentley</td>\n",
       "      <td>CON</td>\n",
       "      <td>G</td>\n",
       "      <td>170</td>\n",
       "      <td>69.0</td>\n",
       "      <td>23.875433</td>\n",
       "      <td>US</td>\n",
       "      <td>October 27, 1990</td>\n",
       "      <td>26</td>\n",
       "      <td>Penn State</td>\n",
       "      <td>...</td>\n",
       "      <td>4</td>\n",
       "      <td>36</td>\n",
       "      <td>40</td>\n",
       "      <td>78</td>\n",
       "      <td>22</td>\n",
       "      <td>3</td>\n",
       "      <td>24</td>\n",
       "      <td>218</td>\n",
       "      <td>0</td>\n",
       "      <td>0</td>\n",
       "    </tr>\n",
       "    <tr>\n",
       "      <th>3</th>\n",
       "      <td>Alex Montgomery</td>\n",
       "      <td>SAN</td>\n",
       "      <td>G/F</td>\n",
       "      <td>185</td>\n",
       "      <td>84.0</td>\n",
       "      <td>24.543462</td>\n",
       "      <td>US</td>\n",
       "      <td>December 11, 1988</td>\n",
       "      <td>28</td>\n",
       "      <td>Georgia Tech</td>\n",
       "      <td>...</td>\n",
       "      <td>35</td>\n",
       "      <td>134</td>\n",
       "      <td>169</td>\n",
       "      <td>65</td>\n",
       "      <td>20</td>\n",
       "      <td>10</td>\n",
       "      <td>38</td>\n",
       "      <td>188</td>\n",
       "      <td>2</td>\n",
       "      <td>0</td>\n",
       "    </tr>\n",
       "    <tr>\n",
       "      <th>4</th>\n",
       "      <td>Alexis Jones</td>\n",
       "      <td>MIN</td>\n",
       "      <td>G</td>\n",
       "      <td>175</td>\n",
       "      <td>78.0</td>\n",
       "      <td>25.469388</td>\n",
       "      <td>US</td>\n",
       "      <td>August 5, 1994</td>\n",
       "      <td>23</td>\n",
       "      <td>Baylor</td>\n",
       "      <td>...</td>\n",
       "      <td>3</td>\n",
       "      <td>9</td>\n",
       "      <td>12</td>\n",
       "      <td>12</td>\n",
       "      <td>7</td>\n",
       "      <td>0</td>\n",
       "      <td>14</td>\n",
       "      <td>50</td>\n",
       "      <td>0</td>\n",
       "      <td>0</td>\n",
       "    </tr>\n",
       "    <tr>\n",
       "      <th>...</th>\n",
       "      <td>...</td>\n",
       "      <td>...</td>\n",
       "      <td>...</td>\n",
       "      <td>...</td>\n",
       "      <td>...</td>\n",
       "      <td>...</td>\n",
       "      <td>...</td>\n",
       "      <td>...</td>\n",
       "      <td>...</td>\n",
       "      <td>...</td>\n",
       "      <td>...</td>\n",
       "      <td>...</td>\n",
       "      <td>...</td>\n",
       "      <td>...</td>\n",
       "      <td>...</td>\n",
       "      <td>...</td>\n",
       "      <td>...</td>\n",
       "      <td>...</td>\n",
       "      <td>...</td>\n",
       "      <td>...</td>\n",
       "      <td>...</td>\n",
       "    </tr>\n",
       "    <tr>\n",
       "      <th>138</th>\n",
       "      <td>Tiffany Hayes</td>\n",
       "      <td>ATL</td>\n",
       "      <td>G</td>\n",
       "      <td>178</td>\n",
       "      <td>70.0</td>\n",
       "      <td>22.093170</td>\n",
       "      <td>US</td>\n",
       "      <td>September 20, 1989</td>\n",
       "      <td>27</td>\n",
       "      <td>Connecticut</td>\n",
       "      <td>...</td>\n",
       "      <td>28</td>\n",
       "      <td>89</td>\n",
       "      <td>117</td>\n",
       "      <td>69</td>\n",
       "      <td>37</td>\n",
       "      <td>8</td>\n",
       "      <td>50</td>\n",
       "      <td>467</td>\n",
       "      <td>0</td>\n",
       "      <td>0</td>\n",
       "    </tr>\n",
       "    <tr>\n",
       "      <th>139</th>\n",
       "      <td>Tiffany Jackson</td>\n",
       "      <td>LA</td>\n",
       "      <td>F</td>\n",
       "      <td>191</td>\n",
       "      <td>84.0</td>\n",
       "      <td>23.025685</td>\n",
       "      <td>US</td>\n",
       "      <td>April 26, 1985</td>\n",
       "      <td>32</td>\n",
       "      <td>Texas</td>\n",
       "      <td>...</td>\n",
       "      <td>5</td>\n",
       "      <td>18</td>\n",
       "      <td>23</td>\n",
       "      <td>3</td>\n",
       "      <td>1</td>\n",
       "      <td>3</td>\n",
       "      <td>8</td>\n",
       "      <td>28</td>\n",
       "      <td>0</td>\n",
       "      <td>0</td>\n",
       "    </tr>\n",
       "    <tr>\n",
       "      <th>140</th>\n",
       "      <td>Tiffany Mitchell</td>\n",
       "      <td>IND</td>\n",
       "      <td>G</td>\n",
       "      <td>175</td>\n",
       "      <td>69.0</td>\n",
       "      <td>22.530612</td>\n",
       "      <td>US</td>\n",
       "      <td>September 23, 1984</td>\n",
       "      <td>32</td>\n",
       "      <td>South Carolina</td>\n",
       "      <td>...</td>\n",
       "      <td>16</td>\n",
       "      <td>70</td>\n",
       "      <td>86</td>\n",
       "      <td>39</td>\n",
       "      <td>31</td>\n",
       "      <td>5</td>\n",
       "      <td>40</td>\n",
       "      <td>277</td>\n",
       "      <td>0</td>\n",
       "      <td>0</td>\n",
       "    </tr>\n",
       "    <tr>\n",
       "      <th>141</th>\n",
       "      <td>Tina Charles</td>\n",
       "      <td>NY</td>\n",
       "      <td>F/C</td>\n",
       "      <td>193</td>\n",
       "      <td>84.0</td>\n",
       "      <td>22.550941</td>\n",
       "      <td>US</td>\n",
       "      <td>May 12, 1988</td>\n",
       "      <td>29</td>\n",
       "      <td>Connecticut</td>\n",
       "      <td>...</td>\n",
       "      <td>56</td>\n",
       "      <td>212</td>\n",
       "      <td>268</td>\n",
       "      <td>75</td>\n",
       "      <td>21</td>\n",
       "      <td>22</td>\n",
       "      <td>71</td>\n",
       "      <td>582</td>\n",
       "      <td>11</td>\n",
       "      <td>0</td>\n",
       "    </tr>\n",
       "    <tr>\n",
       "      <th>142</th>\n",
       "      <td>Yvonne Turner</td>\n",
       "      <td>PHO</td>\n",
       "      <td>G</td>\n",
       "      <td>175</td>\n",
       "      <td>59.0</td>\n",
       "      <td>19.265306</td>\n",
       "      <td>US</td>\n",
       "      <td>October 13, 1987</td>\n",
       "      <td>29</td>\n",
       "      <td>Nebraska</td>\n",
       "      <td>...</td>\n",
       "      <td>11</td>\n",
       "      <td>13</td>\n",
       "      <td>24</td>\n",
       "      <td>30</td>\n",
       "      <td>18</td>\n",
       "      <td>1</td>\n",
       "      <td>32</td>\n",
       "      <td>151</td>\n",
       "      <td>0</td>\n",
       "      <td>0</td>\n",
       "    </tr>\n",
       "  </tbody>\n",
       "</table>\n",
       "<p>143 rows × 32 columns</p>\n",
       "</div>"
      ],
      "text/plain": [
       "                 Name Team  Pos  Height  Weight        BMI Birth_Place  \\\n",
       "0       Aerial Powers  DAL    F     183    71.0  21.200991          US   \n",
       "1         Alana Beard   LA  G/F     185    73.0  21.329438          US   \n",
       "2        Alex Bentley  CON    G     170    69.0  23.875433          US   \n",
       "3     Alex Montgomery  SAN  G/F     185    84.0  24.543462          US   \n",
       "4        Alexis Jones  MIN    G     175    78.0  25.469388          US   \n",
       "..                ...  ...  ...     ...     ...        ...         ...   \n",
       "138     Tiffany Hayes  ATL    G     178    70.0  22.093170          US   \n",
       "139   Tiffany Jackson   LA    F     191    84.0  23.025685          US   \n",
       "140  Tiffany Mitchell  IND    G     175    69.0  22.530612          US   \n",
       "141      Tina Charles   NY  F/C     193    84.0  22.550941          US   \n",
       "142     Yvonne Turner  PHO    G     175    59.0  19.265306          US   \n",
       "\n",
       "              Birthdate  Age         College  ... OREB  DREB  REB  AST  STL  \\\n",
       "0      January 17, 1994   23  Michigan State  ...    6    22   28   12    3   \n",
       "1          May 14, 1982   35            Duke  ...   19    82  101   72   63   \n",
       "2      October 27, 1990   26      Penn State  ...    4    36   40   78   22   \n",
       "3     December 11, 1988   28    Georgia Tech  ...   35   134  169   65   20   \n",
       "4        August 5, 1994   23          Baylor  ...    3     9   12   12    7   \n",
       "..                  ...  ...             ...  ...  ...   ...  ...  ...  ...   \n",
       "138  September 20, 1989   27     Connecticut  ...   28    89  117   69   37   \n",
       "139      April 26, 1985   32           Texas  ...    5    18   23    3    1   \n",
       "140  September 23, 1984   32  South Carolina  ...   16    70   86   39   31   \n",
       "141        May 12, 1988   29     Connecticut  ...   56   212  268   75   21   \n",
       "142    October 13, 1987   29        Nebraska  ...   11    13   24   30   18   \n",
       "\n",
       "     BLK  TO  PTS  DD2  TD3  \n",
       "0      6  12   93    0    0  \n",
       "1     13  40  217    0    0  \n",
       "2      3  24  218    0    0  \n",
       "3     10  38  188    2    0  \n",
       "4      0  14   50    0    0  \n",
       "..   ...  ..  ...  ...  ...  \n",
       "138    8  50  467    0    0  \n",
       "139    3   8   28    0    0  \n",
       "140    5  40  277    0    0  \n",
       "141   22  71  582   11    0  \n",
       "142    1  32  151    0    0  \n",
       "\n",
       "[143 rows x 32 columns]"
      ]
     },
     "execution_count": 4,
     "metadata": {},
     "output_type": "execute_result"
    }
   ],
   "source": [
    "wnba\n"
   ]
  },
  {
   "cell_type": "code",
   "execution_count": 5,
   "id": "2e7448d3",
   "metadata": {},
   "outputs": [
    {
     "name": "stdout",
     "output_type": "stream",
     "text": [
      "['Name', 'Team', 'Pos', 'Height', 'Weight', 'BMI', 'Birth_Place', 'Birthdate', 'Age', 'College', 'Experience', 'Games Played', 'MIN', 'FGM', 'FGA', 'FG%', '15:00', '3PA', '3P%', 'FTM', 'FTA', 'FT%', 'OREB', 'DREB', 'REB', 'AST', 'STL', 'BLK', 'TO', 'PTS', 'DD2', 'TD3']\n"
     ]
    }
   ],
   "source": [
    "print(list(wnba.columns))"
   ]
  },
  {
   "cell_type": "code",
   "execution_count": 6,
   "id": "39589341",
   "metadata": {},
   "outputs": [],
   "source": [
    "variables = {\"Name\", 'Team', 'Pos'}"
   ]
  },
  {
   "cell_type": "code",
   "execution_count": 7,
   "id": "0c949f0b",
   "metadata": {},
   "outputs": [
    {
     "data": {
      "text/html": [
       "<div>\n",
       "<style scoped>\n",
       "    .dataframe tbody tr th:only-of-type {\n",
       "        vertical-align: middle;\n",
       "    }\n",
       "\n",
       "    .dataframe tbody tr th {\n",
       "        vertical-align: top;\n",
       "    }\n",
       "\n",
       "    .dataframe thead th {\n",
       "        text-align: right;\n",
       "    }\n",
       "</style>\n",
       "<table border=\"1\" class=\"dataframe\">\n",
       "  <thead>\n",
       "    <tr style=\"text-align: right;\">\n",
       "      <th></th>\n",
       "      <th>Name</th>\n",
       "      <th>Team</th>\n",
       "      <th>Pos</th>\n",
       "      <th>Height</th>\n",
       "      <th>Weight</th>\n",
       "      <th>BMI</th>\n",
       "      <th>Birth_Place</th>\n",
       "      <th>Birthdate</th>\n",
       "      <th>Age</th>\n",
       "      <th>College</th>\n",
       "      <th>...</th>\n",
       "      <th>OREB</th>\n",
       "      <th>DREB</th>\n",
       "      <th>REB</th>\n",
       "      <th>AST</th>\n",
       "      <th>STL</th>\n",
       "      <th>BLK</th>\n",
       "      <th>TO</th>\n",
       "      <th>PTS</th>\n",
       "      <th>DD2</th>\n",
       "      <th>TD3</th>\n",
       "    </tr>\n",
       "  </thead>\n",
       "  <tbody>\n",
       "    <tr>\n",
       "      <th>66</th>\n",
       "      <td>Jewell Loyd</td>\n",
       "      <td>SEA</td>\n",
       "      <td>G</td>\n",
       "      <td>178</td>\n",
       "      <td>67.0</td>\n",
       "      <td>21.146320</td>\n",
       "      <td>US</td>\n",
       "      <td>May 10, 1993</td>\n",
       "      <td>24</td>\n",
       "      <td>Notre Dame</td>\n",
       "      <td>...</td>\n",
       "      <td>50</td>\n",
       "      <td>139</td>\n",
       "      <td>189</td>\n",
       "      <td>46</td>\n",
       "      <td>18</td>\n",
       "      <td>50</td>\n",
       "      <td>57</td>\n",
       "      <td>268</td>\n",
       "      <td>4</td>\n",
       "      <td>0</td>\n",
       "    </tr>\n",
       "    <tr>\n",
       "      <th>136</th>\n",
       "      <td>Tianna Hawkins</td>\n",
       "      <td>WAS</td>\n",
       "      <td>F</td>\n",
       "      <td>191</td>\n",
       "      <td>87.0</td>\n",
       "      <td>23.848030</td>\n",
       "      <td>US</td>\n",
       "      <td>February 3, 1991</td>\n",
       "      <td>26</td>\n",
       "      <td>Maryland</td>\n",
       "      <td>...</td>\n",
       "      <td>42</td>\n",
       "      <td>82</td>\n",
       "      <td>124</td>\n",
       "      <td>9</td>\n",
       "      <td>15</td>\n",
       "      <td>7</td>\n",
       "      <td>23</td>\n",
       "      <td>210</td>\n",
       "      <td>0</td>\n",
       "      <td>0</td>\n",
       "    </tr>\n",
       "    <tr>\n",
       "      <th>101</th>\n",
       "      <td>Nayo Raincock-Ekunwe</td>\n",
       "      <td>NY</td>\n",
       "      <td>F/C</td>\n",
       "      <td>188</td>\n",
       "      <td>79.0</td>\n",
       "      <td>22.351743</td>\n",
       "      <td>CA</td>\n",
       "      <td>August 29, 1991</td>\n",
       "      <td>25</td>\n",
       "      <td>Simon Fraser</td>\n",
       "      <td>...</td>\n",
       "      <td>24</td>\n",
       "      <td>22</td>\n",
       "      <td>46</td>\n",
       "      <td>8</td>\n",
       "      <td>2</td>\n",
       "      <td>1</td>\n",
       "      <td>13</td>\n",
       "      <td>96</td>\n",
       "      <td>0</td>\n",
       "      <td>0</td>\n",
       "    </tr>\n",
       "    <tr>\n",
       "      <th>53</th>\n",
       "      <td>Erlana Larkins</td>\n",
       "      <td>IND</td>\n",
       "      <td>F</td>\n",
       "      <td>185</td>\n",
       "      <td>93.0</td>\n",
       "      <td>27.173119</td>\n",
       "      <td>US</td>\n",
       "      <td>February 4, 1986</td>\n",
       "      <td>31</td>\n",
       "      <td>North Carolina</td>\n",
       "      <td>...</td>\n",
       "      <td>9</td>\n",
       "      <td>26</td>\n",
       "      <td>35</td>\n",
       "      <td>24</td>\n",
       "      <td>11</td>\n",
       "      <td>8</td>\n",
       "      <td>13</td>\n",
       "      <td>102</td>\n",
       "      <td>0</td>\n",
       "      <td>0</td>\n",
       "    </tr>\n",
       "    <tr>\n",
       "      <th>38</th>\n",
       "      <td>Courtney Williams</td>\n",
       "      <td>CON</td>\n",
       "      <td>G</td>\n",
       "      <td>173</td>\n",
       "      <td>62.0</td>\n",
       "      <td>20.715694</td>\n",
       "      <td>US</td>\n",
       "      <td>November 5, 1994</td>\n",
       "      <td>22</td>\n",
       "      <td>South Florida</td>\n",
       "      <td>...</td>\n",
       "      <td>38</td>\n",
       "      <td>84</td>\n",
       "      <td>122</td>\n",
       "      <td>60</td>\n",
       "      <td>15</td>\n",
       "      <td>6</td>\n",
       "      <td>39</td>\n",
       "      <td>375</td>\n",
       "      <td>1</td>\n",
       "      <td>0</td>\n",
       "    </tr>\n",
       "    <tr>\n",
       "      <th>73</th>\n",
       "      <td>Karima Christmas-Kelly</td>\n",
       "      <td>DAL</td>\n",
       "      <td>G/F</td>\n",
       "      <td>183</td>\n",
       "      <td>82.0</td>\n",
       "      <td>24.485652</td>\n",
       "      <td>US</td>\n",
       "      <td>November 9, 1989</td>\n",
       "      <td>27</td>\n",
       "      <td>Duke</td>\n",
       "      <td>...</td>\n",
       "      <td>4</td>\n",
       "      <td>10</td>\n",
       "      <td>14</td>\n",
       "      <td>6</td>\n",
       "      <td>1</td>\n",
       "      <td>1</td>\n",
       "      <td>13</td>\n",
       "      <td>65</td>\n",
       "      <td>0</td>\n",
       "      <td>0</td>\n",
       "    </tr>\n",
       "    <tr>\n",
       "      <th>30</th>\n",
       "      <td>Cappie Pondexter</td>\n",
       "      <td>CHI</td>\n",
       "      <td>G</td>\n",
       "      <td>175</td>\n",
       "      <td>73.0</td>\n",
       "      <td>23.836735</td>\n",
       "      <td>US</td>\n",
       "      <td>July 1, 1983</td>\n",
       "      <td>34</td>\n",
       "      <td>Rutgers</td>\n",
       "      <td>...</td>\n",
       "      <td>10</td>\n",
       "      <td>59</td>\n",
       "      <td>69</td>\n",
       "      <td>104</td>\n",
       "      <td>17</td>\n",
       "      <td>5</td>\n",
       "      <td>56</td>\n",
       "      <td>250</td>\n",
       "      <td>2</td>\n",
       "      <td>0</td>\n",
       "    </tr>\n",
       "    <tr>\n",
       "      <th>8</th>\n",
       "      <td>Allisha Gray</td>\n",
       "      <td>DAL</td>\n",
       "      <td>G</td>\n",
       "      <td>185</td>\n",
       "      <td>76.0</td>\n",
       "      <td>22.205990</td>\n",
       "      <td>US</td>\n",
       "      <td>October 20, 1992</td>\n",
       "      <td>24</td>\n",
       "      <td>South Carolina</td>\n",
       "      <td>...</td>\n",
       "      <td>52</td>\n",
       "      <td>75</td>\n",
       "      <td>127</td>\n",
       "      <td>40</td>\n",
       "      <td>47</td>\n",
       "      <td>19</td>\n",
       "      <td>37</td>\n",
       "      <td>395</td>\n",
       "      <td>0</td>\n",
       "      <td>0</td>\n",
       "    </tr>\n",
       "    <tr>\n",
       "      <th>138</th>\n",
       "      <td>Tiffany Hayes</td>\n",
       "      <td>ATL</td>\n",
       "      <td>G</td>\n",
       "      <td>178</td>\n",
       "      <td>70.0</td>\n",
       "      <td>22.093170</td>\n",
       "      <td>US</td>\n",
       "      <td>September 20, 1989</td>\n",
       "      <td>27</td>\n",
       "      <td>Connecticut</td>\n",
       "      <td>...</td>\n",
       "      <td>28</td>\n",
       "      <td>89</td>\n",
       "      <td>117</td>\n",
       "      <td>69</td>\n",
       "      <td>37</td>\n",
       "      <td>8</td>\n",
       "      <td>50</td>\n",
       "      <td>467</td>\n",
       "      <td>0</td>\n",
       "      <td>0</td>\n",
       "    </tr>\n",
       "    <tr>\n",
       "      <th>31</th>\n",
       "      <td>Carolyn Swords</td>\n",
       "      <td>SEA</td>\n",
       "      <td>C</td>\n",
       "      <td>198</td>\n",
       "      <td>95.0</td>\n",
       "      <td>24.232221</td>\n",
       "      <td>US</td>\n",
       "      <td>July 19, 1989</td>\n",
       "      <td>28</td>\n",
       "      <td>Boston College</td>\n",
       "      <td>...</td>\n",
       "      <td>10</td>\n",
       "      <td>29</td>\n",
       "      <td>39</td>\n",
       "      <td>9</td>\n",
       "      <td>5</td>\n",
       "      <td>4</td>\n",
       "      <td>22</td>\n",
       "      <td>54</td>\n",
       "      <td>0</td>\n",
       "      <td>0</td>\n",
       "    </tr>\n",
       "  </tbody>\n",
       "</table>\n",
       "<p>10 rows × 32 columns</p>\n",
       "</div>"
      ],
      "text/plain": [
       "                       Name Team  Pos  Height  Weight        BMI Birth_Place  \\\n",
       "66              Jewell Loyd  SEA    G     178    67.0  21.146320          US   \n",
       "136          Tianna Hawkins  WAS    F     191    87.0  23.848030          US   \n",
       "101    Nayo Raincock-Ekunwe   NY  F/C     188    79.0  22.351743          CA   \n",
       "53           Erlana Larkins  IND    F     185    93.0  27.173119          US   \n",
       "38        Courtney Williams  CON    G     173    62.0  20.715694          US   \n",
       "73   Karima Christmas-Kelly  DAL  G/F     183    82.0  24.485652          US   \n",
       "30         Cappie Pondexter  CHI    G     175    73.0  23.836735          US   \n",
       "8              Allisha Gray  DAL    G     185    76.0  22.205990          US   \n",
       "138           Tiffany Hayes  ATL    G     178    70.0  22.093170          US   \n",
       "31           Carolyn Swords  SEA    C     198    95.0  24.232221          US   \n",
       "\n",
       "              Birthdate  Age         College  ... OREB  DREB  REB  AST  STL  \\\n",
       "66         May 10, 1993   24      Notre Dame  ...   50   139  189   46   18   \n",
       "136    February 3, 1991   26        Maryland  ...   42    82  124    9   15   \n",
       "101     August 29, 1991   25    Simon Fraser  ...   24    22   46    8    2   \n",
       "53     February 4, 1986   31  North Carolina  ...    9    26   35   24   11   \n",
       "38     November 5, 1994   22   South Florida  ...   38    84  122   60   15   \n",
       "73     November 9, 1989   27            Duke  ...    4    10   14    6    1   \n",
       "30         July 1, 1983   34         Rutgers  ...   10    59   69  104   17   \n",
       "8      October 20, 1992   24  South Carolina  ...   52    75  127   40   47   \n",
       "138  September 20, 1989   27     Connecticut  ...   28    89  117   69   37   \n",
       "31        July 19, 1989   28  Boston College  ...   10    29   39    9    5   \n",
       "\n",
       "     BLK  TO  PTS  DD2  TD3  \n",
       "66    50  57  268    4    0  \n",
       "136    7  23  210    0    0  \n",
       "101    1  13   96    0    0  \n",
       "53     8  13  102    0    0  \n",
       "38     6  39  375    1    0  \n",
       "73     1  13   65    0    0  \n",
       "30     5  56  250    2    0  \n",
       "8     19  37  395    0    0  \n",
       "138    8  50  467    0    0  \n",
       "31     4  22   54    0    0  \n",
       "\n",
       "[10 rows x 32 columns]"
      ]
     },
     "execution_count": 7,
     "metadata": {},
     "output_type": "execute_result"
    }
   ],
   "source": [
    "wnba.sample(10)"
   ]
  },
  {
   "cell_type": "code",
   "execution_count": 8,
   "id": "632c81a1",
   "metadata": {},
   "outputs": [],
   "source": [
    "nominal_scale = ['Name', 'Team', 'Pos', 'Birth_Place', 'College']\n"
   ]
  },
  {
   "cell_type": "code",
   "execution_count": 9,
   "id": "80f01d83",
   "metadata": {},
   "outputs": [
    {
     "data": {
      "text/plain": [
       "10.996110408297898"
      ]
     },
     "execution_count": 9,
     "metadata": {},
     "output_type": "execute_result"
    }
   ],
   "source": [
    "wnba['Weight'].std()"
   ]
  },
  {
   "cell_type": "code",
   "execution_count": 10,
   "id": "6e613058",
   "metadata": {},
   "outputs": [],
   "source": [
    "temp = wnba.sample(10)"
   ]
  },
  {
   "cell_type": "code",
   "execution_count": 11,
   "id": "f16c343d",
   "metadata": {},
   "outputs": [],
   "source": [
    "temp['Weight_deviation'] = temp['Weight'].mean() - temp['Weight']"
   ]
  },
  {
   "cell_type": "code",
   "execution_count": 12,
   "id": "fa63c14d",
   "metadata": {},
   "outputs": [
    {
     "data": {
      "text/html": [
       "<div>\n",
       "<style scoped>\n",
       "    .dataframe tbody tr th:only-of-type {\n",
       "        vertical-align: middle;\n",
       "    }\n",
       "\n",
       "    .dataframe tbody tr th {\n",
       "        vertical-align: top;\n",
       "    }\n",
       "\n",
       "    .dataframe thead th {\n",
       "        text-align: right;\n",
       "    }\n",
       "</style>\n",
       "<table border=\"1\" class=\"dataframe\">\n",
       "  <thead>\n",
       "    <tr style=\"text-align: right;\">\n",
       "      <th></th>\n",
       "      <th>Name</th>\n",
       "      <th>Weight</th>\n",
       "      <th>Weight_deviation</th>\n",
       "    </tr>\n",
       "  </thead>\n",
       "  <tbody>\n",
       "    <tr>\n",
       "      <th>90</th>\n",
       "      <td>Maimouna Diarra</td>\n",
       "      <td>90.0</td>\n",
       "      <td>-14.3</td>\n",
       "    </tr>\n",
       "    <tr>\n",
       "      <th>119</th>\n",
       "      <td>Shatori Walker-Kimbrough</td>\n",
       "      <td>64.0</td>\n",
       "      <td>11.7</td>\n",
       "    </tr>\n",
       "    <tr>\n",
       "      <th>7</th>\n",
       "      <td>Allie Quigley</td>\n",
       "      <td>64.0</td>\n",
       "      <td>11.7</td>\n",
       "    </tr>\n",
       "    <tr>\n",
       "      <th>113</th>\n",
       "      <td>Sami Whitcomb</td>\n",
       "      <td>66.0</td>\n",
       "      <td>9.7</td>\n",
       "    </tr>\n",
       "    <tr>\n",
       "      <th>45</th>\n",
       "      <td>Diana Taurasi</td>\n",
       "      <td>74.0</td>\n",
       "      <td>1.7</td>\n",
       "    </tr>\n",
       "    <tr>\n",
       "      <th>5</th>\n",
       "      <td>Alexis Peterson</td>\n",
       "      <td>63.0</td>\n",
       "      <td>12.7</td>\n",
       "    </tr>\n",
       "    <tr>\n",
       "      <th>32</th>\n",
       "      <td>Cayla George</td>\n",
       "      <td>87.0</td>\n",
       "      <td>-11.3</td>\n",
       "    </tr>\n",
       "    <tr>\n",
       "      <th>135</th>\n",
       "      <td>Theresa Plaisance</td>\n",
       "      <td>91.0</td>\n",
       "      <td>-15.3</td>\n",
       "    </tr>\n",
       "    <tr>\n",
       "      <th>111</th>\n",
       "      <td>Renee Montgomery</td>\n",
       "      <td>63.0</td>\n",
       "      <td>12.7</td>\n",
       "    </tr>\n",
       "    <tr>\n",
       "      <th>31</th>\n",
       "      <td>Carolyn Swords</td>\n",
       "      <td>95.0</td>\n",
       "      <td>-19.3</td>\n",
       "    </tr>\n",
       "  </tbody>\n",
       "</table>\n",
       "</div>"
      ],
      "text/plain": [
       "                         Name  Weight  Weight_deviation\n",
       "90            Maimouna Diarra    90.0             -14.3\n",
       "119  Shatori Walker-Kimbrough    64.0              11.7\n",
       "7               Allie Quigley    64.0              11.7\n",
       "113             Sami Whitcomb    66.0               9.7\n",
       "45              Diana Taurasi    74.0               1.7\n",
       "5             Alexis Peterson    63.0              12.7\n",
       "32               Cayla George    87.0             -11.3\n",
       "135         Theresa Plaisance    91.0             -15.3\n",
       "111          Renee Montgomery    63.0              12.7\n",
       "31             Carolyn Swords    95.0             -19.3"
      ]
     },
     "execution_count": 12,
     "metadata": {},
     "output_type": "execute_result"
    }
   ],
   "source": [
    "temp[['Name', 'Weight', 'Weight_deviation']]"
   ]
  },
  {
   "cell_type": "code",
   "execution_count": 13,
   "id": "22dd9cd2",
   "metadata": {},
   "outputs": [],
   "source": [
    "# FOR NOMINAL VARIABLES"
   ]
  },
  {
   "cell_type": "code",
   "execution_count": 14,
   "id": "22357f45",
   "metadata": {},
   "outputs": [
    {
     "data": {
      "text/plain": [
       "188    20\n",
       "193    18\n",
       "175    16\n",
       "185    15\n",
       "183    11\n",
       "173    11\n",
       "191    11\n",
       "196     9\n",
       "178     8\n",
       "180     7\n",
       "170     6\n",
       "198     5\n",
       "201     2\n",
       "168     2\n",
       "206     1\n",
       "165     1\n",
       "Name: Height, dtype: int64"
      ]
     },
     "execution_count": 14,
     "metadata": {},
     "output_type": "execute_result"
    }
   ],
   "source": [
    "wnba['Height'].value_counts()"
   ]
  },
  {
   "cell_type": "code",
   "execution_count": 15,
   "id": "a1d7dde5",
   "metadata": {},
   "outputs": [
    {
     "data": {
      "text/plain": [
       "165     1\n",
       "168     2\n",
       "170     6\n",
       "173    11\n",
       "175    16\n",
       "178     8\n",
       "180     7\n",
       "183    11\n",
       "185    15\n",
       "188    20\n",
       "191    11\n",
       "193    18\n",
       "196     9\n",
       "198     5\n",
       "201     2\n",
       "206     1\n",
       "Name: Height, dtype: int64"
      ]
     },
     "execution_count": 15,
     "metadata": {},
     "output_type": "execute_result"
    }
   ],
   "source": [
    "wnba['Height'].value_counts().sort_index()"
   ]
  },
  {
   "cell_type": "code",
   "execution_count": 16,
   "id": "fc2b7377",
   "metadata": {},
   "outputs": [],
   "source": [
    "## For ordinal values"
   ]
  },
  {
   "cell_type": "code",
   "execution_count": 17,
   "id": "b18c13e1",
   "metadata": {},
   "outputs": [],
   "source": [
    "def pts_ordinal(row):\n",
    "    if row['PTS'] <= 20:\n",
    "        return 'grade F'\n",
    "    elif row['PTS'] <= 80:\n",
    "        return 'grade E'\n",
    "    elif row['PTS'] <= 150:\n",
    "        return 'grade D'\n",
    "    elif row['PTS'] <= 300:\n",
    "        return 'grade C'\n",
    "    elif row['PTS'] <= 400:\n",
    "        return 'grade B'\n",
    "    else:\n",
    "        return 'grade A'\n",
    "    "
   ]
  },
  {
   "cell_type": "code",
   "execution_count": 18,
   "id": "801b9cd0",
   "metadata": {},
   "outputs": [],
   "source": [
    "wnba['PTS_ordinal_scale'] = wnba.apply(pts_ordinal, axis =1)\n"
   ]
  },
  {
   "cell_type": "code",
   "execution_count": 19,
   "id": "7a97444d",
   "metadata": {},
   "outputs": [
    {
     "data": {
      "text/html": [
       "<div>\n",
       "<style scoped>\n",
       "    .dataframe tbody tr th:only-of-type {\n",
       "        vertical-align: middle;\n",
       "    }\n",
       "\n",
       "    .dataframe tbody tr th {\n",
       "        vertical-align: top;\n",
       "    }\n",
       "\n",
       "    .dataframe thead th {\n",
       "        text-align: right;\n",
       "    }\n",
       "</style>\n",
       "<table border=\"1\" class=\"dataframe\">\n",
       "  <thead>\n",
       "    <tr style=\"text-align: right;\">\n",
       "      <th></th>\n",
       "      <th>Name</th>\n",
       "      <th>PTS</th>\n",
       "      <th>PTS_ordinal_scale</th>\n",
       "    </tr>\n",
       "  </thead>\n",
       "  <tbody>\n",
       "    <tr>\n",
       "      <th>0</th>\n",
       "      <td>Aerial Powers</td>\n",
       "      <td>93</td>\n",
       "      <td>grade D</td>\n",
       "    </tr>\n",
       "    <tr>\n",
       "      <th>1</th>\n",
       "      <td>Alana Beard</td>\n",
       "      <td>217</td>\n",
       "      <td>grade C</td>\n",
       "    </tr>\n",
       "    <tr>\n",
       "      <th>2</th>\n",
       "      <td>Alex Bentley</td>\n",
       "      <td>218</td>\n",
       "      <td>grade C</td>\n",
       "    </tr>\n",
       "    <tr>\n",
       "      <th>3</th>\n",
       "      <td>Alex Montgomery</td>\n",
       "      <td>188</td>\n",
       "      <td>grade C</td>\n",
       "    </tr>\n",
       "    <tr>\n",
       "      <th>4</th>\n",
       "      <td>Alexis Jones</td>\n",
       "      <td>50</td>\n",
       "      <td>grade E</td>\n",
       "    </tr>\n",
       "  </tbody>\n",
       "</table>\n",
       "</div>"
      ],
      "text/plain": [
       "              Name  PTS PTS_ordinal_scale\n",
       "0    Aerial Powers   93           grade D\n",
       "1      Alana Beard  217           grade C\n",
       "2     Alex Bentley  218           grade C\n",
       "3  Alex Montgomery  188           grade C\n",
       "4     Alexis Jones   50           grade E"
      ]
     },
     "execution_count": 19,
     "metadata": {},
     "output_type": "execute_result"
    }
   ],
   "source": [
    "wnba[['Name', 'PTS', 'PTS_ordinal_scale']].head()"
   ]
  },
  {
   "cell_type": "code",
   "execution_count": 20,
   "id": "a3c34a17",
   "metadata": {},
   "outputs": [
    {
     "data": {
      "text/plain": [
       "grade C    45\n",
       "grade E    27\n",
       "grade D    25\n",
       "grade A    17\n",
       "grade B    17\n",
       "grade F    12\n",
       "Name: PTS_ordinal_scale, dtype: int64"
      ]
     },
     "execution_count": 20,
     "metadata": {},
     "output_type": "execute_result"
    }
   ],
   "source": [
    "wnba['PTS_ordinal_scale'].value_counts()"
   ]
  },
  {
   "cell_type": "code",
   "execution_count": 21,
   "id": "f15fb46b",
   "metadata": {},
   "outputs": [
    {
     "data": {
      "text/plain": [
       "grade A    17\n",
       "grade B    17\n",
       "grade C    45\n",
       "grade D    25\n",
       "grade E    27\n",
       "grade F    12\n",
       "Name: PTS_ordinal_scale, dtype: int64"
      ]
     },
     "execution_count": 21,
     "metadata": {},
     "output_type": "execute_result"
    }
   ],
   "source": [
    "wnba['PTS_ordinal_scale'].value_counts().sort_index()"
   ]
  },
  {
   "cell_type": "code",
   "execution_count": 22,
   "id": "f743278f",
   "metadata": {},
   "outputs": [],
   "source": [
    "## Percentage"
   ]
  },
  {
   "cell_type": "code",
   "execution_count": 23,
   "id": "f2eaa766",
   "metadata": {},
   "outputs": [
    {
     "data": {
      "text/plain": [
       "G      60\n",
       "F      33\n",
       "C      25\n",
       "G/F    13\n",
       "F/C    12\n",
       "Name: Pos, dtype: int64"
      ]
     },
     "execution_count": 23,
     "metadata": {},
     "output_type": "execute_result"
    }
   ],
   "source": [
    "wnba['Pos'].value_counts()"
   ]
  },
  {
   "cell_type": "code",
   "execution_count": 24,
   "id": "ec30b445",
   "metadata": {},
   "outputs": [
    {
     "data": {
      "text/plain": [
       "G      0.419580\n",
       "F      0.230769\n",
       "C      0.174825\n",
       "G/F    0.090909\n",
       "F/C    0.083916\n",
       "Name: Pos, dtype: float64"
      ]
     },
     "execution_count": 24,
     "metadata": {},
     "output_type": "execute_result"
    }
   ],
   "source": [
    "wnba['Pos'].value_counts()/len(wnba)"
   ]
  },
  {
   "cell_type": "code",
   "execution_count": 25,
   "id": "aaf35d65",
   "metadata": {},
   "outputs": [
    {
     "data": {
      "text/plain": [
       "G      41.958042\n",
       "F      23.076923\n",
       "C      17.482517\n",
       "G/F     9.090909\n",
       "F/C     8.391608\n",
       "Name: Pos, dtype: float64"
      ]
     },
     "execution_count": 25,
     "metadata": {},
     "output_type": "execute_result"
    }
   ],
   "source": [
    "wnba['Pos'].value_counts(normalize = True)*100"
   ]
  },
  {
   "cell_type": "code",
   "execution_count": 26,
   "id": "0d05e1c4",
   "metadata": {},
   "outputs": [
    {
     "data": {
      "text/plain": [
       "21     1.398601\n",
       "22     6.993007\n",
       "23    10.489510\n",
       "24    11.188811\n",
       "25    10.489510\n",
       "26     8.391608\n",
       "27     9.090909\n",
       "28     9.790210\n",
       "29     5.594406\n",
       "30     6.293706\n",
       "31     5.594406\n",
       "32     5.594406\n",
       "33     2.097902\n",
       "34     3.496503\n",
       "35     2.797203\n",
       "36     0.699301\n",
       "Name: Age, dtype: float64"
      ]
     },
     "execution_count": 26,
     "metadata": {},
     "output_type": "execute_result"
    }
   ],
   "source": [
    "wnba['Age'].value_counts(normalize = True).sort_index()*100"
   ]
  },
  {
   "cell_type": "code",
   "execution_count": 27,
   "id": "6251657a",
   "metadata": {},
   "outputs": [],
   "source": [
    "percentages = wnba['Age'].value_counts(normalize=True).sort_index()*100"
   ]
  },
  {
   "cell_type": "code",
   "execution_count": 28,
   "id": "650dc092",
   "metadata": {},
   "outputs": [
    {
     "data": {
      "text/plain": [
       "0.1048951048951049"
      ]
     },
     "execution_count": 28,
     "metadata": {},
     "output_type": "execute_result"
    }
   ],
   "source": [
    "percentages[25]/100"
   ]
  },
  {
   "cell_type": "code",
   "execution_count": 29,
   "id": "69560bc0",
   "metadata": {},
   "outputs": [
    {
     "data": {
      "text/plain": [
       "26.573426573426573"
      ]
     },
     "execution_count": 29,
     "metadata": {},
     "output_type": "execute_result"
    }
   ],
   "source": [
    "percentages.loc[30:].sum()"
   ]
  },
  {
   "cell_type": "code",
   "execution_count": 30,
   "id": "9cc98a68",
   "metadata": {},
   "outputs": [
    {
     "data": {
      "text/plain": [
       "18.88111888111888"
      ]
     },
     "execution_count": 30,
     "metadata": {},
     "output_type": "execute_result"
    }
   ],
   "source": [
    "percentages.loc[:23].sum()"
   ]
  },
  {
   "cell_type": "code",
   "execution_count": 31,
   "id": "32a8d9a0",
   "metadata": {},
   "outputs": [],
   "source": [
    "from scipy.stats import percentileofscore"
   ]
  },
  {
   "cell_type": "code",
   "execution_count": 32,
   "id": "29397203",
   "metadata": {},
   "outputs": [
    {
     "data": {
      "text/plain": [
       "18.88111888111888"
      ]
     },
     "execution_count": 32,
     "metadata": {},
     "output_type": "execute_result"
    }
   ],
   "source": [
    "percentileofscore(a=wnba['Age'],score = 23,  kind = 'weak')"
   ]
  },
  {
   "cell_type": "code",
   "execution_count": 33,
   "id": "0dad97ca",
   "metadata": {},
   "outputs": [
    {
     "data": {
      "text/plain": [
       "26.573426573426573"
      ]
     },
     "execution_count": 33,
     "metadata": {},
     "output_type": "execute_result"
    }
   ],
   "source": [
    "# 30 and older\n",
    "\n",
    "100 - percentileofscore(a=wnba['Age'], score = 29, kind='weak')"
   ]
  },
  {
   "cell_type": "code",
   "execution_count": 34,
   "id": "c51585ed",
   "metadata": {},
   "outputs": [
    {
     "data": {
      "text/plain": [
       "77.0     10\n",
       "84.0      9\n",
       "66.0      8\n",
       "86.0      7\n",
       "73.0      6\n",
       "79.0      6\n",
       "88.0      6\n",
       "87.0      6\n",
       "78.0      5\n",
       "81.0      5\n",
       "64.0      5\n",
       "83.0      4\n",
       "65.0      4\n",
       "74.0      4\n",
       "76.0      4\n",
       "75.0      4\n",
       "82.0      4\n",
       "89.0      3\n",
       "70.0      3\n",
       "91.0      3\n",
       "93.0      3\n",
       "63.0      3\n",
       "80.0      3\n",
       "59.0      2\n",
       "96.0      2\n",
       "90.0      2\n",
       "71.0      2\n",
       "95.0      2\n",
       "85.0      2\n",
       "104.0     2\n",
       "113.0     2\n",
       "69.0      2\n",
       "68.0      2\n",
       "67.0      1\n",
       "57.0      1\n",
       "108.0     1\n",
       "62.0      1\n",
       "58.0      1\n",
       "55.0      1\n",
       "97.0      1\n",
       "Name: Weight, dtype: int64"
      ]
     },
     "execution_count": 34,
     "metadata": {},
     "output_type": "execute_result"
    }
   ],
   "source": [
    "# Intervals\n",
    "wnba['Weight'].value_counts()"
   ]
  },
  {
   "cell_type": "code",
   "execution_count": 35,
   "id": "379221e0",
   "metadata": {},
   "outputs": [
    {
     "data": {
      "text/plain": [
       "(54.941, 60.8]     5\n",
       "(60.8, 66.6]      21\n",
       "(66.6, 72.4]      10\n",
       "(72.4, 78.2]      33\n",
       "(78.2, 84.0]      31\n",
       "(84.0, 89.8]      24\n",
       "(89.8, 95.6]      10\n",
       "(95.6, 101.4]      3\n",
       "(101.4, 107.2]     2\n",
       "(107.2, 113.0]     3\n",
       "Name: Weight, dtype: int64"
      ]
     },
     "execution_count": 35,
     "metadata": {},
     "output_type": "execute_result"
    }
   ],
   "source": [
    "# Also known as grouped frequency distribution table\n",
    "wnba['Weight'].value_counts(bins=10).sort_index()"
   ]
  },
  {
   "cell_type": "code",
   "execution_count": 36,
   "id": "e2481656",
   "metadata": {},
   "outputs": [
    {
     "data": {
      "text/plain": [
       "(1.417, 60.2]     30\n",
       "(60.2, 118.4]     24\n",
       "(118.4, 176.6]    17\n",
       "(176.6, 234.8]    20\n",
       "(234.8, 293.0]    17\n",
       "(293.0, 351.2]     8\n",
       "(351.2, 409.4]    10\n",
       "(409.4, 467.6]     8\n",
       "(467.6, 525.8]     4\n",
       "(525.8, 584.0]     5\n",
       "Name: PTS, dtype: int64"
      ]
     },
     "execution_count": 36,
     "metadata": {},
     "output_type": "execute_result"
    }
   ],
   "source": [
    "wnba['PTS'].value_counts(bins=10).sort_index()"
   ]
  },
  {
   "cell_type": "code",
   "execution_count": 37,
   "id": "a69c7bd3",
   "metadata": {},
   "outputs": [],
   "source": [
    "intervals = pd.interval_range(start = 0, end = 600, freq = 100)"
   ]
  },
  {
   "cell_type": "code",
   "execution_count": 38,
   "id": "ca59f90e",
   "metadata": {},
   "outputs": [
    {
     "data": {
      "text/plain": [
       "IntervalIndex([(0, 100], (100, 200], (200, 300], (300, 400], (400, 500], (500, 600]], dtype='interval[int64, right]')"
      ]
     },
     "execution_count": 38,
     "metadata": {},
     "output_type": "execute_result"
    }
   ],
   "source": [
    "intervals"
   ]
  },
  {
   "cell_type": "code",
   "execution_count": 39,
   "id": "7cf626c1",
   "metadata": {},
   "outputs": [
    {
     "data": {
      "text/plain": [
       "(0, 100]      49\n",
       "(100, 200]    28\n",
       "(200, 300]    32\n",
       "(300, 400]    17\n",
       "(400, 500]    10\n",
       "(500, 600]     7\n",
       "Name: PTS, dtype: int64"
      ]
     },
     "execution_count": 39,
     "metadata": {},
     "output_type": "execute_result"
    }
   ],
   "source": [
    "wnba['PTS'].value_counts(bins=intervals).sort_index()"
   ]
  },
  {
   "cell_type": "code",
   "execution_count": 40,
   "id": "d49ca62f",
   "metadata": {},
   "outputs": [
    {
     "data": {
      "text/plain": [
       "188    20\n",
       "193    18\n",
       "175    16\n",
       "185    15\n",
       "183    11\n",
       "173    11\n",
       "191    11\n",
       "196     9\n",
       "178     8\n",
       "180     7\n",
       "170     6\n",
       "198     5\n",
       "201     2\n",
       "168     2\n",
       "206     1\n",
       "165     1\n",
       "Name: Height, dtype: int64"
      ]
     },
     "execution_count": 40,
     "metadata": {},
     "output_type": "execute_result"
    }
   ],
   "source": [
    "# Frequency table and continous variables\n",
    "wnba['Height'].value_counts()"
   ]
  },
  {
   "cell_type": "code",
   "execution_count": 41,
   "id": "14485639",
   "metadata": {},
   "outputs": [
    {
     "data": {
      "text/plain": [
       "16"
      ]
     },
     "execution_count": 41,
     "metadata": {},
     "output_type": "execute_result"
    }
   ],
   "source": [
    "wnba['Height'].value_counts()[175]"
   ]
  },
  {
   "cell_type": "code",
   "execution_count": 42,
   "id": "c4372a26",
   "metadata": {},
   "outputs": [
    {
     "data": {
      "text/plain": [
       "min    165.0\n",
       "25%    176.5\n",
       "50%    185.0\n",
       "75%    191.0\n",
       "max    206.0\n",
       "Name: Height, dtype: float64"
      ]
     },
     "execution_count": 42,
     "metadata": {},
     "output_type": "execute_result"
    }
   ],
   "source": [
    "wnba['Height'].describe().iloc[3:]"
   ]
  },
  {
   "cell_type": "code",
   "execution_count": 43,
   "id": "346ba997",
   "metadata": {},
   "outputs": [
    {
     "data": {
      "image/png": "[encoded data removed]",
      "text/plain": [
       "<Figure size 432x288 with 1 Axes>"
      ]
     },
     "metadata": {
      "needs_background": "light"
     },
     "output_type": "display_data"
    }
   ],
   "source": [
    "wnba['Pos'].value_counts().plot.bar()\n",
    "plt.show()"
   ]
  },
  {
   "cell_type": "code",
   "execution_count": 44,
   "id": "08327d30",
   "metadata": {},
   "outputs": [
    {
     "data": {
      "image/png": "[encoded data removed]",
      "text/plain": [
       "<Figure size 432x288 with 1 Axes>"
      ]
     },
     "metadata": {
      "needs_background": "light"
     },
     "output_type": "display_data"
    }
   ],
   "source": [
    "wnba['Pos'].value_counts().plot.barh()\n",
    "plt.show()"
   ]
  },
  {
   "cell_type": "code",
   "execution_count": 45,
   "id": "c1d1593a",
   "metadata": {},
   "outputs": [
    {
     "data": {
      "image/png": "[encoded data removed]",
      "text/plain": [
       "<Figure size 432x288 with 1 Axes>"
      ]
     },
     "metadata": {
      "needs_background": "light"
     },
     "output_type": "display_data"
    }
   ],
   "source": [
    "wnba['PTS_ordinal_scale'].value_counts().plot.bar()\n",
    "plt.show()"
   ]
  },
  {
   "cell_type": "code",
   "execution_count": 46,
   "id": "6f9f92dc",
   "metadata": {},
   "outputs": [
    {
     "data": {
      "image/png": "[encoded data removed]",
      "text/plain": [
       "<Figure size 576x576 with 1 Axes>"
      ]
     },
     "metadata": {},
     "output_type": "display_data"
    }
   ],
   "source": [
    "wnba['PTS_ordinal_scale'].value_counts().plot.pie(title='players by position', figsize=(8,8), autopct='%.2f%%')\n",
    "plt.ylabel('')\n",
    "plt.show()"
   ]
  },
  {
   "cell_type": "code",
   "execution_count": 47,
   "id": "a1968a41",
   "metadata": {},
   "outputs": [
    {
     "data": {
      "image/png": "[encoded data removed]",
      "text/plain": [
       "<Figure size 576x576 with 1 Axes>"
      ]
     },
     "metadata": {},
     "output_type": "display_data"
    }
   ],
   "source": [
    "wnba['PTS_ordinal_scale'].value_counts().plot.pie(title='players by position', figsize=(8,8), )\n",
    "plt.ylabel('')\n",
    "plt.show()"
   ]
  },
  {
   "cell_type": "code",
   "execution_count": 48,
   "id": "48027e88",
   "metadata": {},
   "outputs": [
    {
     "data": {
      "text/plain": [
       "count    143.000000\n",
       "mean     201.790210\n",
       "std      153.381548\n",
       "min        2.000000\n",
       "25%       75.000000\n",
       "50%      177.000000\n",
       "75%      277.500000\n",
       "max      584.000000\n",
       "Name: PTS, dtype: float64"
      ]
     },
     "execution_count": 48,
     "metadata": {},
     "output_type": "execute_result"
    }
   ],
   "source": [
    "wnba['PTS'].describe()"
   ]
  },
  {
   "cell_type": "code",
   "execution_count": 49,
   "id": "999a6014",
   "metadata": {},
   "outputs": [
    {
     "data": {
      "image/png": "[encoded data removed]",
      "text/plain": [
       "<Figure size 432x288 with 1 Axes>"
      ]
     },
     "metadata": {
      "needs_background": "light"
     },
     "output_type": "display_data"
    }
   ],
   "source": [
    "wnba['PTS'].plot.hist()\n",
    "plt.show()"
   ]
  },
  {
   "cell_type": "code",
   "execution_count": 50,
   "id": "4ad9b8d7",
   "metadata": {},
   "outputs": [
    {
     "data": {
      "image/png": "[encoded data removed]",
      "text/plain": [
       "<Figure size 720x576 with 1 Axes>"
      ]
     },
     "metadata": {
      "needs_background": "light"
     },
     "output_type": "display_data"
    }
   ],
   "source": [
    "wnba['PTS'].plot.hist(xticks=np.arange(0,601, 100), figsize=(10,8))\n",
    "plt.show()"
   ]
  },
  {
   "cell_type": "code",
   "execution_count": 51,
   "id": "065706fb",
   "metadata": {},
   "outputs": [
    {
     "data": {
      "image/png": "[encoded data removed]",
      "text/plain": [
       "<Figure size 720x576 with 1 Axes>"
      ]
     },
     "metadata": {
      "needs_background": "light"
     },
     "output_type": "display_data"
    }
   ],
   "source": [
    "wnba['PTS'].plot.hist(xticks=np.arange(0,601, 50), figsize=(10,8), grid=True)\n",
    "plt.show()"
   ]
  },
  {
   "cell_type": "code",
   "execution_count": 52,
   "id": "105e468f",
   "metadata": {},
   "outputs": [
    {
     "data": {
      "image/png": "[encoded data removed]",
      "text/plain": [
       "<Figure size 720x576 with 1 Axes>"
      ]
     },
     "metadata": {
      "needs_background": "light"
     },
     "output_type": "display_data"
    }
   ],
   "source": [
    "wnba['PTS'].plot.hist(xticks=np.arange(2,585, 58.2), figsize=(10,8), grid=True)\n",
    "plt.show()"
   ]
  },
  {
   "cell_type": "markdown",
   "id": "c3367061",
   "metadata": {},
   "source": [
    "# WNBA HISTOGRAM"
   ]
  },
  {
   "cell_type": "code",
   "execution_count": 53,
   "id": "94ce9a53",
   "metadata": {},
   "outputs": [
    {
     "data": {
      "image/png": "[encoded data removed]",
      "text/plain": [
       "<Figure size 720x576 with 1 Axes>"
      ]
     },
     "metadata": {
      "needs_background": "light"
     },
     "output_type": "display_data"
    }
   ],
   "source": [
    "wnba['PTS'].plot.hist(xticks=np.arange(0,601, 50), figsize=(10,8), grid=True, bins=2)\n",
    "plt.show()"
   ]
  },
  {
   "cell_type": "code",
   "execution_count": 54,
   "id": "d34b06df",
   "metadata": {},
   "outputs": [
    {
     "data": {
      "image/png": "[encoded data removed]",
      "text/plain": [
       "<Figure size 720x576 with 1 Axes>"
      ]
     },
     "metadata": {
      "needs_background": "light"
     },
     "output_type": "display_data"
    }
   ],
   "source": [
    "wnba['PTS'].plot.hist(xticks=np.arange(0,601, 50), figsize=(10,8), grid=True, bins=5)\n",
    "plt.show()"
   ]
  },
  {
   "cell_type": "code",
   "execution_count": 55,
   "id": "df8d6356",
   "metadata": {},
   "outputs": [
    {
     "data": {
      "image/png": "[encoded data removed]",
      "text/plain": [
       "<Figure size 720x576 with 1 Axes>"
      ]
     },
     "metadata": {
      "needs_background": "light"
     },
     "output_type": "display_data"
    }
   ],
   "source": [
    "wnba['PTS'].plot.hist(xticks=np.arange(0,601, 50), figsize=(10,8), grid=True, bins=10)\n",
    "plt.show()\n",
    "# 10 is an ideal number of bins"
   ]
  },
  {
   "cell_type": "code",
   "execution_count": 56,
   "id": "e5d1a450",
   "metadata": {},
   "outputs": [
    {
     "data": {
      "image/png": "[encoded data removed]",
      "text/plain": [
       "<Figure size 720x576 with 1 Axes>"
      ]
     },
     "metadata": {
      "needs_background": "light"
     },
     "output_type": "display_data"
    }
   ],
   "source": [
    "wnba['PTS'].plot.hist(xticks=np.arange(0,601, 50), figsize=(10,8), grid=True, bins=50)\n",
    "plt.show()"
   ]
  },
  {
   "cell_type": "code",
   "execution_count": 57,
   "id": "460a2c87",
   "metadata": {},
   "outputs": [
    {
     "data": {
      "image/png": "[encoded data removed]",
      "text/plain": [
       "<Figure size 720x576 with 1 Axes>"
      ]
     },
     "metadata": {
      "needs_background": "light"
     },
     "output_type": "display_data"
    }
   ],
   "source": [
    "wnba['PTS'].plot.hist(xticks=np.arange(0,601, 50), figsize=(10,8), grid=True, bins=60)\n",
    "plt.show()"
   ]
  },
  {
   "cell_type": "code",
   "execution_count": 58,
   "id": "5558587c",
   "metadata": {},
   "outputs": [
    {
     "data": {
      "text/plain": [
       "2      1\n",
       "4      3\n",
       "5      1\n",
       "7      3\n",
       "8      1\n",
       "9      1\n",
       "10     2\n",
       "12     1\n",
       "14     4\n",
       "15     2\n",
       "16     2\n",
       "17     2\n",
       "18     3\n",
       "19     1\n",
       "20     4\n",
       "21     2\n",
       "22     6\n",
       "23     7\n",
       "24     5\n",
       "25     7\n",
       "26     6\n",
       "27     8\n",
       "28    10\n",
       "29    30\n",
       "30    25\n",
       "31     5\n",
       "32     1\n",
       "Name: Games Played, dtype: int64"
      ]
     },
     "execution_count": 58,
     "metadata": {},
     "output_type": "execute_result"
    }
   ],
   "source": [
    "wnba['Games Played'].value_counts().sort_index()"
   ]
  },
  {
   "cell_type": "markdown",
   "id": "3520f282",
   "metadata": {},
   "source": [
    "##  Skewed Distributions"
   ]
  },
  {
   "cell_type": "code",
   "execution_count": 59,
   "id": "b99a1dff",
   "metadata": {},
   "outputs": [
    {
     "data": {
      "image/png": "[encoded data removed]",
      "text/plain": [
       "<Figure size 720x576 with 1 Axes>"
      ]
     },
     "metadata": {
      "needs_background": "light"
     },
     "output_type": "display_data"
    }
   ],
   "source": [
    "wnba['Games Played'].plot.hist(range = (1,32), figsize=(10,8), grid=True, bins=8, color = 'red')\n",
    "plt.show()\n",
    "# Left Skewed"
   ]
  },
  {
   "cell_type": "code",
   "execution_count": 60,
   "id": "9ca8a24b",
   "metadata": {},
   "outputs": [
    {
     "data": {
      "image/png": "[encoded data removed]",
      "text/plain": [
       "<Figure size 720x576 with 1 Axes>"
      ]
     },
     "metadata": {
      "needs_background": "light"
     },
     "output_type": "display_data"
    }
   ],
   "source": [
    "wnba['PTS'].plot.hist(xticks=np.arange(0,601, 50), figsize=(10,8), grid=True, bins=10)\n",
    "plt.show()\n",
    "# Right Skewed"
   ]
  },
  {
   "cell_type": "code",
   "execution_count": 61,
   "id": "2875a24c",
   "metadata": {},
   "outputs": [
    {
     "data": {
      "image/png": "[encoded data removed]",
      "text/plain": [
       "<Figure size 720x576 with 1 Axes>"
      ]
     },
     "metadata": {
      "needs_background": "light"
     },
     "output_type": "display_data"
    }
   ],
   "source": [
    "wnba['Height'].plot.hist(figsize=(10,8))\n",
    "plt.show()"
   ]
  },
  {
   "cell_type": "code",
   "execution_count": 62,
   "id": "e28d6f5b",
   "metadata": {},
   "outputs": [
    {
     "data": {
      "image/png": "[encoded data removed]",
      "text/plain": [
       "<Figure size 720x576 with 1 Axes>"
      ]
     },
     "metadata": {
      "needs_background": "light"
     },
     "output_type": "display_data"
    }
   ],
   "source": [
    "wnba['Weight'].plot.hist(figsize=(10,8))\n",
    "plt.show() # Symmetric Distribution"
   ]
  },
  {
   "cell_type": "code",
   "execution_count": 63,
   "id": "adab3717",
   "metadata": {},
   "outputs": [
    {
     "data": {
      "image/png": "[encoded data removed]",
      "text/plain": [
       "<Figure size 720x576 with 1 Axes>"
      ]
     },
     "metadata": {
      "needs_background": "light"
     },
     "output_type": "display_data"
    }
   ],
   "source": [
    "wnba['Age'].plot.hist(figsize=(10,8))\n",
    "plt.show() # Sort of Symmetric Distribution"
   ]
  },
  {
   "cell_type": "code",
   "execution_count": 64,
   "id": "03c157b7",
   "metadata": {},
   "outputs": [],
   "source": [
    "wnba['Experience'] = wnba['Experience'].replace(['R'], '0')"
   ]
  },
  {
   "cell_type": "code",
   "execution_count": 65,
   "id": "b0a34166",
   "metadata": {},
   "outputs": [],
   "source": [
    "wnba['Experience'] = wnba['Experience'].astype(int)"
   ]
  },
  {
   "cell_type": "code",
   "execution_count": 66,
   "id": "be8dbd49",
   "metadata": {},
   "outputs": [],
   "source": [
    "def exp_ordinal(row):\n",
    "    if row['Experience'] == 0:\n",
    "        return 'fresher'\n",
    "    elif row['Experience'] <= 3:\n",
    "        return 'less experienced'\n",
    "    elif row['Experience'] <= 5:\n",
    "        return 'experienced'\n",
    "    elif row['Experience'] <= 10:\n",
    "        return 'very experienced'\n",
    "    elif row['Experience'] > 10:\n",
    "        return 'veteran'\n",
    "    else:\n",
    "        return 'Rookie'\n",
    "# Experience was an object. Converted R to 0 and then str to int"
   ]
  },
  {
   "cell_type": "code",
   "execution_count": 67,
   "id": "af2e95aa",
   "metadata": {},
   "outputs": [],
   "source": [
    "wnba['exp_ordinal'] = wnba.apply(exp_ordinal, axis = 1)"
   ]
  },
  {
   "cell_type": "code",
   "execution_count": 68,
   "id": "8e52f187",
   "metadata": {},
   "outputs": [],
   "source": [
    "rookies = wnba[wnba['exp_ordinal'] == 'fresher']\n",
    "little_exp = wnba[wnba['exp_ordinal'] == 'less experienced']\n",
    "experienced = wnba[wnba['exp_ordinal'] == 'experienced']\n",
    "very_xp = wnba[wnba['exp_ordinal'] == 'very experienced']\n",
    "veteran = wnba[wnba['exp_ordinal'] == 'veteran']"
   ]
  },
  {
   "cell_type": "code",
   "execution_count": 146,
   "id": "9a53092f",
   "metadata": {},
   "outputs": [],
   "source": [
    "rookie_distr = rookies['Pos'].value_counts()\n",
    "little_exp_distr = little_exp['Pos'].value_counts()\n",
    "experienced_disr = experienced['Pos'].value_counts()\n",
    "very_exp_distr = very_xp['Pos'].value_counts()\n",
    "veteran_distr = veteran['Pos'].value_counts()\n",
    "rookie_distr['G/F'] = 0"
   ]
  },
  {
   "cell_type": "code",
   "execution_count": 147,
   "id": "27f20788",
   "metadata": {},
   "outputs": [
    {
     "data": {
      "text/plain": [
       "G      14\n",
       "C       4\n",
       "F       4\n",
       "F/C     1\n",
       "G/F     0\n",
       "Name: Pos, dtype: int64"
      ]
     },
     "execution_count": 147,
     "metadata": {},
     "output_type": "execute_result"
    }
   ],
   "source": [
    "rookie_distr"
   ]
  },
  {
   "cell_type": "code",
   "execution_count": 148,
   "id": "73ad1c71",
   "metadata": {},
   "outputs": [
    {
     "ename": "ValueError",
     "evalue": "shape mismatch: objects cannot be broadcast to a single shape",
     "output_type": "error",
     "traceback": [
      "\u001b[1;31m---------------------------------------------------------------------------\u001b[0m",
      "\u001b[1;31mValueError\u001b[0m                                Traceback (most recent call last)",
      "\u001b[1;32m~\\AppData\\Local\\Temp\\ipykernel_22724\\3490653160.py\u001b[0m in \u001b[0;36m<module>\u001b[1;34m\u001b[0m\n\u001b[0;32m      3\u001b[0m \u001b[1;33m\u001b[0m\u001b[0m\n\u001b[0;32m      4\u001b[0m \u001b[0mplt\u001b[0m\u001b[1;33m.\u001b[0m\u001b[0mfigure\u001b[0m\u001b[1;33m(\u001b[0m\u001b[0mfigsize\u001b[0m\u001b[1;33m=\u001b[0m\u001b[1;33m(\u001b[0m\u001b[1;36m12\u001b[0m\u001b[1;33m,\u001b[0m\u001b[1;36m10\u001b[0m\u001b[1;33m)\u001b[0m\u001b[1;33m)\u001b[0m\u001b[1;33m\u001b[0m\u001b[1;33m\u001b[0m\u001b[0m\n\u001b[1;32m----> 5\u001b[1;33m \u001b[0mplt\u001b[0m\u001b[1;33m.\u001b[0m\u001b[0mbar\u001b[0m\u001b[1;33m(\u001b[0m\u001b[0mx\u001b[0m\u001b[1;33m-\u001b[0m\u001b[1;36m0.1\u001b[0m\u001b[1;33m,\u001b[0m \u001b[0mrookie_distr\u001b[0m\u001b[1;33m,\u001b[0m \u001b[0mwidth\u001b[0m\u001b[1;33m)\u001b[0m\u001b[1;33m\u001b[0m\u001b[1;33m\u001b[0m\u001b[0m\n\u001b[0m\u001b[0;32m      6\u001b[0m \u001b[0mplt\u001b[0m\u001b[1;33m.\u001b[0m\u001b[0mbar\u001b[0m\u001b[1;33m(\u001b[0m\u001b[0mx\u001b[0m\u001b[1;33m-\u001b[0m\u001b[1;36m0.1\u001b[0m\u001b[1;33m,\u001b[0m \u001b[0mlittle_exp_distr\u001b[0m\u001b[1;33m,\u001b[0m \u001b[0mwidth\u001b[0m\u001b[1;33m)\u001b[0m\u001b[1;33m\u001b[0m\u001b[1;33m\u001b[0m\u001b[0m\n\u001b[0;32m      7\u001b[0m \u001b[0mplt\u001b[0m\u001b[1;33m.\u001b[0m\u001b[0mbar\u001b[0m\u001b[1;33m(\u001b[0m\u001b[0mx\u001b[0m\u001b[1;33m,\u001b[0m \u001b[0mexperienced_disr\u001b[0m\u001b[1;33m,\u001b[0m \u001b[0mwidth\u001b[0m\u001b[1;33m)\u001b[0m\u001b[1;33m\u001b[0m\u001b[1;33m\u001b[0m\u001b[0m\n",
      "\u001b[1;32mc:\\users\\vaibh\\appdata\\local\\programs\\python\\python37\\lib\\site-packages\\matplotlib\\pyplot.py\u001b[0m in \u001b[0;36mbar\u001b[1;34m(x, height, width, bottom, align, data, **kwargs)\u001b[0m\n\u001b[0;32m   2387\u001b[0m     return gca().bar(\n\u001b[0;32m   2388\u001b[0m         \u001b[0mx\u001b[0m\u001b[1;33m,\u001b[0m \u001b[0mheight\u001b[0m\u001b[1;33m,\u001b[0m \u001b[0mwidth\u001b[0m\u001b[1;33m=\u001b[0m\u001b[0mwidth\u001b[0m\u001b[1;33m,\u001b[0m \u001b[0mbottom\u001b[0m\u001b[1;33m=\u001b[0m\u001b[0mbottom\u001b[0m\u001b[1;33m,\u001b[0m \u001b[0malign\u001b[0m\u001b[1;33m=\u001b[0m\u001b[0malign\u001b[0m\u001b[1;33m,\u001b[0m\u001b[1;33m\u001b[0m\u001b[1;33m\u001b[0m\u001b[0m\n\u001b[1;32m-> 2389\u001b[1;33m         **({\"data\": data} if data is not None else {}), **kwargs)\n\u001b[0m\u001b[0;32m   2390\u001b[0m \u001b[1;33m\u001b[0m\u001b[0m\n\u001b[0;32m   2391\u001b[0m \u001b[1;33m\u001b[0m\u001b[0m\n",
      "\u001b[1;32mc:\\users\\vaibh\\appdata\\local\\programs\\python\\python37\\lib\\site-packages\\matplotlib\\__init__.py\u001b[0m in \u001b[0;36minner\u001b[1;34m(ax, data, *args, **kwargs)\u001b[0m\n\u001b[0;32m   1410\u001b[0m     \u001b[1;32mdef\u001b[0m \u001b[0minner\u001b[0m\u001b[1;33m(\u001b[0m\u001b[0max\u001b[0m\u001b[1;33m,\u001b[0m \u001b[1;33m*\u001b[0m\u001b[0margs\u001b[0m\u001b[1;33m,\u001b[0m \u001b[0mdata\u001b[0m\u001b[1;33m=\u001b[0m\u001b[1;32mNone\u001b[0m\u001b[1;33m,\u001b[0m \u001b[1;33m**\u001b[0m\u001b[0mkwargs\u001b[0m\u001b[1;33m)\u001b[0m\u001b[1;33m:\u001b[0m\u001b[1;33m\u001b[0m\u001b[1;33m\u001b[0m\u001b[0m\n\u001b[0;32m   1411\u001b[0m         \u001b[1;32mif\u001b[0m \u001b[0mdata\u001b[0m \u001b[1;32mis\u001b[0m \u001b[1;32mNone\u001b[0m\u001b[1;33m:\u001b[0m\u001b[1;33m\u001b[0m\u001b[1;33m\u001b[0m\u001b[0m\n\u001b[1;32m-> 1412\u001b[1;33m             \u001b[1;32mreturn\u001b[0m \u001b[0mfunc\u001b[0m\u001b[1;33m(\u001b[0m\u001b[0max\u001b[0m\u001b[1;33m,\u001b[0m \u001b[1;33m*\u001b[0m\u001b[0mmap\u001b[0m\u001b[1;33m(\u001b[0m\u001b[0msanitize_sequence\u001b[0m\u001b[1;33m,\u001b[0m \u001b[0margs\u001b[0m\u001b[1;33m)\u001b[0m\u001b[1;33m,\u001b[0m \u001b[1;33m**\u001b[0m\u001b[0mkwargs\u001b[0m\u001b[1;33m)\u001b[0m\u001b[1;33m\u001b[0m\u001b[1;33m\u001b[0m\u001b[0m\n\u001b[0m\u001b[0;32m   1413\u001b[0m \u001b[1;33m\u001b[0m\u001b[0m\n\u001b[0;32m   1414\u001b[0m         \u001b[0mbound\u001b[0m \u001b[1;33m=\u001b[0m \u001b[0mnew_sig\u001b[0m\u001b[1;33m.\u001b[0m\u001b[0mbind\u001b[0m\u001b[1;33m(\u001b[0m\u001b[0max\u001b[0m\u001b[1;33m,\u001b[0m \u001b[1;33m*\u001b[0m\u001b[0margs\u001b[0m\u001b[1;33m,\u001b[0m \u001b[1;33m**\u001b[0m\u001b[0mkwargs\u001b[0m\u001b[1;33m)\u001b[0m\u001b[1;33m\u001b[0m\u001b[1;33m\u001b[0m\u001b[0m\n",
      "\u001b[1;32mc:\\users\\vaibh\\appdata\\local\\programs\\python\\python37\\lib\\site-packages\\matplotlib\\axes\\_axes.py\u001b[0m in \u001b[0;36mbar\u001b[1;34m(self, x, height, width, bottom, align, **kwargs)\u001b[0m\n\u001b[0;32m   2342\u001b[0m         x, height, width, y, linewidth, hatch = np.broadcast_arrays(\n\u001b[0;32m   2343\u001b[0m             \u001b[1;31m# Make args iterable too.\u001b[0m\u001b[1;33m\u001b[0m\u001b[1;33m\u001b[0m\u001b[1;33m\u001b[0m\u001b[0m\n\u001b[1;32m-> 2344\u001b[1;33m             np.atleast_1d(x), height, width, y, linewidth, hatch)\n\u001b[0m\u001b[0;32m   2345\u001b[0m \u001b[1;33m\u001b[0m\u001b[0m\n\u001b[0;32m   2346\u001b[0m         \u001b[1;31m# Now that units have been converted, set the tick locations.\u001b[0m\u001b[1;33m\u001b[0m\u001b[1;33m\u001b[0m\u001b[1;33m\u001b[0m\u001b[0m\n",
      "\u001b[1;32m<__array_function__ internals>\u001b[0m in \u001b[0;36mbroadcast_arrays\u001b[1;34m(*args, **kwargs)\u001b[0m\n",
      "\u001b[1;32m~\\AppData\\Roaming\\Python\\Python37\\site-packages\\numpy\\lib\\stride_tricks.py\u001b[0m in \u001b[0;36mbroadcast_arrays\u001b[1;34m(subok, *args)\u001b[0m\n\u001b[0;32m    536\u001b[0m     \u001b[0margs\u001b[0m \u001b[1;33m=\u001b[0m \u001b[1;33m[\u001b[0m\u001b[0mnp\u001b[0m\u001b[1;33m.\u001b[0m\u001b[0marray\u001b[0m\u001b[1;33m(\u001b[0m\u001b[0m_m\u001b[0m\u001b[1;33m,\u001b[0m \u001b[0mcopy\u001b[0m\u001b[1;33m=\u001b[0m\u001b[1;32mFalse\u001b[0m\u001b[1;33m,\u001b[0m \u001b[0msubok\u001b[0m\u001b[1;33m=\u001b[0m\u001b[0msubok\u001b[0m\u001b[1;33m)\u001b[0m \u001b[1;32mfor\u001b[0m \u001b[0m_m\u001b[0m \u001b[1;32min\u001b[0m \u001b[0margs\u001b[0m\u001b[1;33m]\u001b[0m\u001b[1;33m\u001b[0m\u001b[1;33m\u001b[0m\u001b[0m\n\u001b[0;32m    537\u001b[0m \u001b[1;33m\u001b[0m\u001b[0m\n\u001b[1;32m--> 538\u001b[1;33m     \u001b[0mshape\u001b[0m \u001b[1;33m=\u001b[0m \u001b[0m_broadcast_shape\u001b[0m\u001b[1;33m(\u001b[0m\u001b[1;33m*\u001b[0m\u001b[0margs\u001b[0m\u001b[1;33m)\u001b[0m\u001b[1;33m\u001b[0m\u001b[1;33m\u001b[0m\u001b[0m\n\u001b[0m\u001b[0;32m    539\u001b[0m \u001b[1;33m\u001b[0m\u001b[0m\n\u001b[0;32m    540\u001b[0m     \u001b[1;32mif\u001b[0m \u001b[0mall\u001b[0m\u001b[1;33m(\u001b[0m\u001b[0marray\u001b[0m\u001b[1;33m.\u001b[0m\u001b[0mshape\u001b[0m \u001b[1;33m==\u001b[0m \u001b[0mshape\u001b[0m \u001b[1;32mfor\u001b[0m \u001b[0marray\u001b[0m \u001b[1;32min\u001b[0m \u001b[0margs\u001b[0m\u001b[1;33m)\u001b[0m\u001b[1;33m:\u001b[0m\u001b[1;33m\u001b[0m\u001b[1;33m\u001b[0m\u001b[0m\n",
      "\u001b[1;32m~\\AppData\\Roaming\\Python\\Python37\\site-packages\\numpy\\lib\\stride_tricks.py\u001b[0m in \u001b[0;36m_broadcast_shape\u001b[1;34m(*args)\u001b[0m\n\u001b[0;32m    418\u001b[0m     \u001b[1;31m# use the old-iterator because np.nditer does not handle size 0 arrays\u001b[0m\u001b[1;33m\u001b[0m\u001b[1;33m\u001b[0m\u001b[1;33m\u001b[0m\u001b[0m\n\u001b[0;32m    419\u001b[0m     \u001b[1;31m# consistently\u001b[0m\u001b[1;33m\u001b[0m\u001b[1;33m\u001b[0m\u001b[1;33m\u001b[0m\u001b[0m\n\u001b[1;32m--> 420\u001b[1;33m     \u001b[0mb\u001b[0m \u001b[1;33m=\u001b[0m \u001b[0mnp\u001b[0m\u001b[1;33m.\u001b[0m\u001b[0mbroadcast\u001b[0m\u001b[1;33m(\u001b[0m\u001b[1;33m*\u001b[0m\u001b[0margs\u001b[0m\u001b[1;33m[\u001b[0m\u001b[1;33m:\u001b[0m\u001b[1;36m32\u001b[0m\u001b[1;33m]\u001b[0m\u001b[1;33m)\u001b[0m\u001b[1;33m\u001b[0m\u001b[1;33m\u001b[0m\u001b[0m\n\u001b[0m\u001b[0;32m    421\u001b[0m     \u001b[1;31m# unfortunately, it cannot handle 32 or more arguments directly\u001b[0m\u001b[1;33m\u001b[0m\u001b[1;33m\u001b[0m\u001b[1;33m\u001b[0m\u001b[0m\n\u001b[0;32m    422\u001b[0m     \u001b[1;32mfor\u001b[0m \u001b[0mpos\u001b[0m \u001b[1;32min\u001b[0m \u001b[0mrange\u001b[0m\u001b[1;33m(\u001b[0m\u001b[1;36m32\u001b[0m\u001b[1;33m,\u001b[0m \u001b[0mlen\u001b[0m\u001b[1;33m(\u001b[0m\u001b[0margs\u001b[0m\u001b[1;33m)\u001b[0m\u001b[1;33m,\u001b[0m \u001b[1;36m31\u001b[0m\u001b[1;33m)\u001b[0m\u001b[1;33m:\u001b[0m\u001b[1;33m\u001b[0m\u001b[1;33m\u001b[0m\u001b[0m\n",
      "\u001b[1;31mValueError\u001b[0m: shape mismatch: objects cannot be broadcast to a single shape"
     ]
    },
    {
     "data": {
      "image/png": "[encoded data removed]",
      "text/plain": [
       "<Figure size 864x720 with 1 Axes>"
      ]
     },
     "metadata": {
      "needs_background": "light"
     },
     "output_type": "display_data"
    }
   ],
   "source": [
    "x = np.arange(3)\n",
    "width = 0.1\n",
    "\n",
    "plt.figure(figsize=(12,10))\n",
    "plt.bar(x-0.1, rookie_distr, width)\n",
    "plt.bar(x-0.1, little_exp_distr, width)\n",
    "plt.bar(x, experienced_disr, width)\n",
    "plt.bar(x+0.1, very_exp_distr, width)\n",
    "plt.bar(x+0.2, veteran_distr, width)\n",
    "\n",
    "plt.show()\n"
   ]
  },
  {
   "cell_type": "markdown",
   "id": "6cd85212",
   "metadata": {},
   "source": [
    "# Grouped Bar chart start"
   ]
  },
  {
   "cell_type": "code",
   "execution_count": 104,
   "id": "b8292bde",
   "metadata": {},
   "outputs": [],
   "source": [
    "listf = [['rowA', 10, 20, 15, 30], \n",
    "            ['rowB', 20, 25, 20, 35], \n",
    "             ['rowC', 15, 17, 22, 10], \n",
    "             ['rowD', 18, 33, 16, 21]]\n"
   ]
  },
  {
   "cell_type": "code",
   "execution_count": 105,
   "id": "7d89e204",
   "metadata": {},
   "outputs": [],
   "source": [
    "dfa = pd.DataFrame(listf, columns = ['names','data', 'info', 'details', 'particulars'])\n"
   ]
  },
  {
   "cell_type": "code",
   "execution_count": 106,
   "id": "98042b6a",
   "metadata": {},
   "outputs": [
    {
     "data": {
      "text/html": [
       "<div>\n",
       "<style scoped>\n",
       "    .dataframe tbody tr th:only-of-type {\n",
       "        vertical-align: middle;\n",
       "    }\n",
       "\n",
       "    .dataframe tbody tr th {\n",
       "        vertical-align: top;\n",
       "    }\n",
       "\n",
       "    .dataframe thead th {\n",
       "        text-align: right;\n",
       "    }\n",
       "</style>\n",
       "<table border=\"1\" class=\"dataframe\">\n",
       "  <thead>\n",
       "    <tr style=\"text-align: right;\">\n",
       "      <th></th>\n",
       "      <th>names</th>\n",
       "      <th>data</th>\n",
       "      <th>info</th>\n",
       "      <th>details</th>\n",
       "      <th>particulars</th>\n",
       "    </tr>\n",
       "  </thead>\n",
       "  <tbody>\n",
       "    <tr>\n",
       "      <th>0</th>\n",
       "      <td>rowA</td>\n",
       "      <td>10</td>\n",
       "      <td>20</td>\n",
       "      <td>15</td>\n",
       "      <td>30</td>\n",
       "    </tr>\n",
       "    <tr>\n",
       "      <th>1</th>\n",
       "      <td>rowB</td>\n",
       "      <td>20</td>\n",
       "      <td>25</td>\n",
       "      <td>20</td>\n",
       "      <td>35</td>\n",
       "    </tr>\n",
       "    <tr>\n",
       "      <th>2</th>\n",
       "      <td>rowC</td>\n",
       "      <td>15</td>\n",
       "      <td>17</td>\n",
       "      <td>22</td>\n",
       "      <td>10</td>\n",
       "    </tr>\n",
       "    <tr>\n",
       "      <th>3</th>\n",
       "      <td>rowD</td>\n",
       "      <td>18</td>\n",
       "      <td>33</td>\n",
       "      <td>16</td>\n",
       "      <td>21</td>\n",
       "    </tr>\n",
       "  </tbody>\n",
       "</table>\n",
       "</div>"
      ],
      "text/plain": [
       "  names  data  info  details  particulars\n",
       "0  rowA    10    20       15           30\n",
       "1  rowB    20    25       20           35\n",
       "2  rowC    15    17       22           10\n",
       "3  rowD    18    33       16           21"
      ]
     },
     "execution_count": 106,
     "metadata": {},
     "output_type": "execute_result"
    }
   ],
   "source": [
    "dfa"
   ]
  },
  {
   "cell_type": "code",
   "execution_count": 155,
   "id": "3380a7a5",
   "metadata": {},
   "outputs": [],
   "source": [
    "x = np.arange(4)\n",
    "width = 0.2"
   ]
  },
  {
   "cell_type": "code",
   "execution_count": 145,
   "id": "a0152596",
   "metadata": {},
   "outputs": [
    {
     "data": {
      "text/plain": [
       "<AxesSubplot:xlabel='Pos'>"
      ]
     },
     "execution_count": 145,
     "metadata": {},
     "output_type": "execute_result"
    },
    {
     "data": {
      "image/png": "[encoded data removed]",
      "text/plain": [
       "<Figure size 432x288 with 1 Axes>"
      ]
     },
     "metadata": {
      "needs_background": "light"
     },
     "output_type": "display_data"
    }
   ],
   "source": [
    "wnba[['Pos', 'exp_ordinal']].groupby('exp_ordinal')['Pos'].value_counts().unstack(0).plot.bar()\n"
   ]
  },
  {
   "cell_type": "code",
   "execution_count": 157,
   "id": "9d92ae6e",
   "metadata": {},
   "outputs": [
    {
     "data": {
      "image/png": "[encoded data removed]",
      "text/plain": [
       "<Figure size 864x720 with 1 Axes>"
      ]
     },
     "metadata": {
      "needs_background": "light"
     },
     "output_type": "display_data"
    }
   ],
   "source": [
    "\n",
    "plt.figure(figsize=(12,10))\n",
    "plt.bar(x-0.2, dfa['data'], width)\n",
    "plt.bar(x, dfa['info'], width)\n",
    "plt.bar(x+0.2, dfa['details'], width)\n",
    "plt.bar(x+0.4, dfa['particulars'], width)\n",
    "\n",
    "plt.xticks(x, list(dfa['names']))\n",
    "plt.legend(dfa.columns)\n",
    "plt.show()"
   ]
  },
  {
   "cell_type": "code",
   "execution_count": 139,
   "id": "c7fdfaec",
   "metadata": {},
   "outputs": [
    {
     "data": {
      "text/html": [
       "<div>\n",
       "<style scoped>\n",
       "    .dataframe tbody tr th:only-of-type {\n",
       "        vertical-align: middle;\n",
       "    }\n",
       "\n",
       "    .dataframe tbody tr th {\n",
       "        vertical-align: top;\n",
       "    }\n",
       "\n",
       "    .dataframe thead th {\n",
       "        text-align: right;\n",
       "    }\n",
       "</style>\n",
       "<table border=\"1\" class=\"dataframe\">\n",
       "  <thead>\n",
       "    <tr style=\"text-align: right;\">\n",
       "      <th></th>\n",
       "      <th>Name</th>\n",
       "      <th>Team</th>\n",
       "      <th>Pos</th>\n",
       "      <th>Height</th>\n",
       "      <th>Weight</th>\n",
       "      <th>BMI</th>\n",
       "      <th>Birth_Place</th>\n",
       "      <th>Birthdate</th>\n",
       "      <th>Age</th>\n",
       "      <th>College</th>\n",
       "      <th>...</th>\n",
       "      <th>STL</th>\n",
       "      <th>BLK</th>\n",
       "      <th>TO</th>\n",
       "      <th>PTS</th>\n",
       "      <th>DD2</th>\n",
       "      <th>TD3</th>\n",
       "      <th>PTS_ordinal_scale</th>\n",
       "      <th>exp_ordinal</th>\n",
       "      <th>age_mean_relative</th>\n",
       "      <th>min_mean_relative</th>\n",
       "    </tr>\n",
       "  </thead>\n",
       "  <tbody>\n",
       "    <tr>\n",
       "      <th>0</th>\n",
       "      <td>Aerial Powers</td>\n",
       "      <td>DAL</td>\n",
       "      <td>F</td>\n",
       "      <td>183</td>\n",
       "      <td>71.0</td>\n",
       "      <td>21.200991</td>\n",
       "      <td>US</td>\n",
       "      <td>January 17, 1994</td>\n",
       "      <td>23</td>\n",
       "      <td>Michigan State</td>\n",
       "      <td>...</td>\n",
       "      <td>3</td>\n",
       "      <td>6</td>\n",
       "      <td>12</td>\n",
       "      <td>93</td>\n",
       "      <td>0</td>\n",
       "      <td>0</td>\n",
       "      <td>grade D</td>\n",
       "      <td>less experienced</td>\n",
       "      <td>young</td>\n",
       "      <td>below avg</td>\n",
       "    </tr>\n",
       "    <tr>\n",
       "      <th>1</th>\n",
       "      <td>Alana Beard</td>\n",
       "      <td>LA</td>\n",
       "      <td>G/F</td>\n",
       "      <td>185</td>\n",
       "      <td>73.0</td>\n",
       "      <td>21.329438</td>\n",
       "      <td>US</td>\n",
       "      <td>May 14, 1982</td>\n",
       "      <td>35</td>\n",
       "      <td>Duke</td>\n",
       "      <td>...</td>\n",
       "      <td>63</td>\n",
       "      <td>13</td>\n",
       "      <td>40</td>\n",
       "      <td>217</td>\n",
       "      <td>0</td>\n",
       "      <td>0</td>\n",
       "      <td>grade C</td>\n",
       "      <td>veteran</td>\n",
       "      <td>old</td>\n",
       "      <td>avg or above</td>\n",
       "    </tr>\n",
       "    <tr>\n",
       "      <th>2</th>\n",
       "      <td>Alex Bentley</td>\n",
       "      <td>CON</td>\n",
       "      <td>G</td>\n",
       "      <td>170</td>\n",
       "      <td>69.0</td>\n",
       "      <td>23.875433</td>\n",
       "      <td>US</td>\n",
       "      <td>October 27, 1990</td>\n",
       "      <td>26</td>\n",
       "      <td>Penn State</td>\n",
       "      <td>...</td>\n",
       "      <td>22</td>\n",
       "      <td>3</td>\n",
       "      <td>24</td>\n",
       "      <td>218</td>\n",
       "      <td>0</td>\n",
       "      <td>0</td>\n",
       "      <td>grade C</td>\n",
       "      <td>experienced</td>\n",
       "      <td>young</td>\n",
       "      <td>avg or above</td>\n",
       "    </tr>\n",
       "    <tr>\n",
       "      <th>3</th>\n",
       "      <td>Alex Montgomery</td>\n",
       "      <td>SAN</td>\n",
       "      <td>G/F</td>\n",
       "      <td>185</td>\n",
       "      <td>84.0</td>\n",
       "      <td>24.543462</td>\n",
       "      <td>US</td>\n",
       "      <td>December 11, 1988</td>\n",
       "      <td>28</td>\n",
       "      <td>Georgia Tech</td>\n",
       "      <td>...</td>\n",
       "      <td>20</td>\n",
       "      <td>10</td>\n",
       "      <td>38</td>\n",
       "      <td>188</td>\n",
       "      <td>2</td>\n",
       "      <td>0</td>\n",
       "      <td>grade C</td>\n",
       "      <td>very experienced</td>\n",
       "      <td>old</td>\n",
       "      <td>avg or above</td>\n",
       "    </tr>\n",
       "    <tr>\n",
       "      <th>4</th>\n",
       "      <td>Alexis Jones</td>\n",
       "      <td>MIN</td>\n",
       "      <td>G</td>\n",
       "      <td>175</td>\n",
       "      <td>78.0</td>\n",
       "      <td>25.469388</td>\n",
       "      <td>US</td>\n",
       "      <td>August 5, 1994</td>\n",
       "      <td>23</td>\n",
       "      <td>Baylor</td>\n",
       "      <td>...</td>\n",
       "      <td>7</td>\n",
       "      <td>0</td>\n",
       "      <td>14</td>\n",
       "      <td>50</td>\n",
       "      <td>0</td>\n",
       "      <td>0</td>\n",
       "      <td>grade E</td>\n",
       "      <td>fresher</td>\n",
       "      <td>young</td>\n",
       "      <td>below avg</td>\n",
       "    </tr>\n",
       "    <tr>\n",
       "      <th>...</th>\n",
       "      <td>...</td>\n",
       "      <td>...</td>\n",
       "      <td>...</td>\n",
       "      <td>...</td>\n",
       "      <td>...</td>\n",
       "      <td>...</td>\n",
       "      <td>...</td>\n",
       "      <td>...</td>\n",
       "      <td>...</td>\n",
       "      <td>...</td>\n",
       "      <td>...</td>\n",
       "      <td>...</td>\n",
       "      <td>...</td>\n",
       "      <td>...</td>\n",
       "      <td>...</td>\n",
       "      <td>...</td>\n",
       "      <td>...</td>\n",
       "      <td>...</td>\n",
       "      <td>...</td>\n",
       "      <td>...</td>\n",
       "      <td>...</td>\n",
       "    </tr>\n",
       "    <tr>\n",
       "      <th>138</th>\n",
       "      <td>Tiffany Hayes</td>\n",
       "      <td>ATL</td>\n",
       "      <td>G</td>\n",
       "      <td>178</td>\n",
       "      <td>70.0</td>\n",
       "      <td>22.093170</td>\n",
       "      <td>US</td>\n",
       "      <td>September 20, 1989</td>\n",
       "      <td>27</td>\n",
       "      <td>Connecticut</td>\n",
       "      <td>...</td>\n",
       "      <td>37</td>\n",
       "      <td>8</td>\n",
       "      <td>50</td>\n",
       "      <td>467</td>\n",
       "      <td>0</td>\n",
       "      <td>0</td>\n",
       "      <td>grade A</td>\n",
       "      <td>very experienced</td>\n",
       "      <td>old</td>\n",
       "      <td>avg or above</td>\n",
       "    </tr>\n",
       "    <tr>\n",
       "      <th>139</th>\n",
       "      <td>Tiffany Jackson</td>\n",
       "      <td>LA</td>\n",
       "      <td>F</td>\n",
       "      <td>191</td>\n",
       "      <td>84.0</td>\n",
       "      <td>23.025685</td>\n",
       "      <td>US</td>\n",
       "      <td>April 26, 1985</td>\n",
       "      <td>32</td>\n",
       "      <td>Texas</td>\n",
       "      <td>...</td>\n",
       "      <td>1</td>\n",
       "      <td>3</td>\n",
       "      <td>8</td>\n",
       "      <td>28</td>\n",
       "      <td>0</td>\n",
       "      <td>0</td>\n",
       "      <td>grade E</td>\n",
       "      <td>very experienced</td>\n",
       "      <td>old</td>\n",
       "      <td>below avg</td>\n",
       "    </tr>\n",
       "    <tr>\n",
       "      <th>140</th>\n",
       "      <td>Tiffany Mitchell</td>\n",
       "      <td>IND</td>\n",
       "      <td>G</td>\n",
       "      <td>175</td>\n",
       "      <td>69.0</td>\n",
       "      <td>22.530612</td>\n",
       "      <td>US</td>\n",
       "      <td>September 23, 1984</td>\n",
       "      <td>32</td>\n",
       "      <td>South Carolina</td>\n",
       "      <td>...</td>\n",
       "      <td>31</td>\n",
       "      <td>5</td>\n",
       "      <td>40</td>\n",
       "      <td>277</td>\n",
       "      <td>0</td>\n",
       "      <td>0</td>\n",
       "      <td>grade C</td>\n",
       "      <td>less experienced</td>\n",
       "      <td>old</td>\n",
       "      <td>avg or above</td>\n",
       "    </tr>\n",
       "    <tr>\n",
       "      <th>141</th>\n",
       "      <td>Tina Charles</td>\n",
       "      <td>NY</td>\n",
       "      <td>F/C</td>\n",
       "      <td>193</td>\n",
       "      <td>84.0</td>\n",
       "      <td>22.550941</td>\n",
       "      <td>US</td>\n",
       "      <td>May 12, 1988</td>\n",
       "      <td>29</td>\n",
       "      <td>Connecticut</td>\n",
       "      <td>...</td>\n",
       "      <td>21</td>\n",
       "      <td>22</td>\n",
       "      <td>71</td>\n",
       "      <td>582</td>\n",
       "      <td>11</td>\n",
       "      <td>0</td>\n",
       "      <td>grade A</td>\n",
       "      <td>very experienced</td>\n",
       "      <td>old</td>\n",
       "      <td>avg or above</td>\n",
       "    </tr>\n",
       "    <tr>\n",
       "      <th>142</th>\n",
       "      <td>Yvonne Turner</td>\n",
       "      <td>PHO</td>\n",
       "      <td>G</td>\n",
       "      <td>175</td>\n",
       "      <td>59.0</td>\n",
       "      <td>19.265306</td>\n",
       "      <td>US</td>\n",
       "      <td>October 13, 1987</td>\n",
       "      <td>29</td>\n",
       "      <td>Nebraska</td>\n",
       "      <td>...</td>\n",
       "      <td>18</td>\n",
       "      <td>1</td>\n",
       "      <td>32</td>\n",
       "      <td>151</td>\n",
       "      <td>0</td>\n",
       "      <td>0</td>\n",
       "      <td>grade C</td>\n",
       "      <td>less experienced</td>\n",
       "      <td>old</td>\n",
       "      <td>below avg</td>\n",
       "    </tr>\n",
       "  </tbody>\n",
       "</table>\n",
       "<p>143 rows × 36 columns</p>\n",
       "</div>"
      ],
      "text/plain": [
       "                 Name Team  Pos  Height  Weight        BMI Birth_Place  \\\n",
       "0       Aerial Powers  DAL    F     183    71.0  21.200991          US   \n",
       "1         Alana Beard   LA  G/F     185    73.0  21.329438          US   \n",
       "2        Alex Bentley  CON    G     170    69.0  23.875433          US   \n",
       "3     Alex Montgomery  SAN  G/F     185    84.0  24.543462          US   \n",
       "4        Alexis Jones  MIN    G     175    78.0  25.469388          US   \n",
       "..                ...  ...  ...     ...     ...        ...         ...   \n",
       "138     Tiffany Hayes  ATL    G     178    70.0  22.093170          US   \n",
       "139   Tiffany Jackson   LA    F     191    84.0  23.025685          US   \n",
       "140  Tiffany Mitchell  IND    G     175    69.0  22.530612          US   \n",
       "141      Tina Charles   NY  F/C     193    84.0  22.550941          US   \n",
       "142     Yvonne Turner  PHO    G     175    59.0  19.265306          US   \n",
       "\n",
       "              Birthdate  Age         College  ...  STL  BLK  TO  PTS  DD2  \\\n",
       "0      January 17, 1994   23  Michigan State  ...    3    6  12   93    0   \n",
       "1          May 14, 1982   35            Duke  ...   63   13  40  217    0   \n",
       "2      October 27, 1990   26      Penn State  ...   22    3  24  218    0   \n",
       "3     December 11, 1988   28    Georgia Tech  ...   20   10  38  188    2   \n",
       "4        August 5, 1994   23          Baylor  ...    7    0  14   50    0   \n",
       "..                  ...  ...             ...  ...  ...  ...  ..  ...  ...   \n",
       "138  September 20, 1989   27     Connecticut  ...   37    8  50  467    0   \n",
       "139      April 26, 1985   32           Texas  ...    1    3   8   28    0   \n",
       "140  September 23, 1984   32  South Carolina  ...   31    5  40  277    0   \n",
       "141        May 12, 1988   29     Connecticut  ...   21   22  71  582   11   \n",
       "142    October 13, 1987   29        Nebraska  ...   18    1  32  151    0   \n",
       "\n",
       "     TD3  PTS_ordinal_scale       exp_ordinal  age_mean_relative  \\\n",
       "0      0            grade D  less experienced              young   \n",
       "1      0            grade C           veteran                old   \n",
       "2      0            grade C       experienced              young   \n",
       "3      0            grade C  very experienced                old   \n",
       "4      0            grade E           fresher              young   \n",
       "..   ...                ...               ...                ...   \n",
       "138    0            grade A  very experienced                old   \n",
       "139    0            grade E  very experienced                old   \n",
       "140    0            grade C  less experienced                old   \n",
       "141    0            grade A  very experienced                old   \n",
       "142    0            grade C  less experienced                old   \n",
       "\n",
       "     min_mean_relative  \n",
       "0            below avg  \n",
       "1         avg or above  \n",
       "2         avg or above  \n",
       "3         avg or above  \n",
       "4            below avg  \n",
       "..                 ...  \n",
       "138       avg or above  \n",
       "139          below avg  \n",
       "140       avg or above  \n",
       "141       avg or above  \n",
       "142          below avg  \n",
       "\n",
       "[143 rows x 36 columns]"
      ]
     },
     "execution_count": 139,
     "metadata": {},
     "output_type": "execute_result"
    }
   ],
   "source": [
    "wnba\n"
   ]
  },
  {
   "cell_type": "code",
   "execution_count": 126,
   "id": "7ae115ce",
   "metadata": {},
   "outputs": [
    {
     "data": {
      "image/png": "[encoded data removed]",
      "text/plain": [
       "<Figure size 864x720 with 1 Axes>"
      ]
     },
     "metadata": {
      "needs_background": "light"
     },
     "output_type": "display_data"
    }
   ],
   "source": [
    "dfa.plot(x='names', kind='bar', stacked=False, figsize=(12,10))\n",
    "plt.show()"
   ]
  },
  {
   "cell_type": "markdown",
   "id": "6f9641b1",
   "metadata": {},
   "source": [
    "# END"
   ]
  },
  {
   "cell_type": "code",
   "execution_count": 70,
   "id": "3c8b8da4",
   "metadata": {},
   "outputs": [
    {
     "name": "stdout",
     "output_type": "stream",
     "text": [
      "G      14\n",
      "C       4\n",
      "F       4\n",
      "F/C     1\n",
      "Name: Pos, dtype: int64\n",
      "-----------\n",
      "G      14\n",
      "F      13\n",
      "C       8\n",
      "F/C     4\n",
      "G/F     3\n",
      "Name: Pos, dtype: int64\n",
      "-------------\n",
      "G      9\n",
      "C      6\n",
      "F      6\n",
      "F/C    2\n",
      "G/F    2\n",
      "Name: Pos, dtype: int64\n"
     ]
    }
   ],
   "source": [
    "print(rookie_distr)\n",
    "print('-----------')\n",
    "print(little_exp_distr)\n",
    "print('-------------')\n",
    "print(experienced_disr)"
   ]
  },
  {
   "cell_type": "code",
   "execution_count": 71,
   "id": "8e9b1e66",
   "metadata": {},
   "outputs": [
    {
     "data": {
      "text/plain": [
       "<function matplotlib.pyplot.show(close=None, block=None)>"
      ]
     },
     "execution_count": 71,
     "metadata": {},
     "output_type": "execute_result"
    },
    {
     "data": {
      "image/png": "[encoded data removed]",
      "text/plain": [
       "<Figure size 720x576 with 1 Axes>"
      ]
     },
     "metadata": {
      "needs_background": "light"
     },
     "output_type": "display_data"
    }
   ],
   "source": [
    "plt.figure(figsize=(10,8))\n",
    "sns.countplot(x='exp_ordinal', data=wnba,)\n",
    "plt.show\n",
    "# Regular Count Plot"
   ]
  },
  {
   "cell_type": "code",
   "execution_count": 72,
   "id": "d6de09b9",
   "metadata": {},
   "outputs": [
    {
     "data": {
      "text/plain": [
       "<function matplotlib.pyplot.show(close=None, block=None)>"
      ]
     },
     "execution_count": 72,
     "metadata": {},
     "output_type": "execute_result"
    },
    {
     "data": {
      "image/png": "[encoded data removed]",
      "text/plain": [
       "<Figure size 720x576 with 1 Axes>"
      ]
     },
     "metadata": {
      "needs_background": "light"
     },
     "output_type": "display_data"
    }
   ],
   "source": [
    "plt.figure(figsize=(10,8))\n",
    "sns.countplot(x='exp_ordinal', hue ='Pos',data=wnba)\n",
    "plt.show"
   ]
  },
  {
   "cell_type": "code",
   "execution_count": 73,
   "id": "fd4efeb3",
   "metadata": {},
   "outputs": [],
   "source": [
    "labels = wnba.Pos.unique()"
   ]
  },
  {
   "cell_type": "code",
   "execution_count": 74,
   "id": "5f189871",
   "metadata": {},
   "outputs": [
    {
     "data": {
      "text/plain": [
       "array(['F', 'G/F', 'G', 'C', 'F/C'], dtype=object)"
      ]
     },
     "execution_count": 74,
     "metadata": {},
     "output_type": "execute_result"
    }
   ],
   "source": [
    "labels"
   ]
  },
  {
   "cell_type": "code",
   "execution_count": 75,
   "id": "07f55fba",
   "metadata": {},
   "outputs": [
    {
     "data": {
      "text/plain": [
       "496.97202797202794"
      ]
     },
     "execution_count": 75,
     "metadata": {},
     "output_type": "execute_result"
    }
   ],
   "source": [
    "wnba['MIN'].mean()"
   ]
  },
  {
   "cell_type": "code",
   "execution_count": 76,
   "id": "9ea07a9f",
   "metadata": {},
   "outputs": [
    {
     "data": {
      "text/plain": [
       "27.076923076923077"
      ]
     },
     "execution_count": 76,
     "metadata": {},
     "output_type": "execute_result"
    }
   ],
   "source": [
    "wnba['Age'].mean()"
   ]
  },
  {
   "cell_type": "code",
   "execution_count": 77,
   "id": "08366e37",
   "metadata": {},
   "outputs": [],
   "source": [
    "# hypothesis is that as they get older they get less and less physically fit. \n",
    "#Fitness level should directly effect the amount of mins a player plays"
   ]
  },
  {
   "cell_type": "code",
   "execution_count": 78,
   "id": "27a99189",
   "metadata": {},
   "outputs": [],
   "source": [
    "wnba['age_mean_relative'] = wnba['Age'].apply(lambda x: 'old' if x>=27 else 'young')"
   ]
  },
  {
   "cell_type": "code",
   "execution_count": 79,
   "id": "7d194494",
   "metadata": {},
   "outputs": [],
   "source": [
    "wnba['min_mean_relative'] = wnba['MIN'].apply(lambda x : 'avg or above' if x>=497 else 'below avg')"
   ]
  },
  {
   "cell_type": "code",
   "execution_count": 80,
   "id": "9ec46ef4",
   "metadata": {},
   "outputs": [
    {
     "data": {
      "text/html": [
       "<div>\n",
       "<style scoped>\n",
       "    .dataframe tbody tr th:only-of-type {\n",
       "        vertical-align: middle;\n",
       "    }\n",
       "\n",
       "    .dataframe tbody tr th {\n",
       "        vertical-align: top;\n",
       "    }\n",
       "\n",
       "    .dataframe thead th {\n",
       "        text-align: right;\n",
       "    }\n",
       "</style>\n",
       "<table border=\"1\" class=\"dataframe\">\n",
       "  <thead>\n",
       "    <tr style=\"text-align: right;\">\n",
       "      <th></th>\n",
       "      <th>Name</th>\n",
       "      <th>Team</th>\n",
       "      <th>Pos</th>\n",
       "      <th>Height</th>\n",
       "      <th>Weight</th>\n",
       "      <th>BMI</th>\n",
       "      <th>Birth_Place</th>\n",
       "      <th>Birthdate</th>\n",
       "      <th>Age</th>\n",
       "      <th>College</th>\n",
       "      <th>...</th>\n",
       "      <th>STL</th>\n",
       "      <th>BLK</th>\n",
       "      <th>TO</th>\n",
       "      <th>PTS</th>\n",
       "      <th>DD2</th>\n",
       "      <th>TD3</th>\n",
       "      <th>PTS_ordinal_scale</th>\n",
       "      <th>exp_ordinal</th>\n",
       "      <th>age_mean_relative</th>\n",
       "      <th>min_mean_relative</th>\n",
       "    </tr>\n",
       "  </thead>\n",
       "  <tbody>\n",
       "    <tr>\n",
       "      <th>0</th>\n",
       "      <td>Aerial Powers</td>\n",
       "      <td>DAL</td>\n",
       "      <td>F</td>\n",
       "      <td>183</td>\n",
       "      <td>71.0</td>\n",
       "      <td>21.200991</td>\n",
       "      <td>US</td>\n",
       "      <td>January 17, 1994</td>\n",
       "      <td>23</td>\n",
       "      <td>Michigan State</td>\n",
       "      <td>...</td>\n",
       "      <td>3</td>\n",
       "      <td>6</td>\n",
       "      <td>12</td>\n",
       "      <td>93</td>\n",
       "      <td>0</td>\n",
       "      <td>0</td>\n",
       "      <td>grade D</td>\n",
       "      <td>less experienced</td>\n",
       "      <td>young</td>\n",
       "      <td>below avg</td>\n",
       "    </tr>\n",
       "    <tr>\n",
       "      <th>1</th>\n",
       "      <td>Alana Beard</td>\n",
       "      <td>LA</td>\n",
       "      <td>G/F</td>\n",
       "      <td>185</td>\n",
       "      <td>73.0</td>\n",
       "      <td>21.329438</td>\n",
       "      <td>US</td>\n",
       "      <td>May 14, 1982</td>\n",
       "      <td>35</td>\n",
       "      <td>Duke</td>\n",
       "      <td>...</td>\n",
       "      <td>63</td>\n",
       "      <td>13</td>\n",
       "      <td>40</td>\n",
       "      <td>217</td>\n",
       "      <td>0</td>\n",
       "      <td>0</td>\n",
       "      <td>grade C</td>\n",
       "      <td>veteran</td>\n",
       "      <td>old</td>\n",
       "      <td>avg or above</td>\n",
       "    </tr>\n",
       "    <tr>\n",
       "      <th>2</th>\n",
       "      <td>Alex Bentley</td>\n",
       "      <td>CON</td>\n",
       "      <td>G</td>\n",
       "      <td>170</td>\n",
       "      <td>69.0</td>\n",
       "      <td>23.875433</td>\n",
       "      <td>US</td>\n",
       "      <td>October 27, 1990</td>\n",
       "      <td>26</td>\n",
       "      <td>Penn State</td>\n",
       "      <td>...</td>\n",
       "      <td>22</td>\n",
       "      <td>3</td>\n",
       "      <td>24</td>\n",
       "      <td>218</td>\n",
       "      <td>0</td>\n",
       "      <td>0</td>\n",
       "      <td>grade C</td>\n",
       "      <td>experienced</td>\n",
       "      <td>young</td>\n",
       "      <td>avg or above</td>\n",
       "    </tr>\n",
       "    <tr>\n",
       "      <th>3</th>\n",
       "      <td>Alex Montgomery</td>\n",
       "      <td>SAN</td>\n",
       "      <td>G/F</td>\n",
       "      <td>185</td>\n",
       "      <td>84.0</td>\n",
       "      <td>24.543462</td>\n",
       "      <td>US</td>\n",
       "      <td>December 11, 1988</td>\n",
       "      <td>28</td>\n",
       "      <td>Georgia Tech</td>\n",
       "      <td>...</td>\n",
       "      <td>20</td>\n",
       "      <td>10</td>\n",
       "      <td>38</td>\n",
       "      <td>188</td>\n",
       "      <td>2</td>\n",
       "      <td>0</td>\n",
       "      <td>grade C</td>\n",
       "      <td>very experienced</td>\n",
       "      <td>old</td>\n",
       "      <td>avg or above</td>\n",
       "    </tr>\n",
       "    <tr>\n",
       "      <th>4</th>\n",
       "      <td>Alexis Jones</td>\n",
       "      <td>MIN</td>\n",
       "      <td>G</td>\n",
       "      <td>175</td>\n",
       "      <td>78.0</td>\n",
       "      <td>25.469388</td>\n",
       "      <td>US</td>\n",
       "      <td>August 5, 1994</td>\n",
       "      <td>23</td>\n",
       "      <td>Baylor</td>\n",
       "      <td>...</td>\n",
       "      <td>7</td>\n",
       "      <td>0</td>\n",
       "      <td>14</td>\n",
       "      <td>50</td>\n",
       "      <td>0</td>\n",
       "      <td>0</td>\n",
       "      <td>grade E</td>\n",
       "      <td>fresher</td>\n",
       "      <td>young</td>\n",
       "      <td>below avg</td>\n",
       "    </tr>\n",
       "    <tr>\n",
       "      <th>5</th>\n",
       "      <td>Alexis Peterson</td>\n",
       "      <td>SEA</td>\n",
       "      <td>G</td>\n",
       "      <td>170</td>\n",
       "      <td>63.0</td>\n",
       "      <td>21.799308</td>\n",
       "      <td>US</td>\n",
       "      <td>June 20, 1995</td>\n",
       "      <td>22</td>\n",
       "      <td>Syracuse</td>\n",
       "      <td>...</td>\n",
       "      <td>5</td>\n",
       "      <td>0</td>\n",
       "      <td>11</td>\n",
       "      <td>26</td>\n",
       "      <td>0</td>\n",
       "      <td>0</td>\n",
       "      <td>grade E</td>\n",
       "      <td>fresher</td>\n",
       "      <td>young</td>\n",
       "      <td>below avg</td>\n",
       "    </tr>\n",
       "    <tr>\n",
       "      <th>6</th>\n",
       "      <td>Alexis Prince</td>\n",
       "      <td>PHO</td>\n",
       "      <td>G</td>\n",
       "      <td>188</td>\n",
       "      <td>81.0</td>\n",
       "      <td>22.917610</td>\n",
       "      <td>US</td>\n",
       "      <td>February 5, 1994</td>\n",
       "      <td>23</td>\n",
       "      <td>Baylor</td>\n",
       "      <td>...</td>\n",
       "      <td>4</td>\n",
       "      <td>3</td>\n",
       "      <td>3</td>\n",
       "      <td>24</td>\n",
       "      <td>0</td>\n",
       "      <td>0</td>\n",
       "      <td>grade E</td>\n",
       "      <td>fresher</td>\n",
       "      <td>young</td>\n",
       "      <td>below avg</td>\n",
       "    </tr>\n",
       "    <tr>\n",
       "      <th>7</th>\n",
       "      <td>Allie Quigley</td>\n",
       "      <td>CHI</td>\n",
       "      <td>G</td>\n",
       "      <td>178</td>\n",
       "      <td>64.0</td>\n",
       "      <td>20.199470</td>\n",
       "      <td>US</td>\n",
       "      <td>June 20, 1986</td>\n",
       "      <td>31</td>\n",
       "      <td>DePaul</td>\n",
       "      <td>...</td>\n",
       "      <td>20</td>\n",
       "      <td>13</td>\n",
       "      <td>59</td>\n",
       "      <td>442</td>\n",
       "      <td>0</td>\n",
       "      <td>0</td>\n",
       "      <td>grade A</td>\n",
       "      <td>very experienced</td>\n",
       "      <td>old</td>\n",
       "      <td>avg or above</td>\n",
       "    </tr>\n",
       "    <tr>\n",
       "      <th>8</th>\n",
       "      <td>Allisha Gray</td>\n",
       "      <td>DAL</td>\n",
       "      <td>G</td>\n",
       "      <td>185</td>\n",
       "      <td>76.0</td>\n",
       "      <td>22.205990</td>\n",
       "      <td>US</td>\n",
       "      <td>October 20, 1992</td>\n",
       "      <td>24</td>\n",
       "      <td>South Carolina</td>\n",
       "      <td>...</td>\n",
       "      <td>47</td>\n",
       "      <td>19</td>\n",
       "      <td>37</td>\n",
       "      <td>395</td>\n",
       "      <td>0</td>\n",
       "      <td>0</td>\n",
       "      <td>grade B</td>\n",
       "      <td>less experienced</td>\n",
       "      <td>young</td>\n",
       "      <td>avg or above</td>\n",
       "    </tr>\n",
       "    <tr>\n",
       "      <th>9</th>\n",
       "      <td>Allison Hightower</td>\n",
       "      <td>WAS</td>\n",
       "      <td>G</td>\n",
       "      <td>178</td>\n",
       "      <td>77.0</td>\n",
       "      <td>24.302487</td>\n",
       "      <td>US</td>\n",
       "      <td>June 4, 1988</td>\n",
       "      <td>29</td>\n",
       "      <td>LSU</td>\n",
       "      <td>...</td>\n",
       "      <td>5</td>\n",
       "      <td>0</td>\n",
       "      <td>2</td>\n",
       "      <td>36</td>\n",
       "      <td>0</td>\n",
       "      <td>0</td>\n",
       "      <td>grade E</td>\n",
       "      <td>experienced</td>\n",
       "      <td>old</td>\n",
       "      <td>below avg</td>\n",
       "    </tr>\n",
       "  </tbody>\n",
       "</table>\n",
       "<p>10 rows × 36 columns</p>\n",
       "</div>"
      ],
      "text/plain": [
       "                Name Team  Pos  Height  Weight        BMI Birth_Place  \\\n",
       "0      Aerial Powers  DAL    F     183    71.0  21.200991          US   \n",
       "1        Alana Beard   LA  G/F     185    73.0  21.329438          US   \n",
       "2       Alex Bentley  CON    G     170    69.0  23.875433          US   \n",
       "3    Alex Montgomery  SAN  G/F     185    84.0  24.543462          US   \n",
       "4       Alexis Jones  MIN    G     175    78.0  25.469388          US   \n",
       "5    Alexis Peterson  SEA    G     170    63.0  21.799308          US   \n",
       "6      Alexis Prince  PHO    G     188    81.0  22.917610          US   \n",
       "7      Allie Quigley  CHI    G     178    64.0  20.199470          US   \n",
       "8       Allisha Gray  DAL    G     185    76.0  22.205990          US   \n",
       "9  Allison Hightower  WAS    G     178    77.0  24.302487          US   \n",
       "\n",
       "           Birthdate  Age         College  ...  STL  BLK  TO  PTS  DD2  TD3  \\\n",
       "0   January 17, 1994   23  Michigan State  ...    3    6  12   93    0    0   \n",
       "1       May 14, 1982   35            Duke  ...   63   13  40  217    0    0   \n",
       "2   October 27, 1990   26      Penn State  ...   22    3  24  218    0    0   \n",
       "3  December 11, 1988   28    Georgia Tech  ...   20   10  38  188    2    0   \n",
       "4     August 5, 1994   23          Baylor  ...    7    0  14   50    0    0   \n",
       "5      June 20, 1995   22        Syracuse  ...    5    0  11   26    0    0   \n",
       "6   February 5, 1994   23          Baylor  ...    4    3   3   24    0    0   \n",
       "7      June 20, 1986   31          DePaul  ...   20   13  59  442    0    0   \n",
       "8   October 20, 1992   24  South Carolina  ...   47   19  37  395    0    0   \n",
       "9       June 4, 1988   29             LSU  ...    5    0   2   36    0    0   \n",
       "\n",
       "   PTS_ordinal_scale       exp_ordinal  age_mean_relative  min_mean_relative  \n",
       "0            grade D  less experienced              young          below avg  \n",
       "1            grade C           veteran                old       avg or above  \n",
       "2            grade C       experienced              young       avg or above  \n",
       "3            grade C  very experienced                old       avg or above  \n",
       "4            grade E           fresher              young          below avg  \n",
       "5            grade E           fresher              young          below avg  \n",
       "6            grade E           fresher              young          below avg  \n",
       "7            grade A  very experienced                old       avg or above  \n",
       "8            grade B  less experienced              young       avg or above  \n",
       "9            grade E       experienced                old          below avg  \n",
       "\n",
       "[10 rows x 36 columns]"
      ]
     },
     "execution_count": 80,
     "metadata": {},
     "output_type": "execute_result"
    }
   ],
   "source": [
    "wnba.head(10)"
   ]
  },
  {
   "cell_type": "code",
   "execution_count": 81,
   "id": "20333516",
   "metadata": {},
   "outputs": [],
   "source": [
    "# Testing Hypothesis"
   ]
  },
  {
   "cell_type": "code",
   "execution_count": 82,
   "id": "c4b97406",
   "metadata": {},
   "outputs": [
    {
     "data": {
      "image/png": "[encoded data removed]",
      "text/plain": [
       "<Figure size 432x288 with 1 Axes>"
      ]
     },
     "metadata": {
      "needs_background": "light"
     },
     "output_type": "display_data"
    }
   ],
   "source": [
    "sns.countplot(x='age_mean_relative', hue='min_mean_relative', data=wnba)\n",
    "plt.show()"
   ]
  },
  {
   "cell_type": "code",
   "execution_count": 83,
   "id": "5762ce52",
   "metadata": {},
   "outputs": [],
   "source": [
    "# Hypothesis Wrong \n",
    "# short coming of our hypothesis is that our min_mean_relative doesnt show much granularity. \n",
    "# Very less amount of variations of data\n",
    "# min_mean_relative is ordinal and was derived from MIN varibale which is on a ratio scale."
   ]
  },
  {
   "cell_type": "code",
   "execution_count": 84,
   "id": "c46fcd03",
   "metadata": {},
   "outputs": [
    {
     "data": {
      "image/png": "[encoded data removed]",
      "text/plain": [
       "<Figure size 432x288 with 1 Axes>"
      ]
     },
     "metadata": {
      "needs_background": "light"
     },
     "output_type": "display_data"
    }
   ],
   "source": [
    "wnba[wnba['Age']>= 27]['MIN'].plot.hist(label = 'old', legend=True)\n",
    "wnba[wnba['Age']< 27]['MIN'].plot.hist(label = 'young', legend=True)\n",
    "plt.show()"
   ]
  },
  {
   "cell_type": "code",
   "execution_count": 85,
   "id": "6379abeb",
   "metadata": {},
   "outputs": [
    {
     "data": {
      "image/png": "[encoded data removed]",
      "text/plain": [
       "<Figure size 432x288 with 1 Axes>"
      ]
     },
     "metadata": {
      "needs_background": "light"
     },
     "output_type": "display_data"
    }
   ],
   "source": [
    "wnba[wnba['Age']>= 27]['MIN'].plot.hist(label = 'old', legend=True, histtype='step')\n",
    "wnba[wnba['Age']< 27]['MIN'].plot.hist(label = 'young', legend=True, histtype='step')\n",
    "plt.show()"
   ]
  },
  {
   "cell_type": "code",
   "execution_count": 86,
   "id": "5287de78",
   "metadata": {},
   "outputs": [
    {
     "data": {
      "image/png": "[encoded data removed]",
      "text/plain": [
       "<Figure size 432x288 with 1 Axes>"
      ]
     },
     "metadata": {
      "needs_background": "light"
     },
     "output_type": "display_data"
    }
   ],
   "source": [
    "wnba[wnba['Age']>= 27]['MIN'].plot.hist(label = 'old', legend=True, histtype='step')\n",
    "wnba[wnba['Age']< 27]['MIN'].plot.hist(label = 'young', legend=True, histtype='step')\n",
    "plt.axvline(467, label='average_min', color = 'r')\n",
    "plt.legend()\n",
    "plt.show()"
   ]
  },
  {
   "cell_type": "code",
   "execution_count": 87,
   "id": "4ec2dd05",
   "metadata": {},
   "outputs": [
    {
     "data": {
      "image/png": "[encoded data removed]",
      "text/plain": [
       "<Figure size 432x288 with 1 Axes>"
      ]
     },
     "metadata": {
      "needs_background": "light"
     },
     "output_type": "display_data"
    }
   ],
   "source": [
    "# Kernel Density Plots\n",
    "wnba[wnba['Age']>= 27]['MIN'].plot.kde(label = 'old', legend=True)\n",
    "wnba[wnba['Age']< 27]['MIN'].plot.kde(label = 'young', legend=True)\n",
    "plt.axvline(467, label='average_min', color = 'r')\n",
    "plt.legend()\n",
    "plt.show()"
   ]
  },
  {
   "cell_type": "code",
   "execution_count": 88,
   "id": "914deaef",
   "metadata": {},
   "outputs": [],
   "source": [
    "# to compare more than two destributions kde plots may not ideal ones. \n",
    "# Grouped bar plots are ideal for nominal and ordinal scales\n",
    "# for ratio and interval scale kde plots are better"
   ]
  },
  {
   "cell_type": "code",
   "execution_count": 89,
   "id": "22cf2df7",
   "metadata": {},
   "outputs": [
    {
     "data": {
      "image/png": "[encoded data removed]",
      "text/plain": [
       "<Figure size 720x576 with 1 Axes>"
      ]
     },
     "metadata": {
      "needs_background": "light"
     },
     "output_type": "display_data"
    }
   ],
   "source": [
    "plt.figure(figsize=(10,8))\n",
    "wnba[wnba['Pos']=='F']['Height'].plot.kde(label='F', legend=True)\n",
    "wnba[wnba['Pos']=='C']['Height'].plot.kde(label='C', legend=True)\n",
    "wnba[wnba['Pos']=='G']['Height'].plot.kde(label='G', legend=True)\n",
    "wnba[wnba['Pos']=='G/F']['Height'].plot.kde(label='G/F', legend=True)\n",
    "wnba[wnba['Pos']=='F/C']['Height'].plot.kde(label='F/C', legend=True)\n",
    "plt.show()\n",
    "\n",
    "# Not ideal , very clumsy. "
   ]
  },
  {
   "cell_type": "code",
   "execution_count": 90,
   "id": "114966f2",
   "metadata": {},
   "outputs": [
    {
     "data": {
      "image/png": "[encoded data removed]",
      "text/plain": [
       "<Figure size 720x576 with 1 Axes>"
      ]
     },
     "metadata": {
      "needs_background": "light"
     },
     "output_type": "display_data"
    }
   ],
   "source": [
    "# We can use strip plots\n",
    "plt.figure(figsize=(10,8))\n",
    "sns.stripplot(x='Pos', y='Height', data=wnba)\n",
    "plt.show()"
   ]
  },
  {
   "cell_type": "code",
   "execution_count": 91,
   "id": "dfbd85a4",
   "metadata": {},
   "outputs": [
    {
     "data": {
      "image/png": "[encoded data removed]",
      "text/plain": [
       "<Figure size 720x576 with 1 Axes>"
      ]
     },
     "metadata": {
      "needs_background": "light"
     },
     "output_type": "display_data"
    }
   ],
   "source": [
    "# We can use strip plots\n",
    "plt.figure(figsize=(10,8))\n",
    "sns.stripplot(x='Pos', y='Height', data=wnba, jitter=False)\n",
    "plt.show()"
   ]
  },
  {
   "cell_type": "code",
   "execution_count": 92,
   "id": "bf1aca13",
   "metadata": {},
   "outputs": [
    {
     "data": {
      "image/png": "[encoded data removed]",
      "text/plain": [
       "<Figure size 720x576 with 1 Axes>"
      ]
     },
     "metadata": {
      "needs_background": "light"
     },
     "output_type": "display_data"
    }
   ],
   "source": [
    "plt.figure(figsize=(10,8))\n",
    "sns.stripplot(x='Pos', y='Weight', data=wnba, jitter=False)\n",
    "plt.show()"
   ]
  },
  {
   "cell_type": "code",
   "execution_count": 93,
   "id": "21c2980c",
   "metadata": {},
   "outputs": [
    {
     "data": {
      "image/png": "[encoded data removed]",
      "text/plain": [
       "<Figure size 720x576 with 1 Axes>"
      ]
     },
     "metadata": {
      "needs_background": "light"
     },
     "output_type": "display_data"
    }
   ],
   "source": [
    "plt.figure(figsize=(10,8))\n",
    "sns.stripplot(x='Height', y='Weight', data=wnba, jitter=False)\n",
    "plt.show()\n",
    "# shows a pattern of increase in height = increase in weight"
   ]
  },
  {
   "cell_type": "code",
   "execution_count": 94,
   "id": "913b0ad4",
   "metadata": {},
   "outputs": [
    {
     "data": {
      "image/png": "[encoded data removed]",
      "text/plain": [
       "<Figure size 720x576 with 1 Axes>"
      ]
     },
     "metadata": {
      "needs_background": "light"
     },
     "output_type": "display_data"
    }
   ],
   "source": [
    "plt.figure(figsize=(10,8))\n",
    "sns.boxplot(x='Pos', y='Height', data = wnba)\n",
    "plt.show()\n",
    "# the lines above and below the boxes are called whiskers . ie max and mins\n",
    "# Dots/Diamonds - represent the distribution of the values that are outisde the distributions or called the ouliers\n"
   ]
  },
  {
   "cell_type": "code",
   "execution_count": 95,
   "id": "ab9ab6ea",
   "metadata": {},
   "outputs": [
    {
     "data": {
      "text/plain": [
       "count     25.000000\n",
       "mean     194.920000\n",
       "std        4.132392\n",
       "min      185.000000\n",
       "25%      193.000000\n",
       "50%      193.000000\n",
       "75%      196.000000\n",
       "max      206.000000\n",
       "Name: Height, dtype: float64"
      ]
     },
     "execution_count": 95,
     "metadata": {},
     "output_type": "execute_result"
    }
   ],
   "source": [
    "wnba[wnba['Pos']=='C']['Height'].describe()"
   ]
  },
  {
   "cell_type": "code",
   "execution_count": 96,
   "id": "d098b365",
   "metadata": {},
   "outputs": [],
   "source": [
    "# bigger than 196 + 3*1.5\n",
    "# bigger than 200.5 was considered an outlier\n",
    "\n",
    "\n",
    "# lower than 196 - 3*1.5\n",
    "# lower than 188.5 was considered an outlier"
   ]
  },
  {
   "cell_type": "code",
   "execution_count": 97,
   "id": "947d7717",
   "metadata": {},
   "outputs": [
    {
     "data": {
      "image/png": "[encoded data removed]",
      "text/plain": [
       "<Figure size 720x576 with 1 Axes>"
      ]
     },
     "metadata": {
      "needs_background": "light"
     },
     "output_type": "display_data"
    }
   ],
   "source": [
    "plt.figure(figsize=(10,8))\n",
    "sns.boxplot(x='Pos', y='Height', data = wnba, whis=3)\n",
    "plt.show()\n",
    "# whis does it 3 times instead of 1.5 times"
   ]
  },
  {
   "cell_type": "code",
   "execution_count": null,
   "id": "30993caa",
   "metadata": {},
   "outputs": [],
   "source": []
  }
 ],
 "metadata": {
  "kernelspec": {
   "display_name": "Python 3 (ipykernel)",
   "language": "python",
   "name": "python3"
  },
  "language_info": {
   "codemirror_mode": {
    "name": "ipython",
    "version": 3
   },
   "file_extension": ".py",
   "mimetype": "text/x-python",
   "name": "python",
   "nbconvert_exporter": "python",
   "pygments_lexer": "ipython3",
   "version": "3.7.9"
  }
 },
 "nbformat": 4,
 "nbformat_minor": 5
}
